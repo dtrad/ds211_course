{
 "cells": [
  {
   "cell_type": "markdown",
   "metadata": {},
   "source": [
    "## Example of a program\n",
    "Create a program that tells you how many quarters, pennies and dimes you have to give as change for a given payment and bill\n"
   ]
  },
  {
   "cell_type": "code",
   "execution_count": 1,
   "metadata": {},
   "outputs": [],
   "source": [
    "# Create a program that tells you how many dollars, quarters, pennies and dimes you have to give as change for a given payment and bill amount.\n",
    "# The program should ask for the amount of the bill and the amount of the payment and then tell you how many quarters, pennies and dimes to give back.\n",
    "# For example, if the bill was $3.50 and the payment was $5.00, the program would tell you to give back 2 quarters, 1 dime and 0 pennies.\n",
    "# Hint: You will need to use the modulus operator to get the remainder of a division operation.\n",
    "# For example, 5 % 2 = 1 and 10 % 3 = 1\n",
    "# You will also need to use the floor division operator to get the integer result of a division operation.\n",
    "# For example, 5 // 2 = 2 and 10 // 3 = 3\n",
    "# You can use the math.floor() function to get the floor division of a number.\n",
    "\n",
    "def change():\n",
    "    bill = float(input('Enter the amount of the bill: '))\n",
    "    payment = float(input('Enter the amount of the payment: '))\n",
    "    change = payment - bill\n",
    "    print('Change: ', change)\n",
    "    loonies = math.floor(change)\n",
    "    print('Loonies: ', loonies)\n",
    "    quarters = math.floor((change - loonies) / 0.25)\n",
    "    print('Quarters: ', quarters)\n",
    "    dimes = math.floor((change - (loonies + quarters * 0.25)) / 0.10)\n",
    "    print('Dimes: ', dimes)\n",
    "    pennies = math.floor((change - (loonies + quarters * 0.25) - (dimes * 0.10)) / 0.01)\n",
    "    print('Pennies: ', pennies)\n",
    "    return loonies, quarters, dimes, pennies"
   ]
  },
  {
   "cell_type": "code",
   "execution_count": null,
   "metadata": {},
   "outputs": [],
   "source": [
    "# try the change function\n",
    "dollars, quarters, dimes, pennies = change()"
   ]
  }
 ],
 "metadata": {
  "kernelspec": {
   "display_name": "general",
   "language": "python",
   "name": "python3"
  },
  "language_info": {
   "codemirror_mode": {
    "name": "ipython",
    "version": 3
   },
   "file_extension": ".py",
   "mimetype": "text/x-python",
   "name": "python",
   "nbconvert_exporter": "python",
   "pygments_lexer": "ipython3",
   "version": "3.11.0"
  }
 },
 "nbformat": 4,
 "nbformat_minor": 2
}
