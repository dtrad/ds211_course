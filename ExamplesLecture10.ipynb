{
 "cells": [
  {
   "cell_type": "markdown",
   "metadata": {},
   "source": [
    "# Files\n"
   ]
  },
  {
   "cell_type": "code",
   "execution_count": 4,
   "metadata": {},
   "outputs": [
    {
     "name": "stdout",
     "output_type": "stream",
     "text": [
      "Current date and time : \n",
      "2024-02-14 11:30:29\n",
      "File created\n"
     ]
    }
   ],
   "source": [
    "''' create a file with the name of the current date and time'''\n",
    "'''get string with date and time'''\n",
    "import datetime\n",
    "now = datetime.datetime.now()\n",
    "toFile = now.strftime(\"%Y-%m-%d %H:%M:%S\") + \"\\n\"\n",
    "print (\"Current date and time : \")\n",
    "print (now.strftime(\"%Y-%m-%d %H:%M:%S\"))\n",
    "'''write date and time to file'''\n",
    "\n",
    "save_path = './'\n",
    "name_of_file = 'testfile'\n",
    "completeName = save_path + name_of_file + \".txt\"\n",
    "file1 = open(completeName, \"w\")\n",
    "file1.write(toFile)\n",
    "file1.close()\n",
    "print(\"File created\")\n"
   ]
  },
  {
   "cell_type": "code",
   "execution_count": 5,
   "metadata": {},
   "outputs": [],
   "source": [
    "# create a binary sequential access file\n",
    "import pickle\n",
    "output_file = open('info.dat', 'wb')\n",
    "data = [1, 2, 3, 4, 5]\n",
    "pickle.dump(data, output_file)\n",
    "output_file.close()\n"
   ]
  },
  {
   "cell_type": "code",
   "execution_count": 6,
   "metadata": {},
   "outputs": [
    {
     "name": "stdout",
     "output_type": "stream",
     "text": [
      "File created\n"
     ]
    }
   ],
   "source": [
    "# create a binary random access file\n",
    "import os\n",
    "import struct\n",
    "output_file = open('numbers.dat', 'wb')\n",
    "numbers = [1, 2, 3, 4, 5]\n",
    "for i in numbers:\n",
    "    data = struct.pack('i', i)\n",
    "    output_file.write(data)\n",
    "output_file.close()\n",
    "print(\"File created\")\n"
   ]
  },
  {
   "cell_type": "code",
   "execution_count": 7,
   "metadata": {},
   "outputs": [
    {
     "name": "stdout",
     "output_type": "stream",
     "text": [
      "2024-02-14 11:30:29\n",
      "\n"
     ]
    }
   ],
   "source": [
    "# open the testfile.txt file for reading only\n",
    "file1 = open('testfile.txt', 'r')\n",
    "# read the entire file\n",
    "print(file1.read())\n",
    "# close the file\n",
    "file1.close()\n"
   ]
  },
  {
   "cell_type": "code",
   "execution_count": 8,
   "metadata": {},
   "outputs": [
    {
     "name": "stdout",
     "output_type": "stream",
     "text": [
      "2024-02-14 11:30:29\n",
      "\n"
     ]
    },
    {
     "ename": "UnsupportedOperation",
     "evalue": "not writable",
     "output_type": "error",
     "traceback": [
      "\u001b[1;31m---------------------------------------------------------------------------\u001b[0m",
      "\u001b[1;31mUnsupportedOperation\u001b[0m                      Traceback (most recent call last)",
      "Cell \u001b[1;32mIn[8], line 6\u001b[0m\n\u001b[0;32m      4\u001b[0m \u001b[38;5;28mprint\u001b[39m(file1\u001b[38;5;241m.\u001b[39mread())\n\u001b[0;32m      5\u001b[0m \u001b[38;5;66;03m# try to write to the file\u001b[39;00m\n\u001b[1;32m----> 6\u001b[0m file1\u001b[38;5;241m.\u001b[39mwrite(\u001b[38;5;124m\"\u001b[39m\u001b[38;5;124mThis is a test\u001b[39m\u001b[38;5;124m\"\u001b[39m)\n\u001b[0;32m      7\u001b[0m \u001b[38;5;66;03m# close the file\u001b[39;00m\n\u001b[0;32m      8\u001b[0m file1\u001b[38;5;241m.\u001b[39mclose()\n",
      "\u001b[1;31mUnsupportedOperation\u001b[0m: not writable"
     ]
    }
   ],
   "source": [
    "# open the testfile.txt file for reading only but try to write to it to see what happens\n",
    "file1 = open('testfile.txt', 'r')\n",
    "# read the entire file\n",
    "print(file1.read())\n",
    "# try to write to the file\n",
    "file1.write(\"This is a test\")\n",
    "# close the file\n",
    "file1.close()\n"
   ]
  },
  {
   "cell_type": "code",
   "execution_count": 37,
   "metadata": {},
   "outputs": [
    {
     "name": "stdout",
     "output_type": "stream",
     "text": [
      "2024-02-13 18:25:40\n",
      "This is a test\n"
     ]
    }
   ],
   "source": [
    "# open the testfile.txt file for appending\n",
    "file1 = open('testfile.txt', 'a')\n",
    "# write to the file\n",
    "file1.write(\"This is a test\")\n",
    "# close the file\n",
    "file1.close()\n",
    "\n",
    "# read the file and print the contents\n",
    "file1 = open('testfile.txt', 'r')\n",
    "# read the entire file\n",
    "print(file1.read())\n",
    "# close the file\n",
    "file1.close()\n"
   ]
  },
  {
   "cell_type": "code",
   "execution_count": 38,
   "metadata": {},
   "outputs": [
    {
     "name": "stdout",
     "output_type": "stream",
     "text": [
      "2024-02-13 18:25:40\n",
      "This is a test\n",
      "THIS IS A TEST25:40\n",
      "This is a test\n"
     ]
    }
   ],
   "source": [
    "# make an example with seek\n",
    "# open the testfile.txt file for reading and writing\n",
    "file1 = open('testfile.txt', 'r+')\n",
    "# read the entire file\n",
    "print(file1.read())\n",
    "# move the file pointer to the beginning of the file\n",
    "file1.seek(0)\n",
    "# write to the file\n",
    "file1.write(\"THIS IS A TEST\")\n",
    "# close the file\n",
    "file1.close()\n",
    "# read the file and print the contents\n",
    "file1 = open('testfile.txt', 'r')\n",
    "# read the entire file\n",
    "print(file1.read())\n",
    "# close the file\n",
    "file1.close()\n"
   ]
  },
  {
   "cell_type": "code",
   "execution_count": 39,
   "metadata": {},
   "outputs": [
    {
     "name": "stdout",
     "output_type": "stream",
     "text": [
      "1\n",
      "2\n",
      "3\n",
      "4\n",
      "5\n",
      "6\n",
      "7\n",
      "8\n",
      "9\n",
      "10\n",
      "\n"
     ]
    }
   ],
   "source": [
    "''' create a file with numbers from 1 to 10\n",
    "each number should be on a new line'''\n",
    "file1 = open('numbers.txt', 'w')\n",
    "for i in range(1, 11):\n",
    "    file1.write(str(i) + \"\\n\")\n",
    "file1.close()\n",
    "# open the file for reading\n",
    "file1 = open('numbers.txt', 'r')\n",
    "# read the entire file\n",
    "print(file1.read())\n",
    "# close the file\n"
   ]
  },
  {
   "cell_type": "code",
   "execution_count": 40,
   "metadata": {},
   "outputs": [
    {
     "name": "stdout",
     "output_type": "stream",
     "text": [
      "55\n"
     ]
    }
   ],
   "source": [
    "# read the numbers from the file and sum them\n",
    "file1 = open('numbers.txt', 'r')\n",
    "total = 0\n",
    "for line in file1:\n",
    "    total += int(line)\n",
    "file1.close()\n",
    "print(total)\n"
   ]
  },
  {
   "cell_type": "code",
   "execution_count": 41,
   "metadata": {},
   "outputs": [
    {
     "name": "stdout",
     "output_type": "stream",
     "text": [
      "True\n"
     ]
    }
   ],
   "source": [
    "# check if the results is correct\n",
    "print(total == sum(range(1, 11)))\n"
   ]
  },
  {
   "cell_type": "code",
   "execution_count": null,
   "metadata": {},
   "outputs": [],
   "source": []
  }
 ],
 "metadata": {
  "kernelspec": {
   "display_name": "general",
   "language": "python",
   "name": "python3"
  },
  "language_info": {
   "codemirror_mode": {
    "name": "ipython",
    "version": 3
   },
   "file_extension": ".py",
   "mimetype": "text/x-python",
   "name": "python",
   "nbconvert_exporter": "python",
   "pygments_lexer": "ipython3",
   "version": "3.11.5"
  }
 },
 "nbformat": 4,
 "nbformat_minor": 2
}
