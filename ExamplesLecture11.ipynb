{
 "cells": [
  {
   "cell_type": "markdown",
   "metadata": {},
   "source": [
    "# Object Oriented Programming and Classes\n",
    "Let us see first a simple example of a class to get motivated\n"
   ]
  },
  {
   "cell_type": "code",
   "execution_count": 1,
   "metadata": {},
   "outputs": [
    {
     "name": "stdout",
     "output_type": "stream",
     "text": [
      "car braking\n",
      "I'm driving a blue car!\n",
      "I'm driving a red truck!\n",
      "truck braking\n"
     ]
    }
   ],
   "source": [
    "'''create a class example to mimic the behaviour of a general vehicle'''\n",
    "class Vehicle:\n",
    "    def __init__(self, color, doors, tires, vtype):\n",
    "        self.color = color\n",
    "        self.doors = doors\n",
    "        self.tires = tires\n",
    "        self.vtype = vtype\n",
    "    def brake(self):\n",
    "        return \"%s braking\" % self.vtype\n",
    "    def drive(self):\n",
    "        return \"I'm driving a %s %s!\" % (self.color, self.vtype)\n",
    "    \n",
    "if __name__ == \"__main__\":\n",
    "    car = Vehicle(\"blue\", 5, 4, \"car\")\n",
    "    print(car.brake())\n",
    "    print(car.drive())\n",
    "    truck = Vehicle(\"red\", 3, 6, \"truck\")\n",
    "    print(truck.drive())\n",
    "    print(truck.brake())\n",
    "    \n"
   ]
  },
  {
   "cell_type": "markdown",
   "metadata": {},
   "source": [
    "Object-oriented programming (OOP) is a programming paradigm based on the concept of \"objects,\" \\\n",
    "which can contain data (attributes) and code (methods).\n",
    "\n",
    "Python is an object-oriented programming language that fully supports OOP principles. The main principles of OOP are:\n"
   ]
  },
  {
   "cell_type": "markdown",
   "metadata": {},
   "source": [
    "## Encapsulation:\n",
    "\n",
    "- Encapsulation refers to the bundling of data and methods that operate on the data into a single unit, i.e., an object.\\\n",
    "- Objects hide their internal state and require interaction through well-defined interfaces (methods).\\\n",
    "- Encapsulation helps in achieving data abstraction and modularity, making the code more maintainable and scalable.\\\n"
   ]
  },
  {
   "cell_type": "code",
   "execution_count": 2,
   "metadata": {},
   "outputs": [
    {
     "name": "stdout",
     "output_type": "stream",
     "text": [
      "Toyota\n",
      "Car: Toyota Corolla\n"
     ]
    }
   ],
   "source": [
    "class Car:\n",
    "    def __init__(self, brand, model):\n",
    "        self.brand = brand\n",
    "        self.model = model\n",
    "\n",
    "    def display_info(self):\n",
    "        return f\"Car: {self.brand} {self.model}\"\n",
    "\n",
    "# Create an instance of the Car class\n",
    "my_car = Car(\"Toyota\", \"Corolla\")\n",
    "\n",
    "# Accessing attributes directly\n",
    "print(my_car.brand)  # Output: Toyota\n",
    "\n",
    "# Accessing attributes through a method\n",
    "print(my_car.display_info())  # Output: Car: Toyota Corolla\n"
   ]
  },
  {
   "cell_type": "markdown",
   "metadata": {},
   "source": [
    "## Abstraction:\n",
    "\n",
    "- Abstraction focuses on hiding the complex implementation details and exposing only the essential features of an object.\\\n",
    "- Objects provide a simplified interface for interacting with their data and behavior, hiding the underlying complexity.\\\n",
    "- Abstraction allows programmers to work at a higher level of understanding, making code easier to understand and maintain.\\"
   ]
  },
  {
   "cell_type": "code",
   "execution_count": 11,
   "metadata": {},
   "outputs": [
    {
     "name": "stdout",
     "output_type": "stream",
     "text": [
      "Area of the circle: 78.5\n"
     ]
    }
   ],
   "source": [
    "from abc import ABC, abstractmethod\n",
    "\n",
    "class Shape(ABC):\n",
    "    @abstractmethod\n",
    "    def area(self):\n",
    "        pass\n",
    "\n",
    "class Circle(Shape):\n",
    "    def __init__(self, radius):\n",
    "        self.radius = radius\n",
    "\n",
    "    def area(self):\n",
    "        return 3.14 * self.radius**2\n",
    "\n",
    "# Create an instance of the Circle class\n",
    "my_circle = Circle(5)\n",
    "\n",
    "# Calling the area method without worrying about its implementation\n",
    "print(\"Area of the circle:\", my_circle.area())  # Output: Area of the circle: 78.5\n"
   ]
  },
  {
   "cell_type": "markdown",
   "metadata": {},
   "source": [
    "## Inheritance:\n",
    "\n",
    "- Inheritance is a mechanism that allows a new class (subclass) to inherit properties and behavior (attributes and methods) from an existing class (superclass or parent class).\n",
    "- Subclasses can extend or modify the behavior of the superclass while inheriting its common attributes and methods.\n",
    "- Inheritance promotes code reusability and facilitates the creation of hierarchical relationships between classes."
   ]
  },
  {
   "cell_type": "code",
   "execution_count": 15,
   "metadata": {},
   "outputs": [
    {
     "name": "stdout",
     "output_type": "stream",
     "text": [
      "Dog says: Woof!\n",
      "Cat says: Meow!\n",
      "Running...\n",
      "Dog moves: None\n",
      "Moving...\n",
      "Cat moves: None\n"
     ]
    }
   ],
   "source": [
    "class Animal:\n",
    "    def speak(self):\n",
    "        pass\n",
    "    def move(self):\n",
    "        print(\"Moving...\")\n",
    "\n",
    "class Dog(Animal):\n",
    "    def speak(self):\n",
    "        return \"Woof!\"\n",
    "\n",
    "    def move(self):\n",
    "        print(\"Running...\")\n",
    "\n",
    "class Cat(Animal):\n",
    "    def speak(self):\n",
    "        return \"Meow!\"\n",
    "\n",
    "\n",
    "\n",
    "# Create instances of the Dog and Cat classes\n",
    "my_dog = Dog()\n",
    "my_cat = Cat()\n",
    "\n",
    "# Calling the speak method on instances of different subclasses\n",
    "print(\"Dog says:\", my_dog.speak())  # Output: Dog says: Woof!\n",
    "print(\"Cat says:\", my_cat.speak())  # Output: Cat says: Meow!\n",
    "print(\"Dog moves:\", my_dog.move())  # Output: Moving...\n",
    "print(\"Cat moves:\", my_cat.move())  # Output: Moving...\n"
   ]
  },
  {
   "cell_type": "markdown",
   "metadata": {},
   "source": [
    "## Polymorphism:\n",
    "\n",
    "- Polymorphism refers to the ability of objects to take on different forms or behave differently based on their context.\n",
    "- Polymorphism allows objects of different classes to be treated as objects of a common superclass through inheritance.\n",
    "- Method overriding and method overloading are common techniques used to achieve polymorphism in OOP languages like Python."
   ]
  },
  {
   "cell_type": "code",
   "execution_count": 16,
   "metadata": {},
   "outputs": [
    {
     "name": "stdout",
     "output_type": "stream",
     "text": [
      "Dog says: Woof!\n",
      "Cat says: Meow!\n"
     ]
    }
   ],
   "source": [
    "class Animal:\n",
    "    def speak(self):\n",
    "        pass\n",
    "\n",
    "class Dog(Animal):\n",
    "    def speak(self):\n",
    "        return \"Woof!\"\n",
    "\n",
    "class Cat(Animal):\n",
    "    def speak(self):\n",
    "        return \"Meow!\"\n",
    "\n",
    "# Function to make an animal speak\n",
    "def make_animal_speak(animal):\n",
    "    return animal.speak()\n",
    "\n",
    "# Create instances of the Dog and Cat classes\n",
    "my_dog = Dog()\n",
    "my_cat = Cat()\n",
    "\n",
    "# Calling the make_animal_speak function with different objects\n",
    "print(\"Dog says:\", make_animal_speak(my_dog))  # Output: Dog says: Woof!\n",
    "print(\"Cat says:\", make_animal_speak(my_cat))  # Output: Cat says: Meow!\n"
   ]
  },
  {
   "cell_type": "markdown",
   "metadata": {},
   "source": [
    "## Modularity:\n",
    "\n",
    "- Modularity emphasizes breaking down a system into smaller, manageable, and reusable components (modules or classes).\n",
    "- Each module or class encapsulates a specific functionality or responsibility, promoting code organization and maintainability.\n",
    "- Modularity allows for easier code reuse, testing, and collaboration among developers."
   ]
  },
  {
   "cell_type": "code",
   "execution_count": 17,
   "metadata": {},
   "outputs": [],
   "source": [
    "class Calculator:\n",
    "    @staticmethod\n",
    "    def add(x, y):\n",
    "        return x + y\n",
    "\n",
    "    @staticmethod\n",
    "    def subtract(x, y):\n",
    "        return x - y\n",
    "\n",
    "# Using the Calculator class to perform calculations\n",
    "result1 = Calculator.add(5, 3)  # Output: 8\n",
    "result2 = Calculator.subtract(10, 4)  # Output: 6\n"
   ]
  },
  {
   "cell_type": "markdown",
   "metadata": {},
   "source": [
    "OpenAI. (2024). ChatGPT (3.5) [Large language model]. https://chat.openai.com"
   ]
  },
  {
   "cell_type": "markdown",
   "metadata": {},
   "source": [
    "### Example: Polynomial plotting calculator\n",
    "Let us create an interesting class. We want to plot polynomials of any order."
   ]
  },
  {
   "cell_type": "code",
   "execution_count": 2,
   "metadata": {},
   "outputs": [],
   "source": [
    "'''create a class example to plot polynomials of any order using matplotlib'''\n",
    "import matplotlib.pyplot as plt\n",
    "class Polynomial:\n",
    "    def __init__(self, *coefficients):\n",
    "        self.coefficients = list(coefficients)\n",
    "\n",
    "    def __repr__(self):\n",
    "        print(\"polynomial of degree\", len(self.coefficients) - 1)\n",
    "        for index, coeff in enumerate(self.coefficients):\n",
    "            print(f\"{coeff}x^{index}\", end=\" \")\n",
    "        return \"\\n\"\n",
    "\n",
    "    def __call__(self, x):\n",
    "        res = 0\n",
    "        for index, coeff in enumerate(self.coefficients):\n",
    "            res += coeff * x** index\n",
    "        return res\n",
    "\n",
    "    def plot(self, start, end):\n",
    "        x = list(range(start, end + 1))\n",
    "        y = [self(x) for x in x]\n",
    "        plt.plot(x, y)\n",
    "        plt.show()\n",
    "\n"
   ]
  },
  {
   "cell_type": "code",
   "execution_count": 33,
   "metadata": {},
   "outputs": [
    {
     "name": "stdout",
     "output_type": "stream",
     "text": [
      "polynomial of degree 3\n",
      "2x^0 2x^1 2x^2 -0.3x^3 \n",
      "\n"
     ]
    },
    {
     "data": {
      "image/png": "[encoded data removed]",
      "text/plain": [
       "<Figure size 640x480 with 1 Axes>"
      ]
     },
     "metadata": {},
     "output_type": "display_data"
    }
   ],
   "source": [
    "# Create an instance of the Polynomial class\n",
    "p1 = Polynomial(2,2,2,-.3)\n",
    "print(p1)\n",
    "p1.plot(0, 10)"
   ]
  },
  {
   "cell_type": "code",
   "execution_count": 3,
   "metadata": {},
   "outputs": [
    {
     "name": "stdout",
     "output_type": "stream",
     "text": [
      "polynomial of degree 4\n",
      "1x^0 2x^1 3x^2 4x^3 5x^4 \n",
      "\n"
     ]
    },
    {
     "data": {
      "image/png": "[encoded data removed]",
      "text/plain": [
       "<Figure size 640x480 with 1 Axes>"
      ]
     },
     "metadata": {},
     "output_type": "display_data"
    }
   ],
   "source": [
    "p2 = Polynomial(1, 2, 3, 4, 5)\n",
    "print(p2)\n",
    "p2.plot(0, 10)"
   ]
  },
  {
   "cell_type": "code",
   "execution_count": 4,
   "metadata": {},
   "outputs": [
    {
     "name": "stdout",
     "output_type": "stream",
     "text": [
      "polynomial of degree 6\n",
      "1x^0 2x^1 -0.3x^2 4x^3 -0.5x^4 6x^5 -0.7x^6 \n",
      "\n"
     ]
    },
    {
     "data": {
      "image/png": "[encoded data removed]",
      "text/plain": [
       "<Figure size 640x480 with 1 Axes>"
      ]
     },
     "metadata": {},
     "output_type": "display_data"
    }
   ],
   "source": [
    "p3 = Polynomial(1, 2, -.3, 4, -.5, 6, -.7)\n",
    "print(p3)\n",
    "p3.plot(0, 10)"
   ]
  },
  {
   "cell_type": "markdown",
   "metadata": {},
   "source": [
    "### Example: creating a list class\n",
    "Notice that we are using the list object in python. If that object did not exists, this would be much longer\n"
   ]
  },
  {
   "cell_type": "code",
   "execution_count": 5,
   "metadata": {},
   "outputs": [
    {
     "name": "stdout",
     "output_type": "stream",
     "text": [
      "1\n",
      "2\n",
      "[1, 2, 3, 4, 5, 6]\n",
      "[1, 2, 3, 4, 5]\n",
      "[5, 4, 3, 2, 1]\n",
      "[1, 2, 3, 4, 5]\n",
      "5\n"
     ]
    }
   ],
   "source": [
    "'''create a class example to mimic the behaviour of a python list'''\n",
    "class MyList:\n",
    "    def __init__(self, *args):\n",
    "        self.data = list(args)\n",
    "\n",
    "    def __repr__(self):\n",
    "        return repr(self.data)\n",
    "\n",
    "    def __getitem__(self, index):\n",
    "        return self.data[index]\n",
    "\n",
    "    def __len__(self):\n",
    "        return len(self.data)\n",
    "\n",
    "    def append(self, value):\n",
    "        self.data.append(value)\n",
    "\n",
    "    def pop(self):\n",
    "        return self.data.pop()\n",
    "\n",
    "    def reverse(self):\n",
    "        self.data = self.data[::-1]\n",
    "\n",
    "    def sort(self):\n",
    "        self.data.sort()\n",
    "\n",
    "# Create an instance of the MyList class\n",
    "my_list = MyList(1, 2, 3, 4, 5)\n",
    "# Accessing elements using the __getitem__ method\n",
    "print(my_list[0])  # Output: 1\n",
    "print(my_list[1])  # Output: 2\n",
    "# Using the append method to add an element\n",
    "my_list.append(6)\n",
    "print(my_list)  # Output: [1, 2, 3, 4, 5, 6]\n",
    "# Using the pop method to remove an element\n",
    "my_list.pop()\n",
    "print(my_list)  # Output: [1, 2, 3, 4, 5]\n",
    "# Using the reverse method to reverse the list\n",
    "my_list.reverse()\n",
    "print(my_list)  # Output: [5, 4, 3, 2, 1]\n",
    "# Using the sort method to sort the list\n",
    "my_list.sort()\n",
    "print(my_list)  # Output: [1, 2, 3, 4, 5]\n",
    "# Using the len function to get the length of the list\n",
    "print(len(my_list))  # Output: 5\n"
   ]
  },
  {
   "cell_type": "code",
   "execution_count": 6,
   "metadata": {},
   "outputs": [
    {
     "data": {
      "text/plain": [
       "[5, 4, 3, 2]"
      ]
     },
     "execution_count": 6,
     "metadata": {},
     "output_type": "execute_result"
    }
   ],
   "source": [
    "my_list[4:0:-1]  # Output: [1, 2]"
   ]
  },
  {
   "cell_type": "code",
   "execution_count": 9,
   "metadata": {},
   "outputs": [
    {
     "name": "stdout",
     "output_type": "stream",
     "text": [
      "Directory(.)\n",
      ".git\n",
      ".gitignore\n",
      "CensusExercise_StubCode.py\n",
      "citizens.csv\n",
      "citizens0.csv\n",
      "classexample.py\n",
      "copilot.ipynb\n",
      "copilot.py\n",
      "DebugginExercise1Broken.py\n",
      "DebugginExercise1Fixed.py\n",
      "DebugginExercise2Broken.py\n",
      "DebugginExercise3Broken.py\n",
      "debugging.ipynb\n",
      "errorbar.ipynb\n",
      "ExamplesLecture10.ipynb\n",
      "ExamplesLecture11.ipynb\n",
      "ExamplesLecture2.ipynb\n",
      "ExamplesLecture3.ipynb\n",
      "ExamplesLecture4.ipynb\n",
      "ExamplesLecture5.ipynb\n",
      "ExamplesLecture6.ipynb\n",
      "ExamplesLecture7.ipynb\n",
      "ExamplesLecture8.ipynb\n",
      "ExamplesLecture9.ipynb\n",
      "ExamplesLecturePandas.ipynb\n",
      "funcexample.py\n",
      "functionexample.py\n",
      "images\n",
      "InClassExercises1.ipynb\n",
      "InClassExercises2.ipynb\n",
      "InClassExercises3.ipynb\n",
      "InClassExercises4.ipynb\n",
      "info.dat\n",
      "lecture0.ipynb\n",
      "numbers.bin\n",
      "numbers.dat\n",
      "numbers.txt\n",
      "NumpyIntro.ipynb\n",
      "PandasIntro.ipynb\n",
      "Practice2_IntroToPythonFull.ipynb\n",
      "README.md\n",
      "sgassign1btemplate.ipynb\n",
      "SimpleGraphics.py\n",
      "testfile.txt\n",
      "TypesSolved.ipynb\n",
      "VisualizationImages.ipynb\n",
      "yourtestpy.py\n",
      "yourtests.ipynb\n",
      "***************\n",
      "False\n",
      "False\n",
      ".git\n",
      ".gitignore\n",
      "CensusExercise_StubCode.py\n",
      "citizens.csv\n"
     ]
    }
   ],
   "source": [
    "''' create a class example to display the structure of a directory'''\n",
    "import os\n",
    "class Directory:\n",
    "    def __init__(self, path):\n",
    "        self.path = path\n",
    "\n",
    "    def __repr__(self):\n",
    "        return f\"Directory({self.path})\"\n",
    "\n",
    "    def __iter__(self):\n",
    "        return iter(os.listdir(self.path))\n",
    "\n",
    "    def __contains__(self, item):\n",
    "        return item in os.listdir(self.path)\n",
    "\n",
    "    def __getitem__(self, item):\n",
    "        return os.listdir(self.path)[item]\n",
    "    \n",
    "# Create an instance of the Directory class\n",
    "my_directory = Directory(\".\")\n",
    "\n",
    "# use the __repr__ method to display the structure of the directory\n",
    "print(my_directory)  # Output: Directory(.)\n",
    "\n",
    "# Iterating over the contents of the directory\n",
    "for item in my_directory:\n",
    "    print(item)\n",
    "\n",
    "print(\"***************\")\n",
    "\n",
    "# Checking if a file is present in the directory\n",
    "print(\"test.py\" in my_directory)  # Output: False\n",
    "print(\"main.py\" in my_directory)  # Output: True\n",
    "# Accessing elements using the __getitem__ method\n",
    "print(my_directory[0])  # Output: .git\n",
    "print(my_directory[1])  # Output: .idea\n",
    "print(my_directory[2])  # Output: .gitignore\n",
    "print(my_directory[3])  # Output: .gitignore"
   ]
  },
  {
   "cell_type": "markdown",
   "metadata": {},
   "source": [
    "## Class syntax in detail"
   ]
  },
  {
   "cell_type": "code",
   "execution_count": 10,
   "metadata": {},
   "outputs": [],
   "source": [
    "class ClassName:\n",
    "    # Class variables\n",
    "    value= 0\n",
    "    class_variable = value\n",
    "\n",
    "    # Constructor (optional)\n",
    "    def __init__(self, parameter1, parameter2):\n",
    "        self.instance_variable1 = parameter1\n",
    "        self.instance_variable2 = parameter2\n",
    "\n",
    "    # Instance methods\n",
    "    def method1(self):\n",
    "        # Method body\n",
    "        pass\n",
    "\n",
    "    def method2(self, parameter):\n",
    "        # Method body\n",
    "        pass\n",
    "\n",
    "    # Class methods (optional)\n",
    "    @classmethod\n",
    "    def class_method(cls):\n",
    "        # Method body\n",
    "        pass\n",
    "\n",
    "    # Static methods (optional)\n",
    "    @staticmethod\n",
    "    def static_method():\n",
    "        # Method body\n",
    "        pass\n"
   ]
  }
 ],
 "metadata": {
  "kernelspec": {
   "display_name": "general",
   "language": "python",
   "name": "python3"
  },
  "language_info": {
   "codemirror_mode": {
    "name": "ipython",
    "version": 3
   },
   "file_extension": ".py",
   "mimetype": "text/x-python",
   "name": "python",
   "nbconvert_exporter": "python",
   "pygments_lexer": "ipython3",
   "version": "3.11.8"
  }
 },
 "nbformat": 4,
 "nbformat_minor": 2
}
