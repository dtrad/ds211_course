{
 "cells": [
  {
   "cell_type": "markdown",
   "metadata": {},
   "source": [
    "## How do computers storage information?\n"
   ]
  },
  {
   "cell_type": "code",
   "execution_count": 60,
   "metadata": {},
   "outputs": [
    {
     "name": "stdout",
     "output_type": "stream",
     "text": [
      "Total RAM: 62.66 GB\n"
     ]
    }
   ],
   "source": [
    "import psutil\n",
    "\n",
    "def print_system_info():\n",
    "    # Get total RAM information\n",
    "    total_ram = psutil.virtual_memory().total\n",
    "    print(f\"Total RAM: {total_ram / (1024 ** 3):.2f} GB\")\n",
    "\n",
    "\n",
    "print_system_info()\n"
   ]
  },
  {
   "cell_type": "markdown",
   "metadata": {},
   "source": [
    "## Computers represent everything as groups of bits"
   ]
  },
  {
   "cell_type": "code",
   "execution_count": 1,
   "metadata": {},
   "outputs": [
    {
     "name": "stdout",
     "output_type": "stream",
     "text": [
      "Integer 42: 101010 (binary)\n",
      "Byte 65: 01000001 (binary)\n",
      "String 'Hello': 01001000 01100101 01101100 01101100 01101111 (binary)\n"
     ]
    }
   ],
   "source": [
    "def show_bits(value, type_name):\n",
    "    if type_name == 'int':\n",
    "        binary_representation = bin(value)[2:]\n",
    "        print(f\"Integer {value}: {binary_representation} (binary)\")\n",
    "    elif type_name == 'byte':\n",
    "        binary_representation = bin(value)[2:].zfill(8)\n",
    "        print(f\"Byte {value}: {binary_representation} (binary)\")\n",
    "    elif type_name == 'string':\n",
    "        byte_representation = value.encode('utf-8')\n",
    "        binary_representation = ' '.join(f'{b:08b}' for b in byte_representation)\n",
    "        print(f\"String '{value}': {binary_representation} (binary)\")\n",
    "\n",
    "# Example with integers\n",
    "integer_value = 42\n",
    "show_bits(integer_value, 'int')\n",
    "\n",
    "# Example with bytes\n",
    "byte_value = b'A'\n",
    "show_bits(byte_value[0], 'byte')\n",
    "\n",
    "# Example with strings\n",
    "string_value = \"Hello\"\n",
    "show_bits(string_value, 'string')\n"
   ]
  },
  {
   "cell_type": "markdown",
   "metadata": {},
   "source": [
    "## Memory locations for different variables"
   ]
  },
  {
   "cell_type": "code",
   "execution_count": 3,
   "metadata": {},
   "outputs": [
    {
     "name": "stdout",
     "output_type": "stream",
     "text": [
      "the object is 3 with type <class 'int'>\n",
      "a identifier is 94351342913416\n",
      "b identifier is 94351342913416\n",
      "a and b point to the same object--> True\n",
      "the variable a now points to a different place in memory 140417345495600\n",
      "the type of a now is <class 'str'>\n",
      "the object created by b=a, i. e.  3  still exists as is pointed by the variable b 94351342913416\n",
      "now the object does not exist\n"
     ]
    }
   ],
   "source": [
    "a=3   \n",
    "b=a\n",
    "print('the object is',a,'with type',type(a))\n",
    "print('a identifier is',id(a))\n",
    "print('b identifier is',id(b))  \n",
    "print('a and b point to the same object-->',a is b)\n",
    "\n",
    "a='two'\n",
    "print('the variable a now points to a different place in memory',id(a))\n",
    "print('the type of a now is',type(a))\n",
    "print('the object created by b=a, i. e. ', b, ' still exists as is pointed by the variable b',id(b))\n",
    "b='three'\n",
    "print('now the object does not exist')"
   ]
  },
  {
   "cell_type": "markdown",
   "metadata": {},
   "source": [
    "## Dynamic type language\n",
    "Python deduces the type from the data"
   ]
  },
  {
   "cell_type": "code",
   "execution_count": 7,
   "metadata": {},
   "outputs": [
    {
     "data": {
      "text/plain": [
       "(int, float)"
      ]
     },
     "execution_count": 7,
     "metadata": {},
     "output_type": "execute_result"
    }
   ],
   "source": [
    "x=3\n",
    "y=3.0\n",
    "type(x),type(y)\n"
   ]
  },
  {
   "cell_type": "code",
   "execution_count": 24,
   "metadata": {},
   "outputs": [
    {
     "name": "stdout",
     "output_type": "stream",
     "text": [
      "Size of int(): 24 bytes\n",
      "Size of float(): 24 bytes\n",
      "Size of bool(): 24 bytes\n",
      "Size of str(): 49 bytes\n",
      "Size of list(): 56 bytes\n",
      "Size of tuple(): 40 bytes\n",
      "Size of dict(): 64 bytes\n",
      "Size of set(): 216 bytes\n"
     ]
    }
   ],
   "source": [
    "import sys\n",
    "\n",
    "# Common built-in types\n",
    "integer_size = sys.getsizeof(int())\n",
    "float_size = sys.getsizeof(float())\n",
    "bool_size = sys.getsizeof(bool())\n",
    "string_size = sys.getsizeof(str())\n",
    "list_size = sys.getsizeof(list())\n",
    "tuple_size = sys.getsizeof(tuple())\n",
    "dict_size = sys.getsizeof(dict())\n",
    "set_size = sys.getsizeof(set())\n",
    "\n",
    "# Print the sizes\n",
    "print(f\"Size of int(): {integer_size} bytes\")\n",
    "print(f\"Size of float(): {float_size} bytes\")\n",
    "print(f\"Size of bool(): {bool_size} bytes\")\n",
    "print(f\"Size of str(): {string_size} bytes\")\n",
    "print(f\"Size of list(): {list_size} bytes\")\n",
    "print(f\"Size of tuple(): {tuple_size} bytes\")\n",
    "print(f\"Size of dict(): {dict_size} bytes\")\n",
    "print(f\"Size of set(): {set_size} bytes\")\n"
   ]
  },
  {
   "cell_type": "code",
   "execution_count": 25,
   "metadata": {},
   "outputs": [
    {
     "name": "stdout",
     "output_type": "stream",
     "text": [
      "Size of integer: 28 bytes\n",
      "Size of string: 62 bytes\n",
      "Size of list: 104 bytes\n",
      "Size of dictionary: 184 bytes\n",
      "Size of custom object: 184 bytes\n"
     ]
    }
   ],
   "source": [
    "import sys\n",
    "\n",
    "# Example objects\n",
    "integer_number = 42\n",
    "string_text = \"Hello, World!\"\n",
    "list_data = [1, 2, 3, 4, 5]\n",
    "dictionary_data = {'a': 1, 'b': 2, 'c': 3}\n",
    "custom_object = {'name': 'John', 'age': 30, 'city': 'New York'}\n",
    "\n",
    "# Get the size of each object\n",
    "size_integer = sys.getsizeof(integer_number)\n",
    "size_string = sys.getsizeof(string_text)\n",
    "size_list = sys.getsizeof(list_data)\n",
    "size_dict = sys.getsizeof(dictionary_data)\n",
    "size_custom_object = sys.getsizeof(custom_object)\n",
    "\n",
    "# Print the sizes\n",
    "print(f\"Size of integer: {size_integer} bytes\")\n",
    "print(f\"Size of string: {size_string} bytes\")\n",
    "print(f\"Size of list: {size_list} bytes\")\n",
    "print(f\"Size of dictionary: {size_dict} bytes\")\n",
    "print(f\"Size of custom object: {size_custom_object} bytes\")\n",
    "\n"
   ]
  },
  {
   "cell_type": "code",
   "execution_count": 26,
   "metadata": {},
   "outputs": [
    {
     "data": {
      "text/plain": [
       "(48, 8000104)"
      ]
     },
     "execution_count": 26,
     "metadata": {},
     "output_type": "execute_result"
    }
   ],
   "source": [
    "import numpy as np\n",
    "x=range(1,1000000)\n",
    "y=np.array(x)\n",
    "sys.getsizeof(x),sys.getsizeof(y)"
   ]
  },
  {
   "cell_type": "code",
   "execution_count": 28,
   "metadata": {},
   "outputs": [
    {
     "name": "stdout",
     "output_type": "stream",
     "text": [
      "Floating-point number: -0.0002589\n",
      "IEEE 754 representation: 1011111100110000111101111001111100001000011011100110001110001011\n"
     ]
    }
   ],
   "source": [
    "import struct\n",
    "\n",
    "def float_to_binary_ieee754(number):\n",
    "    # Pack the floating-point number into bytes using IEEE 754 format (double precision)\n",
    "    binary_representation = struct.pack('>d', number)\n",
    "    \n",
    "    # Convert each byte to its binary representation\n",
    "    binary_bytes = [format(byte, '08b') for byte in binary_representation]\n",
    "    \n",
    "    # Join the binary representations of individual bytes\n",
    "    ieee754_binary = ''.join(binary_bytes)\n",
    "    \n",
    "    return ieee754_binary\n",
    "\n",
    "# Example usage\n",
    "floating_point_number = -0.0002589\n",
    "ieee754_representation = float_to_binary_ieee754(floating_point_number)\n",
    "\n",
    "print(f\"Floating-point number: {floating_point_number}\")\n",
    "print(f\"IEEE 754 representation: {ieee754_representation}\")\n"
   ]
  },
  {
   "cell_type": "markdown",
   "metadata": {},
   "source": [
    "# ASCII code\n",
    "Let us print all the ascii codes"
   ]
  },
  {
   "cell_type": "code",
   "execution_count": 31,
   "metadata": {},
   "outputs": [
    {
     "name": "stdout",
     "output_type": "stream",
     "text": [
      "DEC\tHEX\tCHAR\n",
      "65 \t 0x41 \t A\n",
      "66 \t 0x42 \t B\n",
      "67 \t 0x43 \t C\n",
      "68 \t 0x44 \t D\n",
      "69 \t 0x45 \t E\n",
      "70 \t 0x46 \t F\n",
      "71 \t 0x47 \t G\n",
      "72 \t 0x48 \t H\n",
      "73 \t 0x49 \t I\n",
      "74 \t 0x4a \t J\n",
      "75 \t 0x4b \t K\n",
      "76 \t 0x4c \t L\n",
      "77 \t 0x4d \t M\n",
      "78 \t 0x4e \t N\n",
      "79 \t 0x4f \t O\n",
      "80 \t 0x50 \t P\n",
      "81 \t 0x51 \t Q\n",
      "82 \t 0x52 \t R\n",
      "83 \t 0x53 \t S\n",
      "84 \t 0x54 \t T\n",
      "85 \t 0x55 \t U\n",
      "86 \t 0x56 \t V\n",
      "87 \t 0x57 \t W\n",
      "88 \t 0x58 \t X\n",
      "89 \t 0x59 \t Y\n",
      "90 \t 0x5a \t Z\n",
      "91 \t 0x5b \t [\n",
      "92 \t 0x5c \t \\\n",
      "93 \t 0x5d \t ]\n",
      "94 \t 0x5e \t ^\n",
      "95 \t 0x5f \t _\n",
      "96 \t 0x60 \t `\n",
      "97 \t 0x61 \t a\n",
      "98 \t 0x62 \t b\n",
      "99 \t 0x63 \t c\n",
      "100 \t 0x64 \t d\n",
      "101 \t 0x65 \t e\n",
      "102 \t 0x66 \t f\n",
      "103 \t 0x67 \t g\n",
      "104 \t 0x68 \t h\n",
      "105 \t 0x69 \t i\n",
      "106 \t 0x6a \t j\n",
      "107 \t 0x6b \t k\n",
      "108 \t 0x6c \t l\n",
      "109 \t 0x6d \t m\n",
      "110 \t 0x6e \t n\n",
      "111 \t 0x6f \t o\n",
      "112 \t 0x70 \t p\n",
      "113 \t 0x71 \t q\n",
      "114 \t 0x72 \t r\n",
      "115 \t 0x73 \t s\n",
      "116 \t 0x74 \t t\n",
      "117 \t 0x75 \t u\n",
      "118 \t 0x76 \t v\n",
      "119 \t 0x77 \t w\n",
      "120 \t 0x78 \t x\n",
      "121 \t 0x79 \t y\n",
      "122 \t 0x7a \t z\n",
      "123 \t 0x7b \t {\n",
      "124 \t 0x7c \t |\n",
      "125 \t 0x7d \t }\n",
      "126 \t 0x7e \t ~\n"
     ]
    }
   ],
   "source": [
    "# write all the ASCII characters to the output in a table, with the decimal, hex, char\n",
    "print(\"DEC\\tHEX\\tCHAR\")\n",
    "for i in range(65, 127):\n",
    "    print(i, \"\\t\", hex(i), \"\\t\", chr(i))\n"
   ]
  },
  {
   "cell_type": "code",
   "execution_count": 38,
   "metadata": {},
   "outputs": [
    {
     "name": "stdout",
     "output_type": "stream",
     "text": [
      "DEC\tHEX\tCHAR\n",
      "224 \t 0xe0 \t à\n",
      "225 \t 0xe1 \t á\n",
      "226 \t 0xe2 \t â\n",
      "227 \t 0xe3 \t ã\n",
      "228 \t 0xe4 \t ä\n",
      "229 \t 0xe5 \t å\n",
      "230 \t 0xe6 \t æ\n",
      "231 \t 0xe7 \t ç\n",
      "232 \t 0xe8 \t è\n",
      "233 \t 0xe9 \t é\n",
      "234 \t 0xea \t ê\n",
      "235 \t 0xeb \t ë\n",
      "236 \t 0xec \t ì\n",
      "237 \t 0xed \t í\n",
      "238 \t 0xee \t î\n",
      "239 \t 0xef \t ï\n",
      "240 \t 0xf0 \t ð\n",
      "241 \t 0xf1 \t ñ\n",
      "242 \t 0xf2 \t ò\n",
      "243 \t 0xf3 \t ó\n",
      "244 \t 0xf4 \t ô\n",
      "245 \t 0xf5 \t õ\n",
      "246 \t 0xf6 \t ö\n",
      "247 \t 0xf7 \t ÷\n",
      "248 \t 0xf8 \t ø\n",
      "249 \t 0xf9 \t ù\n",
      "250 \t 0xfa \t ú\n",
      "251 \t 0xfb \t û\n",
      "252 \t 0xfc \t ü\n",
      "253 \t 0xfd \t ý\n",
      "254 \t 0xfe \t þ\n"
     ]
    }
   ],
   "source": [
    "# write the ascii codes for the accented characters\n",
    "print(\"DEC\\tHEX\\tCHAR\")\n",
    "for i in range(224, 255):\n",
    "    print(i, \"\\t\", hex(i), \"\\t\", chr(i))"
   ]
  },
  {
   "cell_type": "markdown",
   "metadata": {},
   "source": [
    "In Python, the int type can represent integers of arbitrary size, and there is no explicit distinction between short and long integers as in some other programming languages. However, we can try illustrating how integer size affects the resolution or precision when dealing with very large integers. Let's create an example that demonstrates the resolution limitation of integer types:"
   ]
  },
  {
   "cell_type": "code",
   "execution_count": 36,
   "metadata": {},
   "outputs": [
    {
     "name": "stdout",
     "output_type": "stream",
     "text": [
      "Short Integer (32-bit): 2147483647\n",
      "Long Integer: 10715086071862673209484250490600018105614048117055336074437503883703510511249361224931983788156958581275946729175531468251871452856923140435984577574698574803934567774824230985421074605062371141877954182153046474983581941267398767559165543946077062914571196477686542167660429831652624386837205668069376\n",
      "32\n",
      "32\n",
      "Short Integer Result: 2147483648\n",
      "Long Integer Result: 10715086071862673209484250490600018105614048117055336074437503883703510511249361224931983788156958581275946729175531468251871452856923140435984577574698574803934567774824230985421074605062371141877954182153046474983581941267398767559165543946077062914571196477686542167660429831652624386837205668069377\n"
     ]
    }
   ],
   "source": [
    "def resolution_limitation_example():\n",
    "    # Using a short integer (machine-sized int) and a long integer (arbitrary precision int)\n",
    "    short_integer = 2**31 - 1  # Maximum positive value for a 32-bit signed integer\n",
    "    long_integer = 2**1000    # A very large integer\n",
    "\n",
    "    # Print the values\n",
    "    print(f\"Short Integer (32-bit): {short_integer}\")\n",
    "    print(f\"Long Integer: {long_integer}\")\n",
    "\n",
    "    # Perform arithmetic operations\n",
    "    short_integer_result = short_integer + 1\n",
    "    long_integer_result = long_integer + 1\n",
    "\n",
    "    # Print the results\n",
    "    print(f\"Short Integer Result: {short_integer_result}\")\n",
    "    print(f\"Long Integer Result: {long_integer_result}\")\n",
    "\n",
    "# Run the example\n",
    "resolution_limitation_example()\n"
   ]
  },
  {
   "cell_type": "markdown",
   "metadata": {},
   "source": [
    "Additive and subtractive color models"
   ]
  },
  {
   "cell_type": "code",
   "execution_count": 44,
   "metadata": {},
   "outputs": [
    {
     "data": {
      "image/png": "[encoded data removed]",
      "text/plain": [
       "<Figure size 1200x100 with 7 Axes>"
      ]
     },
     "metadata": {},
     "output_type": "display_data"
    }
   ],
   "source": [
    "import matplotlib.pyplot as plt\n",
    "\n",
    "def additive_color_model():\n",
    "    # Primary colors in RGB\n",
    "    red = [1., 0., 0.]\n",
    "    green = [0., 1., 0.]\n",
    "    blue = [0., 0., 1.]\n",
    "\n",
    "    # Combine primary colors to create secondary colors\n",
    "    yellow = [1., 1., 0.]  # Red + Green\n",
    "    magenta = [1., 0., 1.]  # Red + Blue\n",
    "    cyan = [0., 1., 1.]  # Green + Blue\n",
    "\n",
    "    # Combine all primary colors to create white\n",
    "    white = [1., 1., 1.]  # Red + Green + Blue\n",
    "\n",
    "    # Plot the colors\n",
    "    colors = [red, green, blue, yellow, magenta, cyan, white]\n",
    "    names = ['Red', 'Green', 'Blue', 'Yellow', 'Magenta', 'Cyan', 'White']\n",
    "\n",
    "    fig, axes = plt.subplots(1, len(colors), figsize=(12, 1))\n",
    "\n",
    "    for ax, color, name in zip(axes, colors, names):\n",
    "        ax.imshow([[color]], extent=(0, 1, 0, 1), aspect='auto')\n",
    "        ax.set_title(name)\n",
    "        ax.axis('off')\n",
    "\n",
    "    plt.show()\n",
    "\n",
    "# Run the example for the additive color model\n",
    "additive_color_model()\n"
   ]
  },
  {
   "cell_type": "code",
   "execution_count": 51,
   "metadata": {},
   "outputs": [
    {
     "data": {
      "image/png": "[encoded data removed]",
      "text/plain": [
       "<Figure size 1200x100 with 7 Axes>"
      ]
     },
     "metadata": {},
     "output_type": "display_data"
    }
   ],
   "source": [
    "# create a plot with the subtractive color model\n",
    "import matplotlib.pyplot as plt\n",
    "def subtractive_color_model():\n",
    "    # Primary colors in CMY\n",
    "    cyan = [0., 1., 1.]\n",
    "    magenta = [1., 0., 1.]\n",
    "    yellow = [1., 1., 0.]\n",
    "\n",
    "    # Combine primary colors to create secondary colors\n",
    "    red = [1., 0., 0.]  # Magenta + Yellow\n",
    "    green = [0., 1., 0.]  # Cyan + Yellow\n",
    "    blue = [0., 0., 1.]  # Cyan + Magenta\n",
    "\n",
    "    # Combine all primary colors to create black\n",
    "    black = [0., 0., 0.]  # Cyan + Magenta + Yellow\n",
    "\n",
    "    # Plot the colors\n",
    "    colors = [cyan, magenta, yellow, red, green, blue, black]\n",
    "    names = ['Cyan', 'Magenta', 'Yellow', 'Red', 'Green', 'Blue', 'Black']\n",
    "\n",
    "    fig, axes = plt.subplots(1, len(colors), figsize=(12, 1))\n",
    "\n",
    "    for ax, color, name in zip(axes, colors, names):\n",
    "        ax.imshow([[color]], extent=(0, 1, 0, 1), aspect='auto')\n",
    "        ax.set_title(name)\n",
    "        ax.axis('off')\n",
    "\n",
    "    plt.show()\n",
    "\n",
    "subtractive_color_model()"
   ]
  },
  {
   "cell_type": "markdown",
   "metadata": {},
   "source": [
    "# example of raster image\n"
   ]
  },
  {
   "cell_type": "code",
   "execution_count": 52,
   "metadata": {},
   "outputs": [
    {
     "name": "stdout",
     "output_type": "stream",
     "text": [
      "Raster image saved to: solid_red_image_matplotlib.png\n"
     ]
    },
    {
     "data": {
      "image/png": "[encoded data removed]",
      "text/plain": [
       "<Figure size 300x200 with 1 Axes>"
      ]
     },
     "metadata": {},
     "output_type": "display_data"
    }
   ],
   "source": [
    "import matplotlib.pyplot as plt\n",
    "import numpy as np\n",
    "\n",
    "def create_raster_image(width, height, color, output_file):\n",
    "    # Create an array with the specified color\n",
    "    image_data = np.full((height, width, 3), color, dtype=np.uint8)\n",
    "\n",
    "    # Create a figure and axis\n",
    "    fig, ax = plt.subplots(figsize=(width / 100, height / 100), dpi=100)\n",
    "\n",
    "    # Display the image without axis ticks\n",
    "    ax.imshow(image_data)\n",
    "    ax.axis('off')\n",
    "\n",
    "    # Save the figure to a file\n",
    "    plt.savefig(output_file, bbox_inches='tight', pad_inches=0)\n",
    "    print(f\"Raster image saved to: {output_file}\")\n",
    "\n",
    "# Example usage\n",
    "width = 300\n",
    "height = 200\n",
    "background_color = [255, 0, 0]  # Red color in RGB format\n",
    "output_filename = \"solid_red_image_matplotlib.png\"\n",
    "\n",
    "create_raster_image(width, height, background_color, output_filename)\n"
   ]
  }
 ],
 "metadata": {
  "kernelspec": {
   "display_name": "general",
   "language": "python",
   "name": "python3"
  },
  "language_info": {
   "codemirror_mode": {
    "name": "ipython",
    "version": 3
   },
   "file_extension": ".py",
   "mimetype": "text/x-python",
   "name": "python",
   "nbconvert_exporter": "python",
   "pygments_lexer": "ipython3",
   "version": "3.11.0"
  }
 },
 "nbformat": 4,
 "nbformat_minor": 2
}
