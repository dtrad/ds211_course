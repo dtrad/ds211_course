{
 "cells": [
  {
   "cell_type": "markdown",
   "metadata": {},
   "source": [
    "# Decisions\n",
    "One the simple by critical task that a computer can do is decisions\n"
   ]
  },
  {
   "cell_type": "code",
   "execution_count": 1,
   "metadata": {},
   "outputs": [
    {
     "name": "stdout",
     "output_type": "stream",
     "text": [
      "Condition is true\n"
     ]
    }
   ],
   "source": [
    "condition = True\n",
    "if (condition==True):\n",
    "    print(\"Condition is true\")"
   ]
  },
  {
   "cell_type": "code",
   "execution_count": 3,
   "metadata": {},
   "outputs": [
    {
     "name": "stdout",
     "output_type": "stream",
     "text": [
      "Condition is true\n",
      "Condition is true\n",
      "Condition is true\n"
     ]
    }
   ],
   "source": [
    "if (True):\n",
    "    print(\"Condition is true\")\n",
    "\n",
    "if (1):\n",
    "    print(\"Condition is true\")\n",
    "\n",
    "if (0.00001):\n",
    "    print(\"Condition is true\")\n",
    "\n"
   ]
  },
  {
   "cell_type": "markdown",
   "metadata": {},
   "source": [
    "# Logical operations\n",
    "Build a table to illustrate the results for all logical gates. In the vertical put the inputs and the horizontal all the outputs for different logical operations"
   ]
  },
  {
   "cell_type": "code",
   "execution_count": 15,
   "metadata": {},
   "outputs": [],
   "source": [
    "\n",
    "# Define input values\n",
    "inputs = [(0, 0), (0, 1), (1, 0), (1, 1)]\n",
    "\n",
    "# Define logical gate functions\n",
    "def logical_and(x, y):\n",
    "    return x and y\n",
    "\n",
    "def logical_or(x, y):\n",
    "    return x or y\n",
    "\n",
    "def logical_xor(x, y):\n",
    "    return x != y\n",
    "\n",
    "def logical_not(x):\n",
    "    return not x"
   ]
  },
  {
   "cell_type": "code",
   "execution_count": 16,
   "metadata": {},
   "outputs": [
    {
     "name": "stdout",
     "output_type": "stream",
     "text": [
      "x y AND OR XOR NOT x NOT y\n",
      "(0, 0) --> 0 0 False True True\n",
      "(0, 1) --> 0 1 True True False\n",
      "(1, 0) --> 0 1 True False True\n",
      "(1, 1) --> 1 1 False False False\n"
     ]
    }
   ],
   "source": [
    "# print the labels on top\n",
    "print('x','y','AND','OR','XOR','NOT x','NOT y')\n",
    "for i in inputs:\n",
    "    print(i,'-->',logical_and(i[0], i[1]),logical_or(i[0], i[1]),logical_xor(i[0], i[1]),logical_not(i[0]),logical_not(i[1]))"
   ]
  }
 ],
 "metadata": {
  "kernelspec": {
   "display_name": "general",
   "language": "python",
   "name": "python3"
  },
  "language_info": {
   "codemirror_mode": {
    "name": "ipython",
    "version": 3
   },
   "file_extension": ".py",
   "mimetype": "text/x-python",
   "name": "python",
   "nbconvert_exporter": "python",
   "pygments_lexer": "ipython3",
   "version": "3.9.5"
  }
 },
 "nbformat": 4,
 "nbformat_minor": 2
}
