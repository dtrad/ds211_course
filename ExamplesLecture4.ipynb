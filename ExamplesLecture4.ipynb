{
 "cells": [
  {
   "cell_type": "markdown",
   "metadata": {},
   "source": [
    "# Decisions\n",
    "One the simple by critical task that a computer can do is decisions\n"
   ]
  },
  {
   "cell_type": "code",
   "execution_count": 3,
   "metadata": {},
   "outputs": [
    {
     "name": "stdout",
     "output_type": "stream",
     "text": [
      "Condition is true\n"
     ]
    }
   ],
   "source": [
    "condition = True\n",
    "if (condition==True):\n",
    "    print(\"Condition is true\")"
   ]
  },
  {
   "cell_type": "code",
   "execution_count": 4,
   "metadata": {},
   "outputs": [
    {
     "name": "stdout",
     "output_type": "stream",
     "text": [
      "Condition is true\n",
      "Condition is true\n",
      "Condition is true\n"
     ]
    }
   ],
   "source": [
    "if (True):\n",
    "    print(\"Condition is true\")\n",
    "\n",
    "if (1):\n",
    "    print(\"Condition is true\")\n",
    "\n",
    "if (0.00001):\n",
    "    print(\"Condition is true\")\n",
    "\n"
   ]
  },
  {
   "cell_type": "markdown",
   "metadata": {},
   "source": [
    "# Logical operations\n",
    "Build a table to illustrate the results for all logical gates. In the vertical put the inputs and the horizontal all the outputs for different logical operations"
   ]
  },
  {
   "cell_type": "code",
   "execution_count": 5,
   "metadata": {},
   "outputs": [],
   "source": [
    "\n",
    "# Define input values\n",
    "inputs = [(0, 0), (0, 1), (1, 0), (1, 1)]\n",
    "\n",
    "# Define logical gate functions\n",
    "def logical_and(x, y):\n",
    "    return x and y\n",
    "\n",
    "def logical_or(x, y):\n",
    "    return x or y\n",
    "\n",
    "def logical_xor(x, y):\n",
    "    return x != y\n",
    "\n",
    "def logical_not(x):\n",
    "    return not x"
   ]
  },
  {
   "cell_type": "code",
   "execution_count": 6,
   "metadata": {},
   "outputs": [
    {
     "name": "stdout",
     "output_type": "stream",
     "text": [
      "x y AND OR XOR NOT x NOT y\n",
      "(0, 0) --> 0 0 False True True\n",
      "(0, 1) --> 0 1 True True False\n",
      "(1, 0) --> 0 1 True False True\n",
      "(1, 1) --> 1 1 False False False\n"
     ]
    }
   ],
   "source": [
    "# print the labels on top\n",
    "print('x','y','AND','OR','XOR','NOT x','NOT y')\n",
    "for i in inputs:\n",
    "    print(i,'-->',logical_and(i[0], i[1]),logical_or(i[0], i[1]),logical_xor(i[0], i[1]),logical_not(i[0]),logical_not(i[1]))"
   ]
  },
  {
   "cell_type": "code",
   "execution_count": 7,
   "metadata": {},
   "outputs": [
    {
     "name": "stdout",
     "output_type": "stream",
     "text": [
      "0\n",
      "True\n",
      "True\n",
      "False\n"
     ]
    }
   ],
   "source": [
    "# implement a xor using and, or, not\n",
    "def logical_xor2(x, y):\n",
    "    return logical_and(logical_or(x, y), logical_not(logical_and(x, y)))\n",
    "# test it\n",
    "print(logical_xor2(0, 0))\n",
    "print(logical_xor2(0, 1))\n",
    "print(logical_xor2(1, 0))\n",
    "print(logical_xor2(1, 1))\n"
   ]
  },
  {
   "cell_type": "code",
   "execution_count": 12,
   "metadata": {},
   "outputs": [
    {
     "name": "stdout",
     "output_type": "stream",
     "text": [
      "True\n",
      "True\n"
     ]
    }
   ],
   "source": [
    "age = 35\n",
    "MIDDLE_AGED_ADULT = 35\n",
    "OLDER_ADULT = 55\n",
    "print(MIDDLE_AGED_ADULT <= age < OLDER_ADULT)\n",
    "print(age >= MIDDLE_AGED_ADULT and age < OLDER_ADULT)\n"
   ]
  },
  {
   "cell_type": "code",
   "execution_count": 9,
   "metadata": {},
   "outputs": [
    {
     "name": "stdout",
     "output_type": "stream",
     "text": [
      "True\n"
     ]
    }
   ],
   "source": [
    "w = 3 + 4 * 5 < 3 * 4 + 5 or 1 / 2 != 0\n",
    "print(w)"
   ]
  },
  {
   "cell_type": "code",
   "execution_count": 13,
   "metadata": {},
   "outputs": [
    {
     "name": "stdout",
     "output_type": "stream",
     "text": [
      "False True True\n"
     ]
    }
   ],
   "source": [
    "a=3 + 4 * 5 < 3 * 4 + 5\n",
    "b=1 / 2 != 0\n",
    "c=a or b\n",
    "print(a, b, c)"
   ]
  },
  {
   "cell_type": "code",
   "execution_count": 16,
   "metadata": {},
   "outputs": [
    {
     "name": "stdout",
     "output_type": "stream",
     "text": [
      "False False False\n"
     ]
    }
   ],
   "source": [
    "a=(3 + 4 * 5) < (3 * 4 + 5)\n",
    "b=1 // 2 != 0\n",
    "c=a or b\n",
    "print(a, b, c)"
   ]
  },
  {
   "cell_type": "code",
   "execution_count": 17,
   "metadata": {},
   "outputs": [
    {
     "name": "stdout",
     "output_type": "stream",
     "text": [
      "5\n"
     ]
    }
   ],
   "source": [
    "a = False\n",
    "b = False\n",
    "c = True\n",
    "x = 5\n",
    "\n",
    "if a or b and c or 1 < x and x < 10:\n",
    "    print(x)\n"
   ]
  },
  {
   "cell_type": "code",
   "execution_count": 19,
   "metadata": {},
   "outputs": [
    {
     "name": "stdout",
     "output_type": "stream",
     "text": [
      "True\n",
      "True\n",
      "True\n"
     ]
    }
   ],
   "source": [
    "print(a or b and c or 1 < x and x < 10)\n",
    "print(((a or b) and c) or (1 < x) and (x < 10))\n",
    "print((a or (b and c)) or (1 < x) and (x < 10))\n"
   ]
  },
  {
   "cell_type": "code",
   "execution_count": 1,
   "metadata": {},
   "outputs": [
    {
     "name": "stdout",
     "output_type": "stream",
     "text": [
      "a is less than b\n",
      "a is less than c\n",
      "a is less than b and c\n",
      "a is less than b and c\n",
      "a is less than b\n"
     ]
    }
   ],
   "source": [
    "# illustrate indentation is important\n",
    "a = 1\n",
    "b = 2\n",
    "c = 3\n",
    "if a < b:\n",
    "    print('a is less than b')\n",
    "    if a < c:\n",
    "        print('a is less than c')\n",
    "        print('a is less than b and c')\n",
    "    print('a is less than b and c')\n",
    "print('a is less than b')\n"
   ]
  },
  {
   "cell_type": "code",
   "execution_count": null,
   "metadata": {},
   "outputs": [],
   "source": [
    "# illustrate if-else with multiple statements\n",
    "x = 5\n",
    "if x < 10:\n",
    "    print('Smaller')\n",
    "    print('Still smaller')\n",
    "else:\n",
    "    print('Bigger')\n",
    "print('Done')"
   ]
  },
  {
   "cell_type": "code",
   "execution_count": 22,
   "metadata": {},
   "outputs": [
    {
     "name": "stdout",
     "output_type": "stream",
     "text": [
      "x is greater than y\n",
      "x is not greater than z\n"
     ]
    }
   ],
   "source": [
    "# create an example of nested if statements\n",
    "x = 15\n",
    "y = 10\n",
    "z = 22\n",
    "if x > y:\n",
    "    print(\"x is greater than y\")\n",
    "    if x > z:\n",
    "        print(\"x is greater than z\")\n",
    "    else:\n",
    "        print(\"x is not greater than z\")\n",
    "else:\n",
    "    print(\"x is not greater than y\")\n"
   ]
  },
  {
   "cell_type": "code",
   "execution_count": 20,
   "metadata": {},
   "outputs": [
    {
     "name": "stdout",
     "output_type": "stream",
     "text": [
      "The numeric value is 4.0\n"
     ]
    }
   ],
   "source": [
    "#   Write a program to convert a letter grade to GPA.\n",
    "#   Prompt the user to enter a letter grade 'A' through 'D'.\n",
    "x = input(\"Enter a letter grade: \")\n",
    "if x == 'A' or x == 'a':\n",
    "    print(\"The numeric value is 4.0\")\n",
    "elif x == 'B' or x == 'b':\n",
    "    print(\"The numeric value is 3.0\")\n",
    "elif x == 'C' or x == 'c':\n",
    "    print(\"The numeric value is 2.0\")\n",
    "elif x == 'D' or x == 'd':\n",
    "    print(\"The numeric value is 1.0\")\n",
    "else:\n",
    "    print(\"The numeric value is 0.0\")"
   ]
  }
 ],
 "metadata": {
  "kernelspec": {
   "display_name": "general",
   "language": "python",
   "name": "python3"
  },
  "language_info": {
   "codemirror_mode": {
    "name": "ipython",
    "version": 3
   },
   "file_extension": ".py",
   "mimetype": "text/x-python",
   "name": "python",
   "nbconvert_exporter": "python",
   "pygments_lexer": "ipython3",
   "version": "3.9.5"
  }
 },
 "nbformat": 4,
 "nbformat_minor": 2
}
