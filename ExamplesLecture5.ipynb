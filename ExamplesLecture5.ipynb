{
 "cells": [
  {
   "cell_type": "markdown",
   "metadata": {},
   "source": [
    "## Examples Lecture 5 \n",
    "## Repetitions"
   ]
  },
  {
   "cell_type": "markdown",
   "metadata": {},
   "source": [
    "## Loops\n",
    "\n",
    "Python has two main types of loop, `while` and `for`. \n",
    "\n",
    "### While loops\n",
    "\n",
    "Evaluate the condition at the top of the loop and if it is true, execute the body\n",
    "\n",
    "Typical form\n",
    "```python\n",
    "while <test>:\n",
    "    <statements>\n",
    "```"
   ]
  },
  {
   "cell_type": "code",
   "execution_count": 4,
   "metadata": {},
   "outputs": [
    {
     "name": "stdout",
     "output_type": "stream",
     "text": [
      "1,2,3,4,5,6,7,8,9,10,"
     ]
    }
   ],
   "source": [
    "a = 0\n",
    "while True:\n",
    "    a = a + 1\n",
    "    if a > 10:\n",
    "        break\n",
    "    print(a, end=\",\"),"
   ]
  },
  {
   "cell_type": "markdown",
   "metadata": {},
   "source": [
    "The `break`, `continue` and `pass` keywords will also modify control flow within a `while` loop. \n",
    "`break` exits the loop\n",
    "`continue` skips the rest of the current loop but continues with the next one.\n",
    "`pass` does nothing inside the loop.\n",
    "They are useful, but can obfuscate your code so use them sparingly!\n"
   ]
  },
  {
   "cell_type": "code",
   "execution_count": 14,
   "metadata": {},
   "outputs": [
    {
     "name": "stdout",
     "output_type": "stream",
     "text": [
      "Average:  15.0\n"
     ]
    }
   ],
   "source": [
    "# Calculate the average of numbers entered by the user until the user enters 0\n",
    "sum = 0\n",
    "count = 0\n",
    "while True:\n",
    "    number = int(input(\"Enter a number: \"))\n",
    "    if number == 0:\n",
    "        break\n",
    "    sum += number\n",
    "    count += 1\n",
    "print(\"Average: \", sum / count)"
   ]
  },
  {
   "cell_type": "code",
   "execution_count": 15,
   "metadata": {},
   "outputs": [
    {
     "name": "stdout",
     "output_type": "stream",
     "text": [
      "3628800\n"
     ]
    }
   ],
   "source": [
    "# Use a while loop to compute n factorial\n",
    "n = int(input(\"Enter a number: \"))\n",
    "fact = 1\n",
    "while n > 1:\n",
    "    fact *= n\n",
    "    n -= 1\n",
    "print(fact)\n"
   ]
  },
  {
   "cell_type": "markdown",
   "metadata": {},
   "source": [
    "### Lists\n",
    "In the examples below, we will use `lists`. They are a topic we will discuss in detail soon, but to have a enough information to follow along the examples, let us briefly describing them before going into `for` loops.\n",
    "\n",
    "`Lists`` might be the most flexible collection object in Python. \\\n",
    "They are ordered collections which you can fill them with different types of objects (strings, numbers, other lists, etc.). \\\n",
    "You can iterate over them, add + remove elements etc. \\\n",
    "To make a list you surrond the elements with square brackets and separate items by commas"
   ]
  },
  {
   "cell_type": "code",
   "execution_count": 19,
   "metadata": {},
   "outputs": [
    {
     "data": {
      "text/plain": [
       "[1, 'two', 3.0]"
      ]
     },
     "execution_count": 19,
     "metadata": {},
     "output_type": "execute_result"
    }
   ],
   "source": [
    "L=[1,'two',3.0]\n",
    "L"
   ]
  },
  {
   "cell_type": "markdown",
   "metadata": {},
   "source": [
    "You can use the same indexing syntax"
   ]
  },
  {
   "cell_type": "code",
   "execution_count": 20,
   "metadata": {},
   "outputs": [
    {
     "name": "stdout",
     "output_type": "stream",
     "text": [
      "[1, 'two', 3.0]\n",
      "two\n"
     ]
    }
   ],
   "source": [
    "print(L[0:3])\n",
    "print(L[1])"
   ]
  },
  {
   "cell_type": "markdown",
   "metadata": {},
   "source": [
    "You can also `.append` to them, `.pop` items off the end, etc. Create a list and hit <TAB> twice to get some ideas"
   ]
  },
  {
   "cell_type": "code",
   "execution_count": 21,
   "metadata": {},
   "outputs": [
    {
     "name": "stdout",
     "output_type": "stream",
     "text": [
      "[1, 'two', 3.0, '3']\n"
     ]
    }
   ],
   "source": [
    "L.append('3')\n",
    "print(L)\n"
   ]
  },
  {
   "cell_type": "code",
   "execution_count": 22,
   "metadata": {},
   "outputs": [
    {
     "data": {
      "text/plain": [
       "[1, 'two', 3.0]"
      ]
     },
     "execution_count": 22,
     "metadata": {},
     "output_type": "execute_result"
    }
   ],
   "source": [
    "L.pop()\n",
    "L"
   ]
  },
  {
   "cell_type": "markdown",
   "metadata": {},
   "source": [
    "### For loops\n",
    "\n",
    "For loops are very common in Python and are similar to `for` in other languages, but one nice twist with Python is that you can iterate over any sequence\n",
    "\n",
    "General form:\n",
    "```python\n",
    "for <target> in <object>:\n",
    "     <statements>\n",
    "```\n",
    "\n",
    "For the traditional for loop over integers there is a `range` keyword which will generate an arithmetic progression for you to loop over, but in general it's best to iterate over lists directly rather than indexing them. "
   ]
  },
  {
   "cell_type": "code",
   "execution_count": 23,
   "metadata": {},
   "outputs": [
    {
     "name": "stdout",
     "output_type": "stream",
     "text": [
      "cat 3\n",
      "dog 3\n",
      "elephant 8\n"
     ]
    }
   ],
   "source": [
    "for animal in ['cat', 'dog', 'elephant']:\n",
    "    print(animal, len(animal))"
   ]
  },
  {
   "cell_type": "code",
   "execution_count": 1,
   "metadata": {},
   "outputs": [
    {
     "name": "stdout",
     "output_type": "stream",
     "text": [
      "3\n",
      "4\n",
      "5\n",
      "6\n",
      "7\n",
      "8\n",
      "9\n",
      "10\n"
     ]
    }
   ],
   "source": [
    "# Use a for loop to display the values from 3 up to and including 10\n",
    "for i in range(3, 11):\n",
    "    print(i)\n"
   ]
  },
  {
   "cell_type": "code",
   "execution_count": 5,
   "metadata": {},
   "outputs": [
    {
     "name": "stdout",
     "output_type": "stream",
     "text": [
      "<class 'list'>\n",
      "8\n",
      "[3, 4, 5, 6, 7, 8, 9, 10]\n"
     ]
    }
   ],
   "source": [
    "l=list(range(3, 11))\n",
    "print(type(l))\n",
    "print(len(l))\n",
    "print(l)\n"
   ]
  },
  {
   "cell_type": "code",
   "execution_count": 24,
   "metadata": {},
   "outputs": [
    {
     "name": "stdout",
     "output_type": "stream",
     "text": [
      "(0, 0)\n",
      "(1, 1)\n",
      "(2, 4)\n",
      "(3, 9)\n",
      "(4, 16)\n",
      "(5, 25)\n",
      "(6, 36)\n",
      "(7, 49)\n",
      "(8, 64)\n",
      "(9, 81)\n"
     ]
    }
   ],
   "source": [
    "for i in range(10):\n",
    "    print((i, i**2), end=\"\\n\")"
   ]
  },
  {
   "cell_type": "code",
   "execution_count": 10,
   "metadata": {},
   "outputs": [
    {
     "name": "stdout",
     "output_type": "stream",
     "text": [
      "[0, 1, 2, 3, 4, 5, 6, 7, 8, 9]\n",
      "[0, 1, 4, 9, 16, 25, 36, 49, 64, 81]\n"
     ]
    }
   ],
   "source": [
    "x=[]\n",
    "y=[]\n",
    "for i in range(10):\n",
    "    x.append(i)\n",
    "    y.append(i**2)\n",
    "\n",
    "print(x)\n",
    "print(y)"
   ]
  },
  {
   "cell_type": "markdown",
   "metadata": {},
   "source": [
    "**Exercise**: \n",
    "    1. Make a for loop to store numbers from 1 to 99\n",
    "    1. Print in another loop items that are multiples of 10"
   ]
  },
  {
   "cell_type": "code",
   "execution_count": 25,
   "metadata": {},
   "outputs": [
    {
     "name": "stdout",
     "output_type": "stream",
     "text": [
      "0\n",
      "10\n",
      "20\n",
      "30\n",
      "40\n",
      "50\n",
      "60\n",
      "70\n",
      "80\n",
      "90\n"
     ]
    }
   ],
   "source": [
    "a=[]\n",
    "for i in range(0, 100, 1):\n",
    "    a.append(i)\n",
    "for i in range(len(a)):\n",
    "    if ((i%10)==0): print(a[i])"
   ]
  },
  {
   "cell_type": "code",
   "execution_count": 13,
   "metadata": {},
   "outputs": [
    {
     "name": "stdout",
     "output_type": "stream",
     "text": [
      "3628800\n"
     ]
    }
   ],
   "source": [
    "# write a factorial program using for loop\n",
    "n = int(input(\"Enter a number: \"))\n",
    "fact = 1\n",
    "for i in range(1, n+1):\n",
    "    fact *= i\n",
    "print(fact)"
   ]
  },
  {
   "cell_type": "code",
   "execution_count": 12,
   "metadata": {},
   "outputs": [
    {
     "name": "stdout",
     "output_type": "stream",
     "text": [
      "1\n",
      "1,2,3,4,2\n",
      "2,3,4,3\n",
      "3,4,4\n",
      "4,5\n"
     ]
    }
   ],
   "source": [
    "for i in range(1,6):\n",
    "\tprint(i)\n",
    "\tk = i\n",
    "\twhile k < 5:\n",
    "\t\tprint(k, end=\",\")\n",
    "\t\tk = k + 1 \n"
   ]
  },
  {
   "cell_type": "markdown",
   "metadata": {},
   "source": [
    "**Exercise**: for the following list of country names, print the country if exists on the second list "
   ]
  },
  {
   "cell_type": "code",
   "execution_count": 8,
   "metadata": {},
   "outputs": [],
   "source": [
    "# This is a terrible data structure to use here, some better options \n",
    "# might be to flatten the list, or make it a dictionary of lists\n",
    "\n",
    "countries = [\n",
    "    ['Canada','USA', 'Mexico'],\n",
    "    ['France', 'Germany', 'Romania'],\n",
    "    ['Australia', 'New Zealand']\n",
    "]\n",
    "\n",
    "countries2=['Argentina','Brazil','Mexico']"
   ]
  },
  {
   "cell_type": "code",
   "execution_count": 9,
   "metadata": {},
   "outputs": [
    {
     "data": {
      "text/plain": [
       "'Canada'"
      ]
     },
     "execution_count": 9,
     "metadata": {},
     "output_type": "execute_result"
    }
   ],
   "source": [
    "countries[0][0]"
   ]
  },
  {
   "cell_type": "code",
   "execution_count": 10,
   "metadata": {},
   "outputs": [
    {
     "name": "stdout",
     "output_type": "stream",
     "text": [
      "Mexico\n"
     ]
    }
   ],
   "source": [
    "for i in range(3):\n",
    "    for country in countries[i]:    \n",
    "        for country2 in countries2:\n",
    "            #print(country,country2)\n",
    "            if (country==country2): print(f\"{country}\")"
   ]
  },
  {
   "cell_type": "markdown",
   "metadata": {},
   "source": [
    "When the loop body is small and simple, you can also use a list comprehension in place of a for loop. Once you get used to the syntax these are very handy, but they can make your code a bit harder for newcomers to follow and it is easy to get carried away so use them sparingly. The syntax is\n",
    "\n",
    "```python\n",
    "[<statement in x> for x in <list>]\n",
    "```\n",
    "and it will generate a list of the values of `<statement in x>`. Actually you can include an optional if statement after the `<list>` to filter the list but again it's best to keep list comprehensions short and simple."
   ]
  },
  {
   "cell_type": "code",
   "execution_count": 14,
   "metadata": {},
   "outputs": [
    {
     "data": {
      "text/plain": [
       "[0, 1, 4, 9, 16, 25, 36, 49, 64, 81]"
      ]
     },
     "execution_count": 14,
     "metadata": {},
     "output_type": "execute_result"
    }
   ],
   "source": [
    "[x**2 for x in range(10)]"
   ]
  },
  {
   "cell_type": "markdown",
   "metadata": {},
   "source": [
    "**Exercise:** Write a while loop which will iterate over the numbers less than 100 and print out those divisible by 10\\\n",
    "Rewrite the loop in one line using comprehension list"
   ]
  },
  {
   "cell_type": "code",
   "execution_count": 15,
   "metadata": {},
   "outputs": [
    {
     "name": "stdout",
     "output_type": "stream",
     "text": [
      "10,20,30,40,50,60,70,80,90,"
     ]
    }
   ],
   "source": [
    "i = 1\n",
    "while i < 100:\n",
    "    if (i % 10) == 0:\n",
    "        print(i, end=\",\")\n",
    "    i += 1"
   ]
  },
  {
   "cell_type": "code",
   "execution_count": 13,
   "metadata": {},
   "outputs": [
    {
     "name": "stdout",
     "output_type": "stream",
     "text": [
      "0,10,20,30,40,50,60,70,80,90,"
     ]
    }
   ],
   "source": [
    "x=[print(i,end=\",\") for i in range(100) if (i%10)==0]"
   ]
  }
 ],
 "metadata": {
  "kernelspec": {
   "display_name": "general",
   "language": "python",
   "name": "python3"
  },
  "language_info": {
   "codemirror_mode": {
    "name": "ipython",
    "version": 3
   },
   "file_extension": ".py",
   "mimetype": "text/x-python",
   "name": "python",
   "nbconvert_exporter": "python",
   "pygments_lexer": "ipython3",
   "version": "3.12.4"
  }
 },
 "nbformat": 4,
 "nbformat_minor": 2
}
