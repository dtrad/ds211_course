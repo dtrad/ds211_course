{
 "cells": [
  {
   "cell_type": "markdown",
   "metadata": {},
   "source": [
    "## Examples Lecture 5 \n",
    "## Repetitions"
   ]
  },
  {
   "cell_type": "markdown",
   "metadata": {},
   "source": [
    "## Loops\n",
    "\n",
    "Python has two main types of loop, `while` and `for`. \n",
    "\n",
    "### While loops\n",
    "\n",
    "Evaluate the condition at the top of the loop and if it is true, execute the body\n",
    "\n",
    "Typical form\n",
    "```python\n",
    "while <test>:\n",
    "    <statements>\n",
    "```"
   ]
  },
  {
   "cell_type": "code",
   "execution_count": 4,
   "metadata": {},
   "outputs": [
    {
     "name": "stdout",
     "output_type": "stream",
     "text": [
      "1,2,3,4,5,6,7,8,9,10,"
     ]
    }
   ],
   "source": [
    "a = 0\n",
    "while True:\n",
    "    a = a + 1\n",
    "    if a > 10:\n",
    "        break\n",
    "    print(a, end=\",\"),"
   ]
  },
  {
   "cell_type": "markdown",
   "metadata": {},
   "source": [
    "The `break`, `continue` and `pass` keywords will also modify control flow within a `while` loop. Look them up with the jupyter help system to understand more. They are useful, but can obfuscate your code so use them sparingly!"
   ]
  },
  {
   "cell_type": "markdown",
   "metadata": {},
   "source": [
    "### For loops\n",
    "\n",
    "For loops are very common in Python and are similar to `for` in other languages, but one nice twist with Python is that you can iterate over any sequence\n",
    "\n",
    "General form:\n",
    "```python\n",
    "for <target> in <object>:\n",
    "     <statements>\n",
    "```\n",
    "\n",
    "For the traditional for loop over integers there is a `range` keyword which will generate an arithmetic progression for you to loop over, but in general it's best to iterate over lists directly rather than indexing them. "
   ]
  },
  {
   "cell_type": "code",
   "execution_count": 5,
   "metadata": {},
   "outputs": [
    {
     "name": "stdout",
     "output_type": "stream",
     "text": [
      "cat 3\n",
      "dog 3\n",
      "elephant 8\n"
     ]
    }
   ],
   "source": [
    "for animal in ['cat', 'dog', 'elephant']:\n",
    "    print(animal, len(animal))"
   ]
  },
  {
   "cell_type": "code",
   "execution_count": 6,
   "metadata": {},
   "outputs": [
    {
     "name": "stdout",
     "output_type": "stream",
     "text": [
      "(0, 0)\n",
      "(1, 1)\n",
      "(2, 4)\n",
      "(3, 9)\n",
      "(4, 16)\n",
      "(5, 25)\n",
      "(6, 36)\n",
      "(7, 49)\n",
      "(8, 64)\n",
      "(9, 81)\n"
     ]
    }
   ],
   "source": [
    "for i in range(10):\n",
    "    print((i, i**2), end=\"\\n\")"
   ]
  },
  {
   "cell_type": "markdown",
   "metadata": {},
   "source": [
    "**Exercise**: \n",
    "    1. Make a for loop to store numbers from 1 to 99\n",
    "    1. Print in another loop items that are multiples of 10"
   ]
  },
  {
   "cell_type": "code",
   "execution_count": 7,
   "metadata": {},
   "outputs": [
    {
     "name": "stdout",
     "output_type": "stream",
     "text": [
      "0\n",
      "10\n",
      "20\n",
      "30\n",
      "40\n",
      "50\n",
      "60\n",
      "70\n",
      "80\n",
      "90\n"
     ]
    }
   ],
   "source": [
    "a=[]\n",
    "for i in range(0, 100, 1):\n",
    "    a.append(i)\n",
    "for i in range(len(a)):\n",
    "    if ((i%10)==0): print(a[i])"
   ]
  },
  {
   "cell_type": "markdown",
   "metadata": {},
   "source": [
    "**Exercise**: for the following list of country names, print the country if exists on the second list "
   ]
  },
  {
   "cell_type": "code",
   "execution_count": 8,
   "metadata": {},
   "outputs": [],
   "source": [
    "# This is a terrible data structure to use here, some better options \n",
    "# might be to flatten the list, or make it a dictionary of lists\n",
    "\n",
    "countries = [\n",
    "    ['Canada','USA', 'Mexico'],\n",
    "    ['France', 'Germany', 'Romania'],\n",
    "    ['Australia', 'New Zealand']\n",
    "]\n",
    "\n",
    "countries2=['Argentina','Brazil','Mexico']"
   ]
  },
  {
   "cell_type": "code",
   "execution_count": 9,
   "metadata": {},
   "outputs": [
    {
     "data": {
      "text/plain": [
       "'Canada'"
      ]
     },
     "execution_count": 9,
     "metadata": {},
     "output_type": "execute_result"
    }
   ],
   "source": [
    "countries[0][0]"
   ]
  },
  {
   "cell_type": "code",
   "execution_count": 10,
   "metadata": {},
   "outputs": [
    {
     "name": "stdout",
     "output_type": "stream",
     "text": [
      "Mexico\n"
     ]
    }
   ],
   "source": [
    "for i in range(3):\n",
    "    for country in countries[i]:    \n",
    "        for country2 in countries2:\n",
    "            #print(country,country2)\n",
    "            if (country==country2): print(f\"{country}\")"
   ]
  },
  {
   "cell_type": "markdown",
   "metadata": {},
   "source": [
    "When the loop body is small and simple, you can also use a list comprehension in place of a for loop. Once you get used to the syntax these are very handy, but they can make your code a bit harder for newcomers to follow and it is easy to get carried away so use them sparingly. The syntax is\n",
    "\n",
    "```python\n",
    "[<statement in x> for x in <list>]\n",
    "```\n",
    "and it will generate a list of the values of `<statement in x>`. Actually you can include an optional if statement after the `<list>` to filter the list but again it's best to keep list comprehensions short and simple."
   ]
  },
  {
   "cell_type": "code",
   "execution_count": 11,
   "metadata": {},
   "outputs": [
    {
     "data": {
      "text/plain": [
       "[0, 1, 4, 9, 16, 25, 36, 49, 64, 81]"
      ]
     },
     "execution_count": 11,
     "metadata": {},
     "output_type": "execute_result"
    }
   ],
   "source": [
    "[x**2 for x in range(10)]"
   ]
  },
  {
   "cell_type": "markdown",
   "metadata": {},
   "source": [
    "**Exercise:** Write a while loop which will iterate over the numbers less than 100 and print out those divisible by 10\\\n",
    "Rewrite the loop in one line using comprehension list"
   ]
  },
  {
   "cell_type": "code",
   "execution_count": 12,
   "metadata": {},
   "outputs": [
    {
     "name": "stdout",
     "output_type": "stream",
     "text": [
      "10\n",
      "20\n",
      "30\n",
      "40\n",
      "50\n",
      "60\n",
      "70\n",
      "80\n",
      "90\n"
     ]
    }
   ],
   "source": [
    "i = 1\n",
    "while i < 100:\n",
    "    if (i % 10) == 0:\n",
    "        print(i)\n",
    "    i += 1"
   ]
  },
  {
   "cell_type": "code",
   "execution_count": 13,
   "metadata": {},
   "outputs": [
    {
     "name": "stdout",
     "output_type": "stream",
     "text": [
      "0,10,20,30,40,50,60,70,80,90,"
     ]
    }
   ],
   "source": [
    "x=[print(i,end=\",\") for i in range(100) if (i%10)==0]"
   ]
  }
 ],
 "metadata": {
  "kernelspec": {
   "display_name": "tfgpu3",
   "language": "python",
   "name": "python3"
  },
  "language_info": {
   "codemirror_mode": {
    "name": "ipython",
    "version": 3
   },
   "file_extension": ".py",
   "mimetype": "text/x-python",
   "name": "python",
   "nbconvert_exporter": "python",
   "pygments_lexer": "ipython3",
   "version": "3.9.5"
  }
 },
 "nbformat": 4,
 "nbformat_minor": 2
}
