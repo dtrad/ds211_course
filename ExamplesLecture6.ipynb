{
 "cells": [
  {
   "cell_type": "markdown",
   "metadata": {},
   "source": [
    "# Examples Lecture 6: Functions\n"
   ]
  },
  {
   "cell_type": "code",
   "execution_count": 5,
   "metadata": {},
   "outputs": [
    {
     "ename": "UnboundLocalError",
     "evalue": "local variable 'x' referenced before assignment",
     "output_type": "error",
     "traceback": [
      "\u001b[1;31m---------------------------------------------------------------------------\u001b[0m",
      "\u001b[1;31mUnboundLocalError\u001b[0m                         Traceback (most recent call last)",
      "\u001b[1;32m<ipython-input-5-65ce7ac1b156>\u001b[0m in \u001b[0;36m<module>\u001b[1;34m\u001b[0m\n\u001b[0;32m      8\u001b[0m     \u001b[0mprint\u001b[0m\u001b[1;33m(\u001b[0m\u001b[1;34m'x, y inside before='\u001b[0m\u001b[1;33m,\u001b[0m\u001b[0mx\u001b[0m\u001b[1;33m,\u001b[0m \u001b[0my\u001b[0m\u001b[1;33m)\u001b[0m\u001b[1;33m\u001b[0m\u001b[1;33m\u001b[0m\u001b[0m\n\u001b[0;32m      9\u001b[0m \u001b[1;33m\u001b[0m\u001b[0m\n\u001b[1;32m---> 10\u001b[1;33m \u001b[0mincrement\u001b[0m\u001b[1;33m(\u001b[0m\u001b[1;33m)\u001b[0m\u001b[1;33m\u001b[0m\u001b[1;33m\u001b[0m\u001b[0m\n\u001b[0m\u001b[0;32m     11\u001b[0m \u001b[0mprint\u001b[0m\u001b[1;33m(\u001b[0m\u001b[1;34m'x, y outside after='\u001b[0m\u001b[1;33m,\u001b[0m\u001b[0mx\u001b[0m\u001b[1;33m,\u001b[0m \u001b[0my\u001b[0m\u001b[1;33m)\u001b[0m\u001b[1;33m\u001b[0m\u001b[1;33m\u001b[0m\u001b[0m\n",
      "\u001b[1;32m<ipython-input-5-65ce7ac1b156>\u001b[0m in \u001b[0;36mincrement\u001b[1;34m()\u001b[0m\n\u001b[0;32m      4\u001b[0m \u001b[0my\u001b[0m \u001b[1;33m=\u001b[0m \u001b[1;36m5\u001b[0m\u001b[1;33m\u001b[0m\u001b[1;33m\u001b[0m\u001b[0m\n\u001b[0;32m      5\u001b[0m \u001b[1;32mdef\u001b[0m \u001b[0mincrement\u001b[0m\u001b[1;33m(\u001b[0m\u001b[1;33m)\u001b[0m\u001b[1;33m:\u001b[0m\u001b[1;33m\u001b[0m\u001b[1;33m\u001b[0m\u001b[0m\n\u001b[1;32m----> 6\u001b[1;33m     \u001b[0mprint\u001b[0m\u001b[1;33m(\u001b[0m\u001b[1;34m'x, y inside before='\u001b[0m\u001b[1;33m,\u001b[0m\u001b[0mx\u001b[0m\u001b[1;33m,\u001b[0m \u001b[0my\u001b[0m\u001b[1;33m)\u001b[0m\u001b[1;33m\u001b[0m\u001b[1;33m\u001b[0m\u001b[0m\n\u001b[0m\u001b[0;32m      7\u001b[0m     \u001b[0mx\u001b[0m \u001b[1;33m+=\u001b[0m \u001b[0my\u001b[0m\u001b[1;33m\u001b[0m\u001b[1;33m\u001b[0m\u001b[0m\n\u001b[0;32m      8\u001b[0m     \u001b[0mprint\u001b[0m\u001b[1;33m(\u001b[0m\u001b[1;34m'x, y inside before='\u001b[0m\u001b[1;33m,\u001b[0m\u001b[0mx\u001b[0m\u001b[1;33m,\u001b[0m \u001b[0my\u001b[0m\u001b[1;33m)\u001b[0m\u001b[1;33m\u001b[0m\u001b[1;33m\u001b[0m\u001b[0m\n",
      "\u001b[1;31mUnboundLocalError\u001b[0m: local variable 'x' referenced before assignment"
     ]
    }
   ],
   "source": [
    "# Some awful code to demonstrate using an external variable inside a function\n",
    "# This is a bad idea, but it's useful to see what happens\n",
    "x = 3\n",
    "y = 5\n",
    "def increment():\n",
    "    print('x, y inside before=',x, y)\n",
    "    x += y\n",
    "    print('x, y inside before=',x, y)\n",
    "\n",
    "increment()\n",
    "print('x, y outside after=',x, y)"
   ]
  },
  {
   "cell_type": "code",
   "execution_count": 8,
   "metadata": {},
   "outputs": [
    {
     "name": "stdout",
     "output_type": "stream",
     "text": [
      "x, y inside before= 3 5\n",
      "x, y inside before= 8 5\n",
      "x, y outside after= 3 5\n"
     ]
    }
   ],
   "source": [
    "# Some awful code to demonstrate using an external variable inside a function\n",
    "# This is a bad idea, but it's useful to see what happens\n",
    "x = 3\n",
    "y = 5\n",
    "def increment(x, y):\n",
    "    print('x, y inside before=',x, y)\n",
    "    x += y\n",
    "    print('x, y inside before=',x, y)\n",
    "\n",
    "increment(x, y)\n",
    "print('x, y outside after=',x, y)"
   ]
  },
  {
   "cell_type": "code",
   "execution_count": 9,
   "metadata": {},
   "outputs": [
    {
     "name": "stdout",
     "output_type": "stream",
     "text": [
      "x, y inside before= 3 5\n",
      "x, y inside before= 8 5\n",
      "x, y outside after= 8 5\n"
     ]
    }
   ],
   "source": [
    "x = 3\n",
    "y = 5\n",
    "def increment(x, y):\n",
    "    print('x, y inside before=',x, y)\n",
    "    x += y\n",
    "    print('x, y inside before=',x, y)\n",
    "    return x\n",
    "\n",
    "x = increment(x, y)\n",
    "print('x, y outside after=',x, y)"
   ]
  },
  {
   "cell_type": "code",
   "execution_count": 10,
   "metadata": {},
   "outputs": [
    {
     "name": "stdout",
     "output_type": "stream",
     "text": [
      "x, y inside before= 3 5\n",
      "x, y inside before= 8 6\n",
      "x, y outside after= 8 5\n"
     ]
    }
   ],
   "source": [
    "x = 3\n",
    "y = 5\n",
    "def increment(x, y):\n",
    "    print('x, y inside before=',x, y)\n",
    "    x += y\n",
    "    y += 1\n",
    "    print('x, y inside before=',x, y)\n",
    "    return x\n",
    "\n",
    "x = increment(x, y)\n",
    "print('x, y outside after=',x, y)"
   ]
  },
  {
   "cell_type": "code",
   "execution_count": 12,
   "metadata": {},
   "outputs": [
    {
     "name": "stdout",
     "output_type": "stream",
     "text": [
      "x, y inside before= 3 5\n",
      "x, y inside before= 8 6\n",
      "x, y outside after= 8 6\n"
     ]
    }
   ],
   "source": [
    "x = 3\n",
    "y = 5\n",
    "def increment(x, y):\n",
    "    print('x, y inside before=',x, y)\n",
    "    x += y\n",
    "    y += 1\n",
    "    print('x, y inside before=',x, y)\n",
    "    return (x, y)\n",
    "\n",
    "(x, y) = increment(x, y)\n",
    "print('x, y outside after=',x, y)"
   ]
  },
  {
   "cell_type": "markdown",
   "metadata": {},
   "source": [
    "New object: Tuple\n"
   ]
  },
  {
   "cell_type": "code",
   "execution_count": 14,
   "metadata": {},
   "outputs": [
    {
     "name": "stdout",
     "output_type": "stream",
     "text": [
      "x, y inside before= 3 5\n",
      "x, y inside before= 8 6\n",
      "x, y outside after= 8 6\n"
     ]
    }
   ],
   "source": [
    "x = 3\n",
    "y = 5\n",
    "def increment(x, y):\n",
    "    print('x, y inside before=',x, y)\n",
    "    x += y\n",
    "    y += 1\n",
    "    print('x, y inside before=',x, y)\n",
    "    return x, y\n",
    "\n",
    "x, y = increment(x, y)\n",
    "print('x, y outside after=',x, y)"
   ]
  },
  {
   "cell_type": "markdown",
   "metadata": {},
   "source": [
    "### Function arguments\n",
    "\n",
    "Functions normally act on arguments passed to them between the parentheses. Going beyond the simple examples above, Python adds a little flexibility to how arguments are specified to \n",
    "\n",
    "  1. Argument lists can be arbitrarily long and each argument can be an arbitrary python object.\n",
    "  1. You can include both positional and keyword arguments. Positional arguments are just a list of names `(x, y, z)`, while keyword arguments include values (`x=1, y=2, z=3`). You can mix the types of arguments, but the positional arguments must come first.\n",
    "  1. You can specify default values when writing keyword arguments. e.g If you include `x=1` in the argument list but don't include a value for `x` when calling the function, the value `1` will be used.\n",
    "  1. Functions can support arbitrary numbers of positional arguments. To do this, you prefix the argument with a `*`. Inside the function you can iterate over this argument as a list.\n",
    "  1. Functions can support arbitrary keyword arguments. To do this, you prefix the argument with `**`. Inside the function you can iterate over this argument as a dictionary of whatever the caller decided to pass in.\n",
    "  \n",
    "These last two points might sound arcane, but they are important and widely used. A good example is matplotlib where plotting functions can use hundreds of arguments. It is much easier to prepare a dictionary of all of your settings and expand that as needed.\n"
   ]
  },
  {
   "cell_type": "code",
   "execution_count": 15,
   "metadata": {},
   "outputs": [
    {
     "name": "stdout",
     "output_type": "stream",
     "text": [
      "a and b are required arguments: 1, 2\n",
      "and c always has a value: 1\n",
      "I found an extra argument: 3\n",
      "I found an extra argument: 4\n",
      "I found an extra argument: 5\n",
      "I found an extra argument: 6\n",
      "I found an extra keyword argument: fruit:banana\n",
      "I found an extra keyword argument: time:noon\n",
      "\n",
      "a and b are required arguments: 1, 2\n",
      "and c always has a value: 1\n",
      "I found an extra keyword argument: fruit:pear\n"
     ]
    }
   ],
   "source": [
    "def arguments(a, b, *args, c=1, **kwargs):\n",
    "    print(f\"a and b are required arguments: {a}, {b}\")\n",
    "    print(f\"and c always has a value: {c}\")\n",
    "    for arg in args:\n",
    "        print(f\"I found an extra argument: {arg}\")\n",
    "    \n",
    "    for key, value in kwargs.items():\n",
    "        print(f\"I found an extra keyword argument: {key}:{value}\")\n",
    "        \n",
    "        \n",
    "arguments(1, 2, 3, 4, 5, 6, fruit=\"banana\", time=\"noon\")\n",
    "print('')\n",
    "arguments(1,2,fruit=\"pear\")"
   ]
  },
  {
   "cell_type": "markdown",
   "metadata": {},
   "source": [
    "### Scope and the LEGB rule\n",
    "\n",
    "Python uses namespaces to keep variables from clobbering (overwriting) one another and to make modules and code more portable. For example, when you define $\\pi = 3$ you don't want the value defined in the `scipy` module to clobber it. With namespacing you can safely set the variable `x` in two different contexts and not have them interfere with each other. When you _want_ to have them interfere with each other, you have to understand the hierarchy of namespaces that python defines (the scope of the name `x`).\n",
    "\n",
    "The basic hierarchy is something like this..."
   ]
  },
  {
   "cell_type": "markdown",
   "metadata": {},
   "source": [
    "* **B**uilt in: e.g KeyWords `open`, `range`, ...\n",
    "    * **G**lobal (module): Things at the top level of a module e.g. random inside numpy\n",
    "        * **E**nclosing function locals\n",
    "            * **L**ocal (function): names assigned within a function and not set global\n",
    "       \n",
    "The further down that list you go, the more specific the name is and the idea is that the most specific should win (like CSS etc.). \\\n",
    "It is usually referred to as the **LEGB** rule. As an example, if I do `from numpy import random`, then define random as a variable, my definition \"wins\""
   ]
  },
  {
   "cell_type": "code",
   "execution_count": 16,
   "metadata": {},
   "outputs": [],
   "source": [
    "try:\n",
    "    del random\n",
    "except:\n",
    "    pass"
   ]
  },
  {
   "cell_type": "code",
   "execution_count": 17,
   "metadata": {},
   "outputs": [
    {
     "name": "stdout",
     "output_type": "stream",
     "text": [
      "<class 'module'>\n"
     ]
    },
    {
     "data": {
      "text/plain": [
       "int"
      ]
     },
     "execution_count": 17,
     "metadata": {},
     "output_type": "execute_result"
    }
   ],
   "source": [
    "try:\n",
    "    del random\n",
    "except:\n",
    "    pass\n",
    "from numpy import random\n",
    "print(type(random))\n",
    "random=3\n",
    "type(random)"
   ]
  },
  {
   "cell_type": "code",
   "execution_count": 19,
   "metadata": {},
   "outputs": [
    {
     "name": "stdout",
     "output_type": "stream",
     "text": [
      "<class 'module'>\n",
      "<class 'int'>\n",
      "<class 'module'>\n"
     ]
    }
   ],
   "source": [
    "try:\n",
    "    del random\n",
    "except:\n",
    "    pass\n",
    "\n",
    "import numpy as np\n",
    "print(type(np.random))\n",
    "random=3\n",
    "print(type(random))\n",
    "print(type(np.random))\n"
   ]
  },
  {
   "cell_type": "code",
   "execution_count": 20,
   "metadata": {},
   "outputs": [
    {
     "name": "stdout",
     "output_type": "stream",
     "text": [
      "4\n",
      "3\n"
     ]
    }
   ],
   "source": [
    "# Illustrate the LEGB rule\n",
    "x = 3\n",
    "def f():\n",
    "    x = 4\n",
    "    print(x)\n",
    "f()\n",
    "print(x)\n"
   ]
  },
  {
   "cell_type": "code",
   "execution_count": 22,
   "metadata": {},
   "outputs": [
    {
     "name": "stdout",
     "output_type": "stream",
     "text": [
      "5\n",
      "5\n"
     ]
    }
   ],
   "source": [
    "# Create a self-documented function the returns the maximum of two numbers and test it\n",
    "def max_of_two(a, b):\n",
    "    \"\"\"Return the maximum of two numbers\"\"\"\n",
    "    if a > b:\n",
    "        return a\n",
    "    else:\n",
    "        return b\n",
    "print(max_of_two(3, 5))\n",
    "print(max_of_two(5, 3)) "
   ]
  },
  {
   "cell_type": "code",
   "execution_count": 23,
   "metadata": {},
   "outputs": [
    {
     "name": "stdout",
     "output_type": "stream",
     "text": [
      "5\n",
      "5\n"
     ]
    }
   ],
   "source": [
    "# improve the function above by adding the parameter inputs and outputs to the docstring\n",
    "def max_of_two(a, b):\n",
    "    \"\"\"Return the maximum of two numbers\n",
    "    Inputs:\n",
    "    a: a number\n",
    "    b: a number\n",
    "    Outputs:\n",
    "    the maximum of a and b\"\"\"\n",
    "    if a > b:\n",
    "        return a\n",
    "    else:\n",
    "        return b\n",
    "print(max_of_two(3, 5))\n",
    "print(max_of_two(5, 3))\n",
    "\n"
   ]
  },
  {
   "cell_type": "code",
   "execution_count": 24,
   "metadata": {},
   "outputs": [
    {
     "name": "stdout",
     "output_type": "stream",
     "text": [
      "Return the maximum of two numbers\n",
      "    Inputs:\n",
      "    a: a number\n",
      "    b: a number\n",
      "    Outputs:\n",
      "    the maximum of a and b\n"
     ]
    }
   ],
   "source": [
    "# improve the function above by displaying the docstring when it is called without arguments\n",
    "def max_of_two(a, b):\n",
    "    \"\"\"Return the maximum of two numbers\n",
    "    Inputs:\n",
    "    a: a number\n",
    "    b: a number\n",
    "    Outputs:\n",
    "    the maximum of a and b\"\"\"\n",
    "    if a > b:\n",
    "        return a\n",
    "    else:\n",
    "        return b\n",
    "    \n",
    "print(max_of_two.__doc__)"
   ]
  },
  {
   "cell_type": "code",
   "execution_count": 25,
   "metadata": {},
   "outputs": [
    {
     "name": "stdout",
     "output_type": "stream",
     "text": [
      "Help on function max_of_two in module __main__:\n",
      "\n",
      "max_of_two(a, b)\n",
      "    Return the maximum of two numbers\n",
      "    Inputs:\n",
      "    a: a number\n",
      "    b: a number\n",
      "    Outputs:\n",
      "    the maximum of a and b\n",
      "\n"
     ]
    }
   ],
   "source": [
    "help(max_of_two)"
   ]
  },
  {
   "cell_type": "code",
   "execution_count": 26,
   "metadata": {},
   "outputs": [
    {
     "data": {
      "text/plain": [
       "TestResults(failed=0, attempted=2)"
      ]
     },
     "execution_count": 26,
     "metadata": {},
     "output_type": "execute_result"
    }
   ],
   "source": [
    "# use doctest to test the function\n",
    "def max_of_two(a, b):\n",
    "    \"\"\"Return the maximum of two numbers\n",
    "    Inputs:\n",
    "    a: a number\n",
    "    b: a number\n",
    "    Outputs:\n",
    "    the maximum of a and b\n",
    "    >>> max_of_two(3, 5)\n",
    "    5\n",
    "    >>> max_of_two(5, 3)\n",
    "    5\n",
    "    \"\"\"\n",
    "    if a > b:\n",
    "        return a\n",
    "    else:\n",
    "        return b\n",
    "import doctest\n",
    "doctest.testmod()\n"
   ]
  }
 ],
 "metadata": {
  "kernelspec": {
   "display_name": "tfgpu3",
   "language": "python",
   "name": "python3"
  },
  "language_info": {
   "codemirror_mode": {
    "name": "ipython",
    "version": 3
   },
   "file_extension": ".py",
   "mimetype": "text/x-python",
   "name": "python",
   "nbconvert_exporter": "python",
   "pygments_lexer": "ipython3",
   "version": "3.9.5"
  }
 },
 "nbformat": 4,
 "nbformat_minor": 2
}
