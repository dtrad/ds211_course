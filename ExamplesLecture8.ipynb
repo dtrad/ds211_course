{
 "cells": [
  {
   "cell_type": "markdown",
   "metadata": {},
   "source": [
    "## Strings\n",
    "Are a collection of unicode characters\n"
   ]
  },
  {
   "cell_type": "code",
   "execution_count": 6,
   "metadata": {},
   "outputs": [
    {
     "name": "stdout",
     "output_type": "stream",
     "text": [
      "<class 'str'>\n",
      "<class 'str'>\n"
     ]
    }
   ],
   "source": [
    "s = \"abcde\"\n",
    "print(type(s))\n",
    "ss = 'abcde'\n",
    "print(type(ss))\n",
    "\n"
   ]
  },
  {
   "cell_type": "code",
   "execution_count": 7,
   "metadata": {},
   "outputs": [
    {
     "name": "stdout",
     "output_type": "stream",
     "text": [
      "It's a beautiful day\n",
      "He said, \"Hello\"\n"
     ]
    }
   ],
   "source": [
    "string3 = \"It's a beautiful day\"\n",
    "string4 = 'He said, \"Hello\"'\n",
    "print(string3)\n",
    "print(string4)"
   ]
  },
  {
   "cell_type": "code",
   "execution_count": 8,
   "metadata": {},
   "outputs": [
    {
     "name": "stdout",
     "output_type": "stream",
     "text": [
      "HELLO WORLD!\n",
      "hello world!\n",
      "hELLO wORLD!\n",
      "Hello world!\n",
      "Hi World!\n",
      "    Hello World!    \n"
     ]
    }
   ],
   "source": [
    "s = \"Hello World!\"\n",
    "print(s.upper())\n",
    "print(s.lower())\n",
    "print(s.swapcase())\n",
    "print(s.capitalize())\n",
    "print(s.replace(\"Hello\", \"Hi\"))\n",
    "print(s.center(20))\n"
   ]
  },
  {
   "cell_type": "code",
   "execution_count": 16,
   "metadata": {},
   "outputs": [
    {
     "name": "stdout",
     "output_type": "stream",
     "text": [
      "3\n",
      "2\n",
      "7\n",
      "-1\n",
      "6\n"
     ]
    }
   ],
   "source": [
    "s = \"Hello World!\"\n",
    "print(s.count(\"l\"))\n",
    "print(s.find(\"ll\"))\n",
    "print(s.find('o', 5))\n",
    "print(s.find('Wo',0,6))\n",
    "print(s.find('Wo',0,8))\n"
   ]
  },
  {
   "cell_type": "code",
   "execution_count": 18,
   "metadata": {},
   "outputs": [
    {
     "data": {
      "text/plain": [
       "(9, 2)"
      ]
     },
     "execution_count": 18,
     "metadata": {},
     "output_type": "execute_result"
    }
   ],
   "source": [
    "s.rfind('l'), s.find('l')"
   ]
  },
  {
   "cell_type": "code",
   "execution_count": 12,
   "metadata": {},
   "outputs": [
    {
     "name": "stdout",
     "output_type": "stream",
     "text": [
      "This is a test string\n",
      "['This', 'is', 'a', 'test', 'string']\n",
      "['This is ', ' test string']\n"
     ]
    }
   ],
   "source": [
    "s = 'This is a test string'\n",
    "x1 = s.split()    # x has the value of [‘This’, ‘is’, ‘a’, ‘test’, ‘string’]\n",
    "x2 = s.split('a')\t  # x has the value of [‘This is ’, ‘ test string’]\n",
    "print(s)\n",
    "print(x1)\n",
    "print(x2)"
   ]
  },
  {
   "cell_type": "code",
   "execution_count": 20,
   "metadata": {},
   "outputs": [
    {
     "name": "stdout",
     "output_type": "stream",
     "text": [
      "e\n",
      "ello\n",
      "Hello\n",
      " World!\n",
      "!\n",
      "oWr\n"
     ]
    }
   ],
   "source": [
    "s = 'Hello World!'\n",
    "print(s[1])\n",
    "print(s[1:5])\n",
    "print(s[:5])\n",
    "print(s[5:])\n",
    "print(s[-1])\n",
    "print(s[4:10:2])"
   ]
  },
  {
   "cell_type": "code",
   "execution_count": 24,
   "metadata": {},
   "outputs": [
    {
     "name": "stdout",
     "output_type": "stream",
     "text": [
      "Hello World\n",
      "Hello\n",
      "World\n"
     ]
    }
   ],
   "source": [
    "s1= \"Hello\"\n",
    "s2= \"World\"\n",
    "s3= s1 + \" \" + s2\n",
    "print(s3)\n",
    "s3= s1 + \"\\n\" + s2\n",
    "print(s3)\n"
   ]
  },
  {
   "cell_type": "code",
   "execution_count": 44,
   "metadata": {},
   "outputs": [
    {
     "name": "stdout",
     "output_type": "stream",
     "text": [
      "0 1 2 3 4 5\n",
      "0-->1-->2-->3-->4-->5\n"
     ]
    }
   ],
   "source": [
    "for i in range(5):\n",
    "    print(i, end=\" \")\n",
    "print(5)\n",
    "for i in range(5):\n",
    "    print(i, end=\"-->\")\n",
    "print(5)"
   ]
  },
  {
   "cell_type": "code",
   "execution_count": 38,
   "metadata": {},
   "outputs": [
    {
     "data": {
      "text/plain": [
       "False"
      ]
     },
     "execution_count": 38,
     "metadata": {},
     "output_type": "execute_result"
    }
   ],
   "source": [
    "password = \"Pa1234\"\n",
    "password.islower(), password.isupper()\n",
    "# give true if at least one character is lower case in the string regardless if there are upper case characters\n",
    "password.islower()\n",
    "# give true if at least one character is upper case in the string regardless if there are lower case characters\n",
    "password.isupper()"
   ]
  },
  {
   "cell_type": "code",
   "execution_count": 28,
   "metadata": {},
   "outputs": [
    {
     "name": "stdout",
     "output_type": "stream",
     "text": [
      "Password is not secure\n",
      "17 True False False\n"
     ]
    }
   ],
   "source": [
    "'''Write a program that determines if a password is (somewhat) secure\n",
    "\tHas at least 7 characters\n",
    "\tContains at least one upper case letter\n",
    "\tContains at least one lower case letter\n",
    "\tContains at least one numeric digit \n",
    "'''\n",
    "#password = input(\"Enter a password: \")\n",
    "password = 'Pfjalfhg35fcapahg'\n",
    "if len(password) >= 7 and password.isalnum() and password.islower() and password.isupper():\n",
    "    print(\"Password is secure\")\n",
    "else:\n",
    "    print(\"Password is not secure\")\n",
    "    print(len(password), password.isalnum(), password.islower(), password.isupper())\n"
   ]
  },
  {
   "cell_type": "code",
   "execution_count": 39,
   "metadata": {},
   "outputs": [
    {
     "name": "stdout",
     "output_type": "stream",
     "text": [
      "Password is secure\n"
     ]
    }
   ],
   "source": [
    "def check_lowercase(password):\n",
    "    for i in password:\n",
    "        if i.islower():\n",
    "            return True\n",
    "    return False\n",
    "def check_uppercase(password):\n",
    "    for i in password:\n",
    "        if i.isupper():\n",
    "            return True\n",
    "    return False\n",
    "\n",
    "password = 'Pfjalfhg35fcapahg'\n",
    "if len(password) >= 7 and password.isalnum() and check_lowercase(password) and check_uppercase(password):\n",
    "    print(\"Password is secure\")\n",
    "else:\n",
    "    print(\"Password is not secure\")\n",
    "    print(len(password), password.isalnum(), check_lowercase(password), check_uppercase(password))"
   ]
  }
 ],
 "metadata": {
  "kernelspec": {
   "display_name": "tfgpu3",
   "language": "python",
   "name": "python3"
  },
  "language_info": {
   "codemirror_mode": {
    "name": "ipython",
    "version": 3
   },
   "file_extension": ".py",
   "mimetype": "text/x-python",
   "name": "python",
   "nbconvert_exporter": "python",
   "pygments_lexer": "ipython3",
   "version": "3.9.5"
  }
 },
 "nbformat": 4,
 "nbformat_minor": 2
}
