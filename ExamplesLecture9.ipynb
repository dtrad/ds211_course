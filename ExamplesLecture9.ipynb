{
 "cells": [
  {
   "cell_type": "markdown",
   "metadata": {},
   "source": [
    "## Examples Lecture 9: dictionaries\n",
    "Together, dictionaries and lists cover most of the collections you will see in python. A Dictionary is an (unordered!) list of key:value pairs. A HUGE portion of programming problems you will face boil down to implementing some sort of hash lookup and this is where dictionaries excel. You can create dictionaries with the curly brace notation"
   ]
  },
  {
   "cell_type": "code",
   "execution_count": 26,
   "metadata": {},
   "outputs": [
    {
     "data": {
      "text/plain": [
       "dict_values([2, 3])"
      ]
     },
     "execution_count": 26,
     "metadata": {},
     "output_type": "execute_result"
    }
   ],
   "source": [
    "D = {'two':2,'three':3}\n",
    "D.values()"
   ]
  },
  {
   "cell_type": "markdown",
   "metadata": {},
   "source": [
    "The same square bracket notation is used to get items out of the dictionary"
   ]
  },
  {
   "cell_type": "code",
   "execution_count": 27,
   "metadata": {},
   "outputs": [
    {
     "data": {
      "text/plain": [
       "3"
      ]
     },
     "execution_count": 27,
     "metadata": {},
     "output_type": "execute_result"
    }
   ],
   "source": [
    "D['three']"
   ]
  },
  {
   "cell_type": "markdown",
   "metadata": {},
   "source": [
    "Dictionaries are mutable so you can change items in place"
   ]
  },
  {
   "cell_type": "code",
   "execution_count": 28,
   "metadata": {},
   "outputs": [
    {
     "name": "stdout",
     "output_type": "stream",
     "text": [
      "{'two': 2, 'three': 3}\n"
     ]
    },
    {
     "data": {
      "text/plain": [
       "{'two': 2, 'three': 1}"
      ]
     },
     "execution_count": 28,
     "metadata": {},
     "output_type": "execute_result"
    }
   ],
   "source": [
    "print(D)\n",
    "D['three']=1\n",
    "D"
   ]
  },
  {
   "cell_type": "code",
   "execution_count": 29,
   "metadata": {},
   "outputs": [
    {
     "data": {
      "text/plain": [
       "{'two': 2, 'three': 1, 'four': 4}"
      ]
     },
     "execution_count": 29,
     "metadata": {},
     "output_type": "execute_result"
    }
   ],
   "source": [
    "D['four']=4\n",
    "D"
   ]
  },
  {
   "cell_type": "code",
   "execution_count": 30,
   "metadata": {},
   "outputs": [
    {
     "name": "stdout",
     "output_type": "stream",
     "text": [
      "dict_keys(['two', 'three', 'four'])\n",
      "dict_values([2, 1, 4])\n",
      "dict_items([('two', 2), ('three', 1), ('four', 4)])\n"
     ]
    }
   ],
   "source": [
    "print(D.keys())\n",
    "print(D.values())\n",
    "print(D.items())"
   ]
  },
  {
   "cell_type": "code",
   "execution_count": 32,
   "metadata": {},
   "outputs": [
    {
     "name": "stdout",
     "output_type": "stream",
     "text": [
      "{'two': 2, 'three': 1, 'four': 4, 'one': 1}\n"
     ]
    }
   ],
   "source": [
    "D['one'] = 1\n",
    "print(D)"
   ]
  },
  {
   "cell_type": "code",
   "execution_count": 35,
   "metadata": {},
   "outputs": [
    {
     "name": "stdout",
     "output_type": "stream",
     "text": [
      "{'one': 1, 'two': 2, 'three': 3, 'four': 4}\n",
      "{'two': 2, 'three': 3, 'four': 4}\n",
      "{'two': 2, 'three': 3}\n"
     ]
    }
   ],
   "source": [
    "D={'one':1,'two':2,'three':3,'four':4}\n",
    "print(D)\n",
    "del(D['one'])\n",
    "print(D)\n",
    "D.pop('four')\n",
    "print(D)"
   ]
  },
  {
   "cell_type": "code",
   "execution_count": 36,
   "metadata": {},
   "outputs": [
    {
     "name": "stdout",
     "output_type": "stream",
     "text": [
      "{}\n"
     ]
    }
   ],
   "source": [
    "D.clear()\n",
    "print(D)"
   ]
  },
  {
   "cell_type": "markdown",
   "metadata": {},
   "source": [
    "Dictionaries have lots of methods (look at Documentation<TAB>), but one particularly important is items(). \n",
    "There is also a concept of iterating over the dictionary (in a few distinct ways) but dictionaries aren't ordered. If you _need_ them to be ordered, you can work around this by sorting the keys (or values) in the loop"
   ]
  },
  {
   "cell_type": "code",
   "execution_count": 5,
   "metadata": {},
   "outputs": [
    {
     "name": "stdout",
     "output_type": "stream",
     "text": [
      "two: 2\n",
      "three: 1\n",
      "four: 4\n"
     ]
    }
   ],
   "source": [
    "for key, value in D.items():\n",
    "    print(f\"{key}: {value}\")"
   ]
  },
  {
   "cell_type": "code",
   "execution_count": 6,
   "metadata": {},
   "outputs": [
    {
     "name": "stdout",
     "output_type": "stream",
     "text": [
      "four: 4\n",
      "three: 1\n",
      "two: 2\n"
     ]
    }
   ],
   "source": [
    "for key,value in sorted(D.items()):\n",
    "    print(f\"{key}: {value}\")"
   ]
  },
  {
   "cell_type": "markdown",
   "metadata": {},
   "source": [
    "Dictionaries also have a comprehension idiom for quickly creating simple dictionaries, but again, use it sparingly and where it won't cause confusion."
   ]
  },
  {
   "cell_type": "code",
   "execution_count": 7,
   "metadata": {},
   "outputs": [
    {
     "data": {
      "text/plain": [
       "{'0': 0, '1': 1, '2': 2, '3': 3, '4': 4}"
      ]
     },
     "execution_count": 7,
     "metadata": {},
     "output_type": "execute_result"
    }
   ],
   "source": [
    "D2 = {str(i): i for i in range(5) }\n",
    "D2"
   ]
  },
  {
   "cell_type": "markdown",
   "metadata": {},
   "source": [
    "The `in` keyword will test for the existence of keys in a dict, e.g."
   ]
  },
  {
   "cell_type": "code",
   "execution_count": 8,
   "metadata": {},
   "outputs": [
    {
     "data": {
      "text/plain": [
       "True"
      ]
     },
     "execution_count": 8,
     "metadata": {},
     "output_type": "execute_result"
    }
   ],
   "source": [
    "'2' in D2"
   ]
  },
  {
   "cell_type": "markdown",
   "metadata": {},
   "source": [
    "The ** in front of a variable is used to indicate both the key and the value in a dictionary.\n",
    "Using that syntaxis you can manipulate dictionaries.\n",
    "Also this ** is used in function variables to indicate that the input is an arbitrary number of keys and values"
   ]
  },
  {
   "cell_type": "code",
   "execution_count": 9,
   "metadata": {},
   "outputs": [
    {
     "name": "stdout",
     "output_type": "stream",
     "text": [
      "{'a': 1, 'b': 2}\n",
      "{'b': 3, 'c': 4}\n",
      "{'a': 1, 'b': 3, 'c': 4}\n"
     ]
    }
   ],
   "source": [
    "x = {'a': 1, 'b': 2}\n",
    "y = {'b': 3, 'c': 4}\n",
    "z = {**x, **y}\n",
    "print(x)\n",
    "print(y)\n",
    "print(z)"
   ]
  },
  {
   "cell_type": "markdown",
   "metadata": {},
   "source": [
    "### Example: Dictionary with the cities and populations in Alberta"
   ]
  },
  {
   "cell_type": "code",
   "execution_count": 37,
   "metadata": {},
   "outputs": [],
   "source": [
    "''' create a dictionary of a list of cities in Alberta, Canada and their population'''\n",
    "d={'Calgary': '1,096,833', 'Edmonton': '812,201', 'Red Deer': '100,418', 'Lethbridge': '92,729', 'St. Albert': '64,645', 'Medicine Hat': '63,260', 'Grande Prairie': '63,166', 'Airdrie': '61,581', 'Spruce Grove': '34,066', 'Lloydminster': '31,400', 'Fort Saskatchewan': '24,149', 'Camrose': '18,742', 'Cochrane': '18,015', 'Brooks': '14,451', 'Stony Plain': '15,051', 'Canmore': '13,992', 'Hanna': '2,673', 'Vegreville': '5,708', 'High River': '13,584', 'Morinville': '9,848', 'Whitecourt': '10,204', 'Sylvan Lake': '14,816', 'Wetaskiwin': '12,655', 'Okotoks': '28,881', 'Ponoka': '6,773', 'Taber': '8,104', 'Banff': '7,851', 'Lacombe': '13,057', 'Drumheller': '8,029', 'Devon': '6,578', 'Olds': '9,184', 'Blackfalds': '9,328', 'Stettler': '5,952', 'Cochrane': '18,015', 'Slave Lake': '6,782', 'Edson': '8,414', 'Athabasca': '2,965', 'Peace River': '6,729', 'Vermilion': '4,900', 'Wainwright': '6,289', 'High Level': '3,641', 'Cardston': '3,585', 'Raymond': '3,743', 'Bonnyville': '6,216', 'Vegreville': '5,708', 'Lamont': '1,864', 'Mayerthorpe': '1,320', 'Millet': '2,061', 'St. Paul': '5,963', 'Smoky Lake': '1,022', 'Viking': '1,041',}"
   ]
  },
  {
   "cell_type": "code",
   "execution_count": 39,
   "metadata": {},
   "outputs": [
    {
     "name": "stdout",
     "output_type": "stream",
     "text": [
      "The population of Edmonton is 812,201\n"
     ]
    }
   ],
   "source": [
    "'''look up the population of a city'''\n",
    "city = input('Enter the name of a city in Alberta: ')\n",
    "print('The population of', city, 'is', d[city])\n"
   ]
  },
  {
   "cell_type": "code",
   "execution_count": 40,
   "metadata": {},
   "outputs": [
    {
     "ename": "TypeError",
     "evalue": "'>' not supported between instances of 'str' and 'int'",
     "output_type": "error",
     "traceback": [
      "\u001b[1;31m---------------------------------------------------------------------------\u001b[0m",
      "\u001b[1;31mTypeError\u001b[0m                                 Traceback (most recent call last)",
      "Cell \u001b[1;32mIn[40], line 2\u001b[0m\n\u001b[0;32m      1\u001b[0m \u001b[38;5;28;01mfor\u001b[39;00m city \u001b[38;5;129;01min\u001b[39;00m d:\n\u001b[1;32m----> 2\u001b[0m     \u001b[38;5;28;01mif\u001b[39;00m (d[city] \u001b[38;5;241m>\u001b[39m \u001b[38;5;241m100000\u001b[39m):\n\u001b[0;32m      3\u001b[0m         \u001b[38;5;28mprint\u001b[39m(city, d[city])\n",
      "\u001b[1;31mTypeError\u001b[0m: '>' not supported between instances of 'str' and 'int'"
     ]
    }
   ],
   "source": [
    "for city in d:\n",
    "    if (d[city] > 100000):\n",
    "        print(city, d[city])"
   ]
  },
  {
   "cell_type": "code",
   "execution_count": 44,
   "metadata": {},
   "outputs": [
    {
     "name": "stdout",
     "output_type": "stream",
     "text": [
      "Calgary 1,096,833 <class 'str'>\n",
      "Edmonton 812,201 <class 'str'>\n",
      "Red Deer 100,418 <class 'str'>\n",
      "Lethbridge 92,729 <class 'str'>\n",
      "St. Albert 64,645 <class 'str'>\n",
      "Medicine Hat 63,260 <class 'str'>\n",
      "Grande Prairie 63,166 <class 'str'>\n",
      "Airdrie 61,581 <class 'str'>\n",
      "Spruce Grove 34,066 <class 'str'>\n",
      "Lloydminster 31,400 <class 'str'>\n",
      "Fort Saskatchewan 24,149 <class 'str'>\n",
      "Camrose 18,742 <class 'str'>\n",
      "Cochrane 18,015 <class 'str'>\n",
      "Brooks 14,451 <class 'str'>\n",
      "Stony Plain 15,051 <class 'str'>\n",
      "Canmore 13,992 <class 'str'>\n",
      "Hanna 2,673 <class 'str'>\n",
      "Vegreville 5,708 <class 'str'>\n",
      "High River 13,584 <class 'str'>\n",
      "Morinville 9,848 <class 'str'>\n",
      "Whitecourt 10,204 <class 'str'>\n",
      "Sylvan Lake 14,816 <class 'str'>\n",
      "Wetaskiwin 12,655 <class 'str'>\n",
      "Okotoks 28,881 <class 'str'>\n",
      "Ponoka 6,773 <class 'str'>\n",
      "Taber 8,104 <class 'str'>\n",
      "Banff 7,851 <class 'str'>\n",
      "Lacombe 13,057 <class 'str'>\n",
      "Drumheller 8,029 <class 'str'>\n",
      "Devon 6,578 <class 'str'>\n",
      "Olds 9,184 <class 'str'>\n",
      "Blackfalds 9,328 <class 'str'>\n",
      "Stettler 5,952 <class 'str'>\n",
      "Slave Lake 6,782 <class 'str'>\n",
      "Edson 8,414 <class 'str'>\n",
      "Athabasca 2,965 <class 'str'>\n",
      "Peace River 6,729 <class 'str'>\n",
      "Vermilion 4,900 <class 'str'>\n",
      "Wainwright 6,289 <class 'str'>\n",
      "High Level 3,641 <class 'str'>\n",
      "Cardston 3,585 <class 'str'>\n",
      "Raymond 3,743 <class 'str'>\n",
      "Bonnyville 6,216 <class 'str'>\n",
      "Lamont 1,864 <class 'str'>\n",
      "Mayerthorpe 1,320 <class 'str'>\n",
      "Millet 2,061 <class 'str'>\n",
      "St. Paul 5,963 <class 'str'>\n",
      "Smoky Lake 1,022 <class 'str'>\n",
      "Viking 1,041 <class 'str'>\n"
     ]
    }
   ],
   "source": [
    "for city in d:\n",
    "    print(city,d[city],type(d[city]))"
   ]
  },
  {
   "cell_type": "code",
   "execution_count": 45,
   "metadata": {},
   "outputs": [
    {
     "name": "stdout",
     "output_type": "stream",
     "text": [
      "Calgary 1,096,833\n",
      "Edmonton 812,201\n",
      "Red Deer 100,418\n"
     ]
    }
   ],
   "source": [
    "''' what cities have a population larger than 100000?'''\n",
    "for city in d:\n",
    "    if int(d[city].replace(',', '')) > 100000:\n",
    "        print(city, d[city])\n",
    "        "
   ]
  },
  {
   "cell_type": "code",
   "execution_count": 14,
   "metadata": {},
   "outputs": [
    {
     "name": "stdout",
     "output_type": "stream",
     "text": [
      "{'1,096,833': 'Calgary', '812,201': 'Edmonton', '100,418': 'Red Deer', '92,729': 'Lethbridge', '64,645': 'St. Albert', '63,260': 'Medicine Hat', '63,166': 'Grande Prairie', '61,581': 'Airdrie', '34,066': 'Spruce Grove', '31,400': 'Lloydminster', '24,149': 'Fort Saskatchewan', '18,742': 'Camrose', '18,015': 'Cochrane', '14,451': 'Brooks', '15,051': 'Stony Plain', '13,992': 'Canmore', '2,673': 'Hanna', '5,708': 'Vegreville', '13,584': 'High River', '9,848': 'Morinville', '10,204': 'Whitecourt', '14,816': 'Sylvan Lake', '12,655': 'Wetaskiwin', '28,881': 'Okotoks', '6,773': 'Ponoka', '8,104': 'Taber', '7,851': 'Banff', '13,057': 'Lacombe', '8,029': 'Drumheller', '6,578': 'Devon', '9,184': 'Olds', '9,328': 'Blackfalds', '5,952': 'Stettler', '6,782': 'Slave Lake', '8,414': 'Edson', '2,965': 'Athabasca', '6,729': 'Peace River', '4,900': 'Vermilion', '6,289': 'Wainwright', '3,641': 'High Level', '3,585': 'Cardston', '3,743': 'Raymond', '6,216': 'Bonnyville', '1,864': 'Lamont', '1,320': 'Mayerthorpe', '2,061': 'Millet', '5,963': 'St. Paul', '1,022': 'Smoky Lake', '1,041': 'Viking'}\n"
     ]
    }
   ],
   "source": [
    "''' revert the dictionary so that the population is the key and the city is the value'''\n",
    "d2 = {}\n",
    "for city in d:\n",
    "    d2[d[city]] = city\n",
    "print(d2)\n"
   ]
  },
  {
   "cell_type": "code",
   "execution_count": 15,
   "metadata": {},
   "outputs": [
    {
     "name": "stdout",
     "output_type": "stream",
     "text": [
      "[1096833, 812201, 100418, 92729, 64645, 63260, 63166, 61581, 34066, 31400, 24149, 18742, 18015, 14451, 15051, 13992, 2673, 5708, 13584, 9848, 10204, 14816, 12655, 28881, 6773, 8104, 7851, 13057, 8029, 6578, 9184, 9328, 5952, 6782, 8414, 2965, 6729, 4900, 6289, 3641, 3585, 3743, 6216, 1864, 1320, 2061, 5963, 1022, 1041] \n",
      "\n"
     ]
    }
   ],
   "source": [
    "''' create a list that contains only population numbers'''\n",
    "pop = []\n",
    "for city in d:\n",
    "    pop.append(int(d[city].replace(',', '')))\n",
    "print(pop,'\\n')\n"
   ]
  },
  {
   "cell_type": "code",
   "execution_count": 16,
   "metadata": {},
   "outputs": [
    {
     "name": "stdout",
     "output_type": "stream",
     "text": [
      "dict_values(['1,096,833', '812,201', '100,418', '92,729', '64,645', '63,260', '63,166', '61,581', '34,066', '31,400', '24,149', '18,742', '18,015', '14,451', '15,051', '13,992', '2,673', '5,708', '13,584', '9,848', '10,204', '14,816', '12,655', '28,881', '6,773', '8,104', '7,851', '13,057', '8,029', '6,578', '9,184', '9,328', '5,952', '6,782', '8,414', '2,965', '6,729', '4,900', '6,289', '3,641', '3,585', '3,743', '6,216', '1,864', '1,320', '2,061', '5,963', '1,022', '1,041'])\n",
      "1022\n",
      "1041\n",
      "1320\n",
      "1864\n",
      "2061\n",
      "2673\n",
      "2965\n",
      "3585\n",
      "3641\n",
      "3743\n",
      "4900\n",
      "5708\n",
      "5952\n",
      "5963\n",
      "6216\n",
      "6289\n",
      "6578\n",
      "6729\n",
      "6773\n",
      "6782\n",
      "7851\n",
      "8029\n",
      "8104\n",
      "8414\n",
      "9184\n",
      "9328\n",
      "9848\n",
      "10204\n",
      "12655\n",
      "13057\n",
      "13584\n",
      "13992\n",
      "14451\n",
      "14816\n",
      "15051\n",
      "18015\n",
      "18742\n",
      "24149\n",
      "28881\n",
      "31400\n",
      "34066\n",
      "61581\n",
      "63166\n",
      "63260\n",
      "64645\n",
      "92729\n",
      "100418\n",
      "812201\n",
      "1096833\n"
     ]
    }
   ],
   "source": [
    "''' get the list of population numbers in ascending order by using a for loop on the values of the dictionary '''\n",
    "print(d.values())\n",
    "pop = list(d.values())\n",
    "for i in range(len(pop)):\n",
    "    pop[i] = int(pop[i].replace(',', ''))\n",
    "pop.sort(reverse=False)\n",
    "for p in pop:\n",
    "    print(p)\n",
    "\n",
    "\n",
    "\n"
   ]
  },
  {
   "cell_type": "code",
   "execution_count": 17,
   "metadata": {},
   "outputs": [
    {
     "name": "stdout",
     "output_type": "stream",
     "text": [
      "dict_keys(['Calgary', 'Edmonton', 'Red Deer', 'Lethbridge', 'St. Albert', 'Medicine Hat', 'Grande Prairie', 'Airdrie', 'Spruce Grove', 'Lloydminster', 'Fort Saskatchewan', 'Camrose', 'Cochrane', 'Brooks', 'Stony Plain', 'Canmore', 'Hanna', 'Vegreville', 'High River', 'Morinville', 'Whitecourt', 'Sylvan Lake', 'Wetaskiwin', 'Okotoks', 'Ponoka', 'Taber', 'Banff', 'Lacombe', 'Drumheller', 'Devon', 'Olds', 'Blackfalds', 'Stettler', 'Slave Lake', 'Edson', 'Athabasca', 'Peace River', 'Vermilion', 'Wainwright', 'High Level', 'Cardston', 'Raymond', 'Bonnyville', 'Lamont', 'Mayerthorpe', 'Millet', 'St. Paul', 'Smoky Lake', 'Viking'])\n",
      "dict_values(['1,096,833', '812,201', '100,418', '92,729', '64,645', '63,260', '63,166', '61,581', '34,066', '31,400', '24,149', '18,742', '18,015', '14,451', '15,051', '13,992', '2,673', '5,708', '13,584', '9,848', '10,204', '14,816', '12,655', '28,881', '6,773', '8,104', '7,851', '13,057', '8,029', '6,578', '9,184', '9,328', '5,952', '6,782', '8,414', '2,965', '6,729', '4,900', '6,289', '3,641', '3,585', '3,743', '6,216', '1,864', '1,320', '2,061', '5,963', '1,022', '1,041'])\n",
      "dict_items([('Calgary', '1,096,833'), ('Edmonton', '812,201'), ('Red Deer', '100,418'), ('Lethbridge', '92,729'), ('St. Albert', '64,645'), ('Medicine Hat', '63,260'), ('Grande Prairie', '63,166'), ('Airdrie', '61,581'), ('Spruce Grove', '34,066'), ('Lloydminster', '31,400'), ('Fort Saskatchewan', '24,149'), ('Camrose', '18,742'), ('Cochrane', '18,015'), ('Brooks', '14,451'), ('Stony Plain', '15,051'), ('Canmore', '13,992'), ('Hanna', '2,673'), ('Vegreville', '5,708'), ('High River', '13,584'), ('Morinville', '9,848'), ('Whitecourt', '10,204'), ('Sylvan Lake', '14,816'), ('Wetaskiwin', '12,655'), ('Okotoks', '28,881'), ('Ponoka', '6,773'), ('Taber', '8,104'), ('Banff', '7,851'), ('Lacombe', '13,057'), ('Drumheller', '8,029'), ('Devon', '6,578'), ('Olds', '9,184'), ('Blackfalds', '9,328'), ('Stettler', '5,952'), ('Slave Lake', '6,782'), ('Edson', '8,414'), ('Athabasca', '2,965'), ('Peace River', '6,729'), ('Vermilion', '4,900'), ('Wainwright', '6,289'), ('High Level', '3,641'), ('Cardston', '3,585'), ('Raymond', '3,743'), ('Bonnyville', '6,216'), ('Lamont', '1,864'), ('Mayerthorpe', '1,320'), ('Millet', '2,061'), ('St. Paul', '5,963'), ('Smoky Lake', '1,022'), ('Viking', '1,041')])\n",
      "1,096,833\n",
      "1,096,833\n"
     ]
    }
   ],
   "source": [
    "print(d.keys())\n",
    "print(d.values())\n",
    "print(d.items())\n",
    "print(d.get('Calgary'))\n",
    "print(d['Calgary'])"
   ]
  },
  {
   "cell_type": "code",
   "execution_count": 18,
   "metadata": {},
   "outputs": [
    {
     "name": "stdout",
     "output_type": "stream",
     "text": [
      "49\n",
      "50\n",
      "Calgary 1,096,833\n",
      "Edmonton 812,201\n",
      "Red Deer 100,418\n",
      "New City 200000\n",
      "49\n",
      "Calgary 1,096,833\n",
      "Edmonton 812,201\n",
      "Red Deer 100,418\n"
     ]
    }
   ],
   "source": [
    "''' get the length of the dictionary'''\n",
    "print(len(d))\n",
    "\n",
    "''' add a new city to the dictionary'''\n",
    "d['New City'] = '100000'\n",
    "print(len(d))\n",
    "\n",
    "''' change the population of a city'''\n",
    "d['New City'] = '200000'\n",
    "''' print only the cities with population larger than 100000'''\n",
    "\n",
    "def printLarge(d):\n",
    "    for city in d:\n",
    "        if int(d[city].replace(',', '')) > 100000:\n",
    "            print(city, d[city])\n",
    "printLarge(d)\n",
    "\n",
    "''' remove a city from the dictionary'''\n",
    "del d['New City']\n",
    "print(len(d))\n",
    "printLarge(d)\n",
    "\n"
   ]
  },
  {
   "cell_type": "code",
   "execution_count": 19,
   "metadata": {},
   "outputs": [
    {
     "name": "stdout",
     "output_type": "stream",
     "text": [
      "{'pp': 2, 'oo': 2, 'd': 1}\n",
      "The most frequent value is pp which was entered 2 times\n",
      "The most frequent value is oo which was entered 2 times\n"
     ]
    }
   ],
   "source": [
    "''' user enters a value at at itme until an empty string is entered\n",
    "determine the most frequent value entered'''\n",
    "d = {}\n",
    "while True:\n",
    "    value = input('Enter a value: ')\n",
    "    if value == '':\n",
    "        break\n",
    "    if value in d:\n",
    "        d[value] += 1\n",
    "    else:\n",
    "        d[value] = 1\n",
    "print(d)\n",
    "maxValue = max(d.values())\n",
    "for key in d:\n",
    "    if d[key] == maxValue:\n",
    "        print('The most frequent value is', key, 'which was entered', d[key], 'times')\n",
    "        continue\n",
    "\n"
   ]
  },
  {
   "cell_type": "code",
   "execution_count": 20,
   "metadata": {},
   "outputs": [
    {
     "name": "stdout",
     "output_type": "stream",
     "text": [
      "{'one': 1, 'two': 2, 'three': 3, 'four': 4, 'five': 5, 'six': 6, 'seven': 7, 'eight': 8, 'nine': 9, 'ten': 10}\n"
     ]
    }
   ],
   "source": [
    "'''create a dictionary with the names of numbers in english as keys and the numbers as values'''\n",
    "d = {'one': 1, 'two': 2, 'three': 3, 'four': 4, 'five': 5, 'six': 6, 'seven': 7, 'eight': 8, 'nine': 9, 'ten': 10}\n",
    "print(d)"
   ]
  },
  {
   "cell_type": "code",
   "execution_count": 21,
   "metadata": {},
   "outputs": [
    {
     "name": "stdout",
     "output_type": "stream",
     "text": [
      "{'one': 'un', 'two': 'deux', 'three': 'trois', 'four': 'quatre', 'five': 'cinq', 'six': 'six', 'seven': 'sept', 'eight': 'huit', 'nine': 'neuf', 'ten': 'dix'}\n",
      "one un\n",
      "two deux\n",
      "three trois\n",
      "four quatre\n",
      "five cinq\n",
      "six six\n",
      "seven sept\n",
      "eight huit\n",
      "nine neuf\n",
      "ten dix\n"
     ]
    }
   ],
   "source": [
    "'''create a dictionary with the names of numbers in english as keys and the names in french as values'''\n",
    "d = {'one': 'un', 'two': 'deux', 'three': 'trois', 'four': 'quatre', 'five': 'cinq', 'six': 'six', 'seven': 'sept', 'eight': 'huit', 'nine': 'neuf', 'ten': 'dix'}\n",
    "print(d)\n",
    "'''print the items in a list of tuples separated by new lines'''\n",
    "for key, value in d.items():\n",
    "    print(key, value)\n"
   ]
  }
 ],
 "metadata": {
  "kernelspec": {
   "display_name": "general",
   "language": "python",
   "name": "python3"
  },
  "language_info": {
   "codemirror_mode": {
    "name": "ipython",
    "version": 3
   },
   "file_extension": ".py",
   "mimetype": "text/x-python",
   "name": "python",
   "nbconvert_exporter": "python",
   "pygments_lexer": "ipython3",
   "version": "3.11.5"
  }
 },
 "nbformat": 4,
 "nbformat_minor": 2
}
