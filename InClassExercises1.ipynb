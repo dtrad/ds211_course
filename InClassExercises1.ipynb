{
 "cells": [
  {
   "cell_type": "markdown",
   "metadata": {},
   "source": [
    "# In Class Exercises 1"
   ]
  },
  {
   "cell_type": "markdown",
   "metadata": {},
   "source": [
    "### Exercise 4a) Calculate a Day’s Pay \n",
    "You work as a server and they pay you $12.34 an hour. In a typical day, you\n",
    "work 8 hours. On top of your hourly earnings, you make (on average) $50 in\n",
    "tips. Write a program to calculate what you earn on an average day."
   ]
  },
  {
   "cell_type": "code",
   "execution_count": 1,
   "metadata": {},
   "outputs": [
    {
     "name": "stdout",
     "output_type": "stream",
     "text": [
      "148.72\n"
     ]
    }
   ],
   "source": [
    "# solved for you as example\n",
    "HOURLY_WAGE = 12.34 # you get paid $12.34 an hour\n",
    "AVERAGE_HOURS = 8 # you work on average 8 hours\n",
    "AVERAGE_TIPS = 50 # you make about $50 in a day\n",
    "hourly_pay = HOURLY_WAGE * AVERAGE_HOURS # wage without tips\n",
    "total_pay = hourly_pay + AVERAGE_TIPS\n",
    "# wage with tips\n",
    "print(total_pay)"
   ]
  },
  {
   "cell_type": "markdown",
   "metadata": {},
   "source": [
    "### Exercise 4b) Calculate a Year’s Pay\n",
    "Assuming you work 5 days a week and take no vacations, write a program\n",
    "to calculate how much you make in a year (assuming a year has ~52 weeks)."
   ]
  },
  {
   "cell_type": "code",
   "execution_count": null,
   "metadata": {},
   "outputs": [],
   "source": []
  },
  {
   "cell_type": "markdown",
   "metadata": {},
   "source": [
    "### Exercise 5) Reading Input\n",
    "Read the name, month, and age information from the user.\n",
    "Print these values as well as the doubled age information."
   ]
  },
  {
   "cell_type": "code",
   "execution_count": null,
   "metadata": {},
   "outputs": [],
   "source": []
  },
  {
   "cell_type": "markdown",
   "metadata": {},
   "source": [
    "### Exercise 6) Printing Copies \n",
    "Read a word from the user and a number N.\n",
    "Print that word N times."
   ]
  },
  {
   "cell_type": "code",
   "execution_count": null,
   "metadata": {},
   "outputs": [],
   "source": []
  },
  {
   "cell_type": "markdown",
   "metadata": {},
   "source": [
    "### Exercise 9) Absolute Value (Solution)\n",
    "Write a program that takes in a number from the user\n",
    "and outputs the absolute value of that number.\n"
   ]
  },
  {
   "cell_type": "code",
   "execution_count": null,
   "metadata": {},
   "outputs": [],
   "source": []
  },
  {
   "cell_type": "markdown",
   "metadata": {},
   "source": [
    "## Exercise 10) \n",
    "Write a program that takes in a number Xand a number Y and outputs the value of X^Y(Xto the power of Y)"
   ]
  },
  {
   "cell_type": "code",
   "execution_count": null,
   "metadata": {},
   "outputs": [],
   "source": []
  },
  {
   "cell_type": "markdown",
   "metadata": {},
   "source": [
    "\n",
    "######################################################################\n",
    "# Lab 3\n",
    "## Graphics"
   ]
  },
  {
   "cell_type": "markdown",
   "metadata": {},
   "source": [
    "### Exercise 1) Draw a Line\n",
    "Using the SimpleGraphics library, draw a line - any line!\n",
    "What happens when you include 3 pairs of coordinates instead of 2?"
   ]
  },
  {
   "cell_type": "code",
   "execution_count": null,
   "metadata": {},
   "outputs": [],
   "source": []
  },
  {
   "cell_type": "markdown",
   "metadata": {},
   "source": [
    "### Exercise 2) Hello World with SimpleGraphics\n",
    "Using the SimpleGraphics library, make the words “Hello, world!” show up.\n",
    "Try changing the font size, the font type, etc!"
   ]
  },
  {
   "cell_type": "code",
   "execution_count": null,
   "metadata": {},
   "outputs": [],
   "source": []
  },
  {
   "cell_type": "code",
   "execution_count": null,
   "metadata": {},
   "outputs": [],
   "source": []
  },
  {
   "cell_type": "code",
   "execution_count": null,
   "metadata": {},
   "outputs": [],
   "source": []
  },
  {
   "cell_type": "markdown",
   "metadata": {},
   "source": [
    "## Lab 4 - Decisions"
   ]
  },
  {
   "cell_type": "markdown",
   "metadata": {},
   "source": [
    "# Exercise 10) Multiples\n",
    "Our program records inventory for a stock of candy bars.\n",
    "Each bar costs $1.25. Therefore, if the total cash on hand is not divisible by\n",
    "$1.25, we know we have an error in the cash count.\n",
    "Get the cash on hand from the user and determine if the cash count is valid."
   ]
  },
  {
   "cell_type": "code",
   "execution_count": null,
   "metadata": {},
   "outputs": [],
   "source": []
  },
  {
   "cell_type": "markdown",
   "metadata": {},
   "source": [
    "# Exercise 11) Calculating Average\n",
    "Imagine we have retrieved four values from a database: 14, 26, 29, and 34.\n",
    "These represent the number of admissions to our business across four days.\n",
    "Our goal was to average 25 admissions across the four days.\n",
    "Determine whether we met the goal, fell short, or exceeded the goal."
   ]
  },
  {
   "cell_type": "code",
   "execution_count": null,
   "metadata": {},
   "outputs": [],
   "source": []
  },
  {
   "cell_type": "markdown",
   "metadata": {},
   "source": [
    "# Exercise 12) Find the Largest Integer\n",
    "Get three integers as input from the user.\n",
    "Find the largest integer using if statements and print it."
   ]
  },
  {
   "cell_type": "code",
   "execution_count": null,
   "metadata": {},
   "outputs": [],
   "source": []
  },
  {
   "cell_type": "markdown",
   "metadata": {},
   "source": [
    "# Exercise 16a) Apartment Building\n",
    "An apartment building does not use the number 13 for any floor numbers.\n",
    "The floors are otherwise numbered up to 16.\n",
    "Determine if the floor number entered by the user is a valid floor number."
   ]
  },
  {
   "cell_type": "code",
   "execution_count": null,
   "metadata": {},
   "outputs": [],
   "source": []
  },
  {
   "cell_type": "markdown",
   "metadata": {},
   "source": [
    "# Exercise 16b) Apartment Building (Advanced)\n",
    "An apartment building has 12 apartments on all floors up to floor 7.\\\n",
    "On floors higher than 7, there are 14 apartments.\\\n",
    "However, floor 3 has only 8 apartments, and floor 10 has 12 apartments.\\\n",
    "There is no floor 13.\\\n",
    "Determine if the apartment number entered by the user (for example,\\\n",
    "number 612 implies 6th floor, unit 12) is a valid apartment number.\\"
   ]
  },
  {
   "cell_type": "code",
   "execution_count": null,
   "metadata": {},
   "outputs": [],
   "source": []
  },
  {
   "cell_type": "markdown",
   "metadata": {},
   "source": []
  }
 ],
 "metadata": {
  "kernelspec": {
   "display_name": "general",
   "language": "python",
   "name": "python3"
  },
  "language_info": {
   "codemirror_mode": {
    "name": "ipython",
    "version": 3
   },
   "file_extension": ".py",
   "mimetype": "text/x-python",
   "name": "python",
   "nbconvert_exporter": "python",
   "pygments_lexer": "ipython3",
   "version": "3.9.5"
  }
 },
 "nbformat": 4,
 "nbformat_minor": 2
}
