{
 "cells": [
  {
   "cell_type": "markdown",
   "metadata": {},
   "source": [
    "# In Class Exercises 2\n",
    "### Labs 5, 6\n",
    "- Lab 5: Decisions\n",
    "- Lab 6: Functions\n",
    "\n",
    "Deadline (approximate): March 18-2024\n"
   ]
  },
  {
   "cell_type": "code",
   "execution_count": 8,
   "metadata": {},
   "outputs": [
    {
     "name": "stdout",
     "output_type": "stream",
     "text": [
      "This rubric is in development and will be updated as the course progresses.\n",
      "L5exercise1a\t0.0\n",
      "L5exercise1b\t0.5\n",
      "L5exercise2\t0.5\n",
      "L5exercise4\t0.5\n",
      "L5exercise5a\t0.5\n",
      "L5exercise5b\t0.5\n",
      "L5exercise6\t0.5\n",
      "L5exercise7\t0.0\n",
      "L5exercise8\t0.5\n",
      "L5exercise9\t0.5\n",
      "L5exercise10\t0.5\n",
      "L6exercise3\t0.0\n",
      "L6exercise14\t0.5\n",
      "L6exercise15\t1.0\n",
      "L6exercise16\t1.0\n",
      "L6exercise17\t3.0\n",
      "Total\t10.0\n"
     ]
    }
   ],
   "source": [
    "print(\"This rubric is in development and will be updated as the course progresses.\")\n",
    "# create a dictionary with key as the exercise name and values the grade for the exercis\n",
    "grades = {\"L5exercise1a\": 0, \"L5exercise1b\": 0.5, \"L5exercise2\": 0.5, \"L5exercise4\": 0.5,\n",
    "          \"L5exercise5a\": 0.5, \"L5exercise5b\": 0.5, \"L5exercise6\": 0.5,\n",
    "          \"L5exercise7\": 0, \"L5exercise8\": 0.5, \"L5exercise9\": 0.5, \"L5exercise10\": 0.5, \n",
    "          \"L6exercise3\": 0, \"L6exercise14\": 0.5, \"L6exercise15\": 1, \"L6exercise16\": 1, \n",
    "          \"L6exercise17\": 3 }\n",
    "# scale the grades such that the total is 10\n",
    "total = 0\n",
    "for grade in grades.values():\n",
    "    total += grade\n",
    "scale = 10 / total\n",
    "for key in grades:\n",
    "    grades[key] *= scale\n",
    "# print the grades with two columns, first is the exercise name and second the grade\n",
    "for key, value in grades.items():\n",
    "    print(key, value, sep=\"\\t\")\n",
    "# print the total grade\n",
    "print(\"Total\", sum(grades.values()), sep=\"\\t\")\n"
   ]
  },
  {
   "cell_type": "markdown",
   "metadata": {},
   "source": [
    "## Topic 5\n",
    "### Exercise 1a) \n",
    "(Solution given as example, no points)\n",
    "Remember the secret number game from last week?\\\n",
    "Modify it so that the program loops until the secret number is guessed.\\\n",
    "Once it is guessed, the program should terminate."
   ]
  },
  {
   "cell_type": "code",
   "execution_count": 2,
   "metadata": {},
   "outputs": [
    {
     "name": "stdout",
     "output_type": "stream",
     "text": [
      "\u0007Beep! Incorrect!\n",
      "\u0007Beep! Incorrect!\n",
      "\u0007Beep! Incorrect!\n",
      "\u0007Beep! Incorrect!\n",
      "\u0007Beep! Incorrect!\n",
      "\u0007Beep! Incorrect!\n",
      "\u0007Beep! Incorrect!\n",
      "\u0007Beep! Incorrect!\n",
      "Correct!\n",
      "Thanks for playing\n"
     ]
    }
   ],
   "source": [
    "secretNumber = 7\n",
    "guess = int(input(\"Guess the number between one and ten: \")) # prompt for a guess\n",
    "# Until the user guesses '7', we want the program to keep looping.\n",
    "while(guess != secretNumber):\n",
    "    # So, while their guesses are incorrect,\n",
    "    print(\"\\aBeep! Incorrect!\") # tell them they are wrong\n",
    "    # and let them try again by restating the previous prompt:\n",
    "    guess = int(input(\"Guess the number between one and ten: \"))\n",
    "print(\"Correct!\")  # They guessed correctly since the loop terminated!\n",
    "print(\"Thanks for playing\")"
   ]
  },
  {
   "cell_type": "markdown",
   "metadata": {},
   "source": [
    "### Exercise 1b) Secret Number Game\n",
    "Modify the secret number game again so that the user only has 3 tries to get the right answer.\\\n",
    "If they guess incorrectly 3 times, the program should quit with a message telling them to “Try again!”"
   ]
  },
  {
   "cell_type": "code",
   "execution_count": null,
   "metadata": {},
   "outputs": [],
   "source": []
  },
  {
   "cell_type": "markdown",
   "metadata": {},
   "source": [
    "### Exercise 2) Call Center Employee\n",
    "You work at a call center and your goal is to randomly generate phone\n",
    "numbers for your coworkers to dial.\\\n",
    "Make a program that randomly generates and prints a 7-digit phone number every time you press enter.\\\n",
    "However, if the user enters ‘q’, the program should quit."
   ]
  },
  {
   "cell_type": "code",
   "execution_count": null,
   "metadata": {},
   "outputs": [],
   "source": []
  },
  {
   "cell_type": "markdown",
   "metadata": {},
   "source": [
    "### Exercise 4) Personal Data\n",
    "Get users to input their birth month as an integer from 1-12.\\\n",
    "Convert this to the name of the month and output that to the user.\\\n",
    "Repeat prompt for a numeric month as long as the user does not enter a value between 1 – 12."
   ]
  },
  {
   "cell_type": "code",
   "execution_count": null,
   "metadata": {},
   "outputs": [],
   "source": []
  },
  {
   "cell_type": "markdown",
   "metadata": {},
   "source": [
    "### Exercise 5a) First Grade Math\n",
    "You are a first grade teacher who wants to make a program that randomly\\\n",
    "generates simple addition math problems for your students.\\\n",
    "This program should generate a problem x+y=z where both x and y range\\\n",
    "from 0-10, and it should not quit until the correct answer z is input.\\\n",
    "When the correct answer is guessed, print “Correct!”\n",
    "\n",
    "#### Bonus +0.5 if using your insults wisely!\n"
   ]
  },
  {
   "cell_type": "code",
   "execution_count": 3,
   "metadata": {},
   "outputs": [],
   "source": [
    "# get a funny insult quote of monthy python and the holy grail\n",
    "# from http://www.imdb.com/title/tt0071853/quotes\n",
    "quotes = [\"Your mother was a hamster and your father smelt of elderberries!\",\n",
    "          \"I fart in your general direction!\",\n",
    "          \"Go and boil your bottoms, you sons of a silly person!\",\n",
    "          \"I blow my nose at you, so-called Ah-thoor Keeng, you and all your silly English K-n-n-n-n-n-n-n-niggits!\"]\n"
   ]
  },
  {
   "cell_type": "code",
   "execution_count": null,
   "metadata": {},
   "outputs": [],
   "source": []
  },
  {
   "cell_type": "markdown",
   "metadata": {},
   "source": [
    "### Exercise 5b) First Grade Math - Limited Attempts\n",
    "Build on your solution to the previous First Grade Math exercise. \\\n",
    "This program should still generate a problem x+y=z where both x and y\n",
    "range from 0-10, but it should quit when the correct answer z is input, OR\n",
    "when the user has exceeded 3 attempts, whichever comes first.\n",
    "If the correct answer is guessed, print “Correct!”\n",
    "If the user runs out of attempts, print “Attempts exceeded!”"
   ]
  },
  {
   "cell_type": "code",
   "execution_count": null,
   "metadata": {},
   "outputs": [],
   "source": []
  },
  {
   "cell_type": "markdown",
   "metadata": {},
   "source": [
    "### Exercise 6 - Census Program\n",
    "Suppose you’re designing an online census form.\\\n",
    "You need to find out how many children are in the family of the current\n",
    "participant, as well as the age of each child.\\\n",
    "If the age entered is 18 or above, print “Child must be under 18.”\\\n",
    "Then prompt the user to enter the age again. Repeat for all children.\\\n",
    "Hint: Try using nested while loops!"
   ]
  },
  {
   "cell_type": "code",
   "execution_count": null,
   "metadata": {},
   "outputs": [],
   "source": []
  },
  {
   "cell_type": "markdown",
   "metadata": {},
   "source": [
    "## Part TWO: For loops\n",
    "### Exercise 7: print even numbers\n",
    "(Solution given for example, no marks)\n",
    "Get a number n from the user.\\\n",
    "Using a For Loop, print all the even numbers from 1 to n.\\\n",
    "Remember: A number i is even if (i % 2) == 0"
   ]
  },
  {
   "cell_type": "code",
   "execution_count": 4,
   "metadata": {},
   "outputs": [
    {
     "name": "stdout",
     "output_type": "stream",
     "text": [
      "2\n",
      "4\n",
      "6\n",
      "8\n",
      "10\n"
     ]
    }
   ],
   "source": [
    "'''Get a number n from the user.\n",
    "Using a For Loop, print all the even numbers from 1 to n.\n",
    "Remember: A number i is even if (i % 2) == 0\n",
    "'''\n",
    "n = int(input(\"Enter a number: \"))\n",
    "for i in range(1, n+1):\n",
    "    if (i % 2) == 0:\n",
    "        print(i)"
   ]
  },
  {
   "cell_type": "markdown",
   "metadata": {},
   "source": [
    "### Exercise 8) Roll a Die\n",
    "Suppose you are designing an online board game where the player must roll\n",
    "an n-sided die multiple times and add up all of the rolls.\n",
    "Write a program that asks the user how many times they want to roll the\n",
    "die, how many sides their die has, and then calculates and prints the sum of\n",
    "all of their dice rolls.\n",
    "Hint) Remember to use random numbers for each roll!"
   ]
  },
  {
   "cell_type": "code",
   "execution_count": null,
   "metadata": {},
   "outputs": [],
   "source": [
    "\n"
   ]
  },
  {
   "cell_type": "markdown",
   "metadata": {},
   "source": [
    "### Exercise 9) Student Grades\n",
    "Suppose you are designing a grade-tracking program for a teacher.\\\n",
    "The teacher has 12 students, and needs to enter grades for 3 assignments for each student.\\\n",
    "Write a program that prompts the teacher for all the necessary grades and,\\\n",
    "after all three assignment grades are entered, prints the average grade of that student.\\\n",
    "Hint) Try using nested for loops!"
   ]
  },
  {
   "cell_type": "code",
   "execution_count": null,
   "metadata": {},
   "outputs": [],
   "source": [
    "\n"
   ]
  },
  {
   "cell_type": "markdown",
   "metadata": {},
   "source": [
    "## Part Three: Nested While and For Loops\n",
    "### Exercise 10\n",
    "This time, solve Exercise 4 using a combination of for and while loops.\n",
    "This program should still generate a problem x+y=z where both x and y\n",
    "range from 0-10, and it should quit when the correct answer z is input.\n",
    "This time, the student must get four answers correct before the program\n",
    "quits."
   ]
  },
  {
   "cell_type": "code",
   "execution_count": null,
   "metadata": {},
   "outputs": [],
   "source": []
  },
  {
   "cell_type": "markdown",
   "metadata": {},
   "source": [
    "## TOPIC 6: Functions\n"
   ]
  },
  {
   "cell_type": "markdown",
   "metadata": {},
   "source": [
    "## Lab 6: Exercise 3\n",
    "(Solution given as example, no marks)\n",
    "Write a function that takes in a temperature and tells the user if it is\n",
    "safe for their dogs to be outside (either too hot, too cold, or just\n",
    "right!). Assume that a dog can safely be outside in temperatures no lower\n",
    "than -10°C and no higher than 41°C.\n"
   ]
  },
  {
   "cell_type": "code",
   "execution_count": 6,
   "metadata": {},
   "outputs": [
    {
     "name": "stdout",
     "output_type": "stream",
     "text": [
      "Just right!\n"
     ]
    }
   ],
   "source": [
    "'''Write a function that takes in a temperature and tells the user if it is\n",
    "safe for their dogs to be outside (either too hot, too cold, or just\n",
    "right!).\n",
    "Assume that a dog can safely be outside in temperatures no lower\n",
    "than -10°C and no higher than 41°C.\n",
    "'''\n",
    "LOW_BOUND = -10 # dogs shouldn't be outside if it colder than -10 degrees celsius\n",
    "HI_BOUND = 41 # dogs shouldn't be outside if it is hotter than 41 degrees celsius\n",
    "\n",
    "\n",
    "def safeForDogs(temp):\n",
    "    if (temp < -10):\n",
    "        print(\"Too cold!\")\n",
    "    elif (temp > 41):\n",
    "        print(\"Too hot!\")\n",
    "    else:\n",
    "        print(\"Just right!\")\n",
    "\n",
    "safeForDogs(10) # should print \"Just right!\"\n"
   ]
  },
  {
   "cell_type": "markdown",
   "metadata": {},
   "source": [
    "## Lab 6: Exercise 14\n",
    "Write a function that takes in the number of times to “roll a dice” \n",
    "and returns the average of all the dice rolls.\\\n",
    "The number of sides of the dice block should default to 6 if no other\n",
    "value is specified by the user.\n"
   ]
  },
  {
   "cell_type": "code",
   "execution_count": null,
   "metadata": {},
   "outputs": [],
   "source": []
  },
  {
   "cell_type": "markdown",
   "metadata": {},
   "source": [
    "## Lab 6: Exercise 15:\n",
    "You work at a store that is going out of business - everything must go!\n",
    "Almost everything in the story is now 60% off! \\\n",
    "However, there are a few more expensive items in the store that have\n",
    "a custom markdown percentage. \\\n",
    "Write a function that takes a price and returns the discounted price.\n",
    "If the user does not enter a custom percentage, it should default to 60%.\n"
   ]
  },
  {
   "cell_type": "code",
   "execution_count": null,
   "metadata": {},
   "outputs": [],
   "source": []
  },
  {
   "cell_type": "markdown",
   "metadata": {},
   "source": [
    "## Lab 6: Exercise 16\n",
    "First, write two functions: each one should take a radius, but one should \n",
    "return the area of the circle and other should return the circumference.\\\n",
    "Then, use those “helper” functions to write a function that takes a\n",
    "radius and prints the area and circumference of a circle with that radius.\\\n",
    "Your solution should use a constant for Pi.\n"
   ]
  },
  {
   "cell_type": "code",
   "execution_count": null,
   "metadata": {},
   "outputs": [],
   "source": []
  },
  {
   "cell_type": "markdown",
   "metadata": {},
   "source": [
    "## Lab 6: Exercise 17\n",
    "(part of the solution given, complete as needed)\n",
    "Write a rock paper scissors game where the opponent is the computer.\\\n",
    "There are three rounds. The user should be able to enter 1 for rock, 2 for paper, and 3 for\n",
    "scissors.\\\n",
    "You should tell the user what the computer chose and who won each round. \\\n",
    "At the end of the game, announce the overall winner! \\\n",
    "Hint) Use random numbers for the computer.7\n"
   ]
  },
  {
   "cell_type": "code",
   "execution_count": 49,
   "metadata": {},
   "outputs": [],
   "source": [
    "import random\n",
    "# ----- CONSTANTS -----\n",
    "ROCK = 1  # what the user types for Rock\n",
    "PAPER = 2 # what the user types for Paper\n",
    "SCISSORS = 3 # what the user types for Scissors\n",
    "# ----- GLOBAL VARIABLES -----\n",
    "computer_wins = 0  # keeps track of how many times the computer won\n",
    "user_wins = 0  # keeps track of how many times the user won\n"
   ]
  },
  {
   "cell_type": "code",
   "execution_count": 50,
   "metadata": {},
   "outputs": [],
   "source": [
    "# This function takes in a number 1-3 and prints the corresponding string\n",
    "#  i.e. 1 --> \"Rock\", 2 --> \"Paper\", and 3 --> \"Scissors\"\n",
    "def valueToString(val):\n",
    "    string = \"\"\n",
    "    if val == ROCK:\n",
    "        string = \"Rock\"\n",
    "    elif val == PAPER:\n",
    "        # complete code here\n",
    "    elif val == SCISSORS:\n",
    "        # complete code here\n",
    "    else:\n",
    "        string = \"Invalid Choice\"\n",
    "    return string\n"
   ]
  },
  {
   "cell_type": "code",
   "execution_count": 51,
   "metadata": {},
   "outputs": [],
   "source": [
    "# This function asks the user to choose rock, paper, or scissors.\n",
    "# It also prints the user's choice as a string to the console.\n",
    "def userChoice():\n",
    "    print(\"\\tType 1 for 'Rock', 2 for 'Paper', and 3 for 'Scissors'.\")\n",
    "    # complete the code\n",
    "\n",
    "    return choice\n",
    "\n",
    "# This function generates a random number from 1-3 for the computer's choice.\n",
    "# It also prints the computer's choice as a string to the console.\n",
    "def computerChoice():\n",
    "    choice = random.randint(ROCK, SCISSORS) # choose a random value from 1 to 3 (inclusive)\n",
    "    print(\"The computer chose\", valueToString(choice))\n",
    "    return choice\n",
    "\n",
    "# Function that handles the user winning by printing a message and returning 1\n",
    "def handleUserWin():\n",
    "    userWinMsg = \"You won this round!\"\n",
    "    print(userWinMsg)\n",
    "    return 1\n",
    "\n",
    "# Nested function that handles the computer winning by printing a message and returning 1\n",
    "def handleCompWin():\n",
    "    compWinMsg = \"The computer won this round.\"\n",
    "    print(compWinMsg)\n",
    "    return 1\n"
   ]
  },
  {
   "cell_type": "code",
   "execution_count": 52,
   "metadata": {},
   "outputs": [],
   "source": [
    "# This function compares the user's choice and the computer's choice and prints\n",
    "# a statement declaring the winner. It will also add 1 to the correct global\n",
    "# variable (user_wins or computer_wins) depending on the outcome.\n",
    "def findWinner(user, computer):\n",
    "    # complete the code here\n",
    "    return userWins, compWins  # returns (1,0) if user won or (0,1) if comp won\n"
   ]
  },
  {
   "cell_type": "code",
   "execution_count": 7,
   "metadata": {},
   "outputs": [
    {
     "name": "stdout",
     "output_type": "stream",
     "text": [
      "\n",
      "----- Round #1 -----\n",
      "\n",
      "----- Round #2 -----\n",
      "\n",
      "----- Round #3 -----\n",
      "\n",
      "****** Darn, it was a draw! ******\n"
     ]
    }
   ],
   "source": [
    "# This is the main function that loops through 3 rounds and declares\n",
    "# the winner based on who won the most rounds.\n",
    "sumUserWins = 0\n",
    "sumCompWins = 0\n",
    "for round in range(0,3):\n",
    "    print(\"\\n----- Round #%d -----\" %(round + 1))\n",
    "    # complete the code here\n",
    "    \n",
    "if(sumUserWins > sumCompWins): # Notice the indents: still inside main() function\n",
    "    print(\"\\n****** Congrats! You win!! ******\")\n",
    "elif(sumCompWins > sumUserWins):\n",
    "    print(\"\\n****** Boo! The computer won :( ******\")\n",
    "else:\n",
    "    print(\"\\n****** Darn, it was a draw! ******\")\n",
    "\n"
   ]
  },
  {
   "cell_type": "code",
   "execution_count": null,
   "metadata": {},
   "outputs": [],
   "source": []
  }
 ],
 "metadata": {
  "kernelspec": {
   "display_name": "general",
   "language": "python",
   "name": "python3"
  },
  "language_info": {
   "codemirror_mode": {
    "name": "ipython",
    "version": 3
   },
   "file_extension": ".py",
   "mimetype": "text/x-python",
   "name": "python",
   "nbconvert_exporter": "python",
   "pygments_lexer": "ipython3",
   "version": "3.11.0"
  }
 },
 "nbformat": 4,
 "nbformat_minor": 2
}
