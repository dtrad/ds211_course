{
 "cells": [
  {
   "cell_type": "markdown",
   "metadata": {},
   "source": [
    "# In Class Exercises 3\n",
    "### Labs 7, 8, 9, 10\n",
    "- Lab 7: Lists and tuples\n",
    "- Lab 8: Strings\n",
    "\n",
    "Deadline (approximate): April 06-2024\n"
   ]
  },
  {
   "cell_type": "code",
   "execution_count": 12,
   "metadata": {},
   "outputs": [
    {
     "name": "stdout",
     "output_type": "stream",
     "text": [
      "Exercises with 0 marks have solution given as examples.\n",
      "L7exercise1\t0.0\n",
      "L7exercise2\t0.0\n",
      "L7exercise3\t0.5\n",
      "L7exercise4\t0.5\n",
      "L7exercise5\t0.5\n",
      "L7exercise6\t0.5\n",
      "L7exercise7\t0.5\n",
      "L7exercise8\t0.5\n",
      "L7exercise9\t0.5\n",
      "L7exercise12a\t0.0\n",
      "L7exercise12b\t0.5\n",
      "L7exercise12d\t0.5\n",
      "L8exercise1\t0.0\n",
      "L8exercise2\t0.5\n",
      "L8exercise3\t0.5\n",
      "L8exercise4\t0.5\n",
      "L8exercise5\t0.5\n",
      "L8exercise6\t0.5\n",
      "L8exercise7\t0.5\n",
      "L8exercise8\t0.5\n",
      "L8exercise9\t0.5\n",
      "L8exercise10\t0.5\n",
      "L8exercise12\t1.0\n",
      "Total\t10.0\n"
     ]
    }
   ],
   "source": [
    "## Rubric will be here\n",
    "print(\"Exercises with 0 marks have solution given as examples.\")\n",
    "# This rubric will be modified as the course progresses\n",
    "# create a dictionary with key as the exercise name and values the grade for the exercis\n",
    "grades = {\"L7exercise1\": 0, \"L7exercise2\": 0, \"L7exercise3\": 0.5, \"L7exercise4\": 0.5,\n",
    "          \"L7exercise5\": 0.5, \"L7exercise6\": 0.5, \"L7exercise7\": 0.5,\n",
    "          \"L7exercise8\": 0.5, \"L7exercise9\": 0.5, \"L7exercise12a\": 0, \"L7exercise12b\": 0.5, \n",
    "          \"L7exercise12d\": 0.5, \"L8exercise1\": 0, \"L8exercise2\": 0.5, \"L8exercise3\": 0.5, \n",
    "          \"L8exercise4\": 0.5, \"L8exercise5\": 0.5, \"L8exercise6\": 0.5, \"L8exercise7\": 0.5,          \n",
    "          \"L8exercise8\": 0.5, \"L8exercise9\": 0.5, \"L8exercise10\" : 0.5, \"L8exercise12\": 1.0,}\n",
    "# scale the grades such that the total is 10\n",
    "total = 0\n",
    "for grade in grades.values():\n",
    "    total += grade\n",
    "scale = 10 / total\n",
    "for key in grades:\n",
    "    grades[key] *= scale\n",
    "# print the grades with two columns, first is the exercise name and second the grade\n",
    "for key, value in grades.items():\n",
    "    print(key, value, sep=\"\\t\")\n",
    "# print the total grade\n",
    "print(\"Total\", sum(grades.values()), sep=\"\\t\")\n"
   ]
  },
  {
   "cell_type": "markdown",
   "metadata": {},
   "source": [
    "## Topic 7 - Lists and tuples\n",
    "### Exercise 1) Total Sales (given as example)\n",
    "Suppose you are a salesman and, at the end of the day, you have sold four\n",
    "items. Each item was priced as follows:\n",
    "$15.99, $17.01, $9.99, and $13.89.\n",
    "Define a list containing the price of every item you sold.\n",
    "Then, write a function that will return your total sales for the day."
   ]
  },
  {
   "cell_type": "code",
   "execution_count": 1,
   "metadata": {},
   "outputs": [
    {
     "name": "stdout",
     "output_type": "stream",
     "text": [
      "You made 56.88 in sales today.\n"
     ]
    }
   ],
   "source": [
    "def totalSales(salestList):\n",
    "    total = 0\n",
    "    for sale in salestList:\n",
    "        total += sale\n",
    "    return total\n",
    "\n",
    "salesToday = [15.99, 17.01, 9.99, 13.89]\n",
    "totalSalesToday = totalSales(salesToday)\n",
    "print(\"You made %.2f in sales today.\" %totalSalesToday)"
   ]
  },
  {
   "cell_type": "markdown",
   "metadata": {},
   "source": [
    "## Exercise 2) Census program (Print genders)\n",
    "In the code provided \"CensusExercise_StubCode.py”, you will find templates for the functions required below.\n",
    "Print the entire gender list using a loop.\n",
    "A sample output for one citizen would be “Citizen 3 is a female.”"
   ]
  },
  {
   "cell_type": "code",
   "execution_count": 2,
   "metadata": {},
   "outputs": [
    {
     "name": "stdout",
     "output_type": "stream",
     "text": [
      "Citizen 1 is male\n",
      "Citizen 2 is female\n",
      "Citizen 3 is female\n",
      "Citizen 4 is female\n",
      "Citizen 5 is male\n",
      "Citizen 6 is female\n"
     ]
    }
   ],
   "source": [
    "genders = [\"male\", \"female\", \"female\", \"female\", \"male\", \"female\"]\n",
    "citizen_number = 1\n",
    "for one_gender in genders:\n",
    "    print(\"Citizen %d is %s\" %(citizen_number, one_gender))\n",
    "    citizen_number += 1"
   ]
  },
  {
   "cell_type": "markdown",
   "metadata": {},
   "source": [
    "## Exercise 3) Census program (Count Genders)\n",
    "Using the code provided, define the countGenders() function.\n",
    "A list of genders for 6 different citizens has already been provided in the\n",
    "program’s main() function. Pass it as a parameter to countGenders() and\n",
    "return the number of males and the number of females."
   ]
  },
  {
   "cell_type": "code",
   "execution_count": null,
   "metadata": {},
   "outputs": [],
   "source": []
  },
  {
   "cell_type": "markdown",
   "metadata": {},
   "source": [
    "## Exercise 4) Census program (Average Citizen Age)\n",
    "Using the code provided, define the averageAge() function.\n",
    "First, you will need to define a list of ages for your current 6 citizens - you\n",
    "should do this in main(), as indicated by the comment.\n",
    "The ages should be as follows: 15, 26, 40, 82, 3, and 21.\n",
    "Then, you should pass this list to your averageAge() function, which should\n",
    "return the calculated average age. Print the value in main()!"
   ]
  },
  {
   "cell_type": "code",
   "execution_count": null,
   "metadata": {},
   "outputs": [],
   "source": []
  },
  {
   "cell_type": "markdown",
   "metadata": {},
   "source": [
    "## Exercise 5) Census Program (Age Demographics)\n",
    "Using the code provided, define the ageDemographics() function.\n",
    "This function should take the age list as a parameter and return the number of\n",
    "children (ages 0-17), adults (ages 18-64), and seniors (ages 65+)."
   ]
  },
  {
   "cell_type": "code",
   "execution_count": null,
   "metadata": {},
   "outputs": [],
   "source": []
  },
  {
   "cell_type": "markdown",
   "metadata": {},
   "source": [
    "# PART 2: \n"
   ]
  },
  {
   "cell_type": "markdown",
   "metadata": {},
   "source": [
    "## Exercise 6) More Sales\n",
    "Once again, suppose you are a salesman.\\\n",
    "Write a function that will continuously prompt the user for the price of an item\n",
    "until they enter 0 to terminate.\\\n",
    "Using the function from Exercise 1, print the sum of this user-generated list."
   ]
  },
  {
   "cell_type": "code",
   "execution_count": null,
   "metadata": {},
   "outputs": [],
   "source": []
  },
  {
   "cell_type": "markdown",
   "metadata": {},
   "source": [
    "## Exercise 7) Census Program (Add a Citizen)\n",
    "Using the comments provided, define the newCitizen() function.\n",
    "This function should take both the age and gender of the new citizen, as well\n",
    "as the census’ age and gender lists (since you will need to update them).\n",
    "After the citizen’s information has been added updated census lists into both lists"
   ]
  },
  {
   "cell_type": "code",
   "execution_count": 2,
   "metadata": {},
   "outputs": [],
   "source": [
    "# Add a citizen to our census\n",
    "# @param new_gender:  the gender of the new citizen to be added\n",
    "# @param new_age:  the age of the new citizen to be added\n",
    "# @param gender_list: a list of all current citizen's genders\n",
    "# @param age_list:  a list of all current citizen's ages\n",
    "# @return None\n",
    "def newCitizen():\n",
    "    # your code here\n",
    "    return"
   ]
  },
  {
   "cell_type": "markdown",
   "metadata": {},
   "source": [
    "print your lists,\n",
    "update\n",
    "print again"
   ]
  },
  {
   "cell_type": "markdown",
   "metadata": {},
   "source": [
    "## Exercise 8) Census Program (Ages by Gender)\n",
    "Using the code provided, define the agesByGender() function.\n",
    "This function should take the age list and the gender list as parameters, as\n",
    "well as the gender to filter by.\n",
    "It should return a new list containing only the ages of the citizens that met the\n",
    "gender condition - i.e. only the female ages OR only the male ages.\n"
   ]
  },
  {
   "cell_type": "code",
   "execution_count": 3,
   "metadata": {},
   "outputs": [],
   "source": [
    "## Make a new list of citizens' ages based on the given gender\n",
    "# @param gender_list:    a list of all current citizen's genders\n",
    "# @param age_list:       a list of all current citizen's ages\n",
    "# @return a new list of ages for citizens of the given gender\n",
    "def agesByGender(gender, gender_list, age_list):\n",
    "    # Function stub\n",
    "    new_age_list = []\n",
    "    return new_age_list"
   ]
  },
  {
   "cell_type": "markdown",
   "metadata": {},
   "source": [
    "## Exercise 9) Census Program (Remove a Citizen)\n",
    "Using the code provided, define the removeCitizen() function.\\\n",
    "This function should take the citizen’s index (or reference number) and remove\\\n",
    "them from both the age and gender lists using that index.\\\n",
    "What would you need to take as your parameters?\\\n",
    "What would you need to return?"
   ]
  },
  {
   "cell_type": "code",
   "execution_count": null,
   "metadata": {},
   "outputs": [],
   "source": [
    "## Remove a citizen from our census based on the index\n",
    "# @param  ????? what should your parameters be ????\n",
    "# @return ????? what should you return ????\n",
    "def removeCitizen():\n",
    "    # Function stub\n",
    "    return 0"
   ]
  },
  {
   "cell_type": "markdown",
   "metadata": {},
   "source": [
    "print gender and age lists, remove someone, print again"
   ]
  },
  {
   "cell_type": "markdown",
   "metadata": {},
   "source": [
    "## Exercise 12a) Grade List (given, no points)\n",
    "Suppose you are a teacher of an intro Python course.\n",
    "You have 3 students, and each student’s grades are stored in a list:\n",
    "Student 1:  [100, 97, 92, 105]\n",
    "Student 2:  [58, 64, 32, 89]\n",
    "Student 3:  [72, 81, 83, 79]\n",
    "See if you can construct a list of lists to store this information.\n"
   ]
  },
  {
   "cell_type": "code",
   "execution_count": 5,
   "metadata": {},
   "outputs": [],
   "source": [
    "# you can construct this list of lists in multiple steps:\n",
    "student1Grades = [100, 97, 92, 105]\n",
    "student2Grades = [58, 64, 32, 89]\n",
    "student3Grades = [72, 81, 83, 79]\n",
    "allStudentGrades = [student1Grades, student2Grades, student3Grades]\n",
    "# or, you can do it all at once:\n",
    "allStudentGrades = [[100, 97, 92, 105], [58, 64, 32, 89], [72, 81, 83, 79]]"
   ]
  },
  {
   "cell_type": "markdown",
   "metadata": {},
   "source": [
    "## Exercise 12b) Grade List\n",
    "Now that you have a list that keeps track of all student grades, write a function\n",
    "that will return the grade of a specific student for a specified assignment.\n",
    "This function can take in 3 parameters: the grade list, the student index, and\n",
    "the assignment index. It should return a single integer representing the grade."
   ]
  },
  {
   "cell_type": "code",
   "execution_count": null,
   "metadata": {},
   "outputs": [],
   "source": []
  },
  {
   "cell_type": "markdown",
   "metadata": {},
   "source": [
    "## Exercise 12d) Grade List\n",
    "Write a function that will calculate the final grade of every student.\\\n",
    "Assume that every assignment has an equal weight -- so, with four assignments,\\\n",
    "each assignment is worth 25% of the final grade.\\\n",
    "Your function should return a list containing the final grade of each student."
   ]
  },
  {
   "cell_type": "code",
   "execution_count": null,
   "metadata": {},
   "outputs": [],
   "source": []
  },
  {
   "cell_type": "markdown",
   "metadata": {},
   "source": [
    "# Topic 8: Strings"
   ]
  },
  {
   "cell_type": "markdown",
   "metadata": {},
   "source": [
    "## Exercise 1) Finding Substrings Using .split() \n",
    "#### (given, 0 points)\n",
    "Suppose you have retrieved some census data from a .CSV (comma separated values) file.\\\n",
    "Define this data in a list of strings as follows:"
   ]
  },
  {
   "cell_type": "code",
   "execution_count": 1,
   "metadata": {},
   "outputs": [
    {
     "data": {
      "text/plain": [
       "['Doe,John,Male,03/19/1968',\n",
       " 'Smith,Mary,Female,10/22/1970',\n",
       " 'Henderson,Sally,Female,02/02/1986',\n",
       " 'Davidson,Thomas,Male,07/31/1995',\n",
       " 'Summers,Anne,Female,09/23/1950',\n",
       " 'Williams,Frank,Male,03/26/1972',\n",
       " 'Goldsmith,Samantha,Female,10/12/2002']"
      ]
     },
     "execution_count": 1,
     "metadata": {},
     "output_type": "execute_result"
    }
   ],
   "source": [
    "data = [\"Doe,John,Male,03/19/1968\", \"Smith,Mary,Female,10/22/1970\",\n",
    "\"Henderson,Sally,Female,02/02/1986\", \"Davidson,Thomas,Male,07/31/1995\",\n",
    "\"Summers,Anne,Female,09/23/1950\", \"Williams,Frank,Male,03/26/1972\",\n",
    "\"Goldsmith,Samantha,Female,10/12/2002\"]\n",
    "data"
   ]
  },
  {
   "cell_type": "markdown",
   "metadata": {},
   "source": [
    "Write a function that will take one element from this data and separate it into a list as follows:\\\n",
    "[last_name, first_name, gender, birthday]"
   ]
  },
  {
   "cell_type": "code",
   "execution_count": 2,
   "metadata": {},
   "outputs": [],
   "source": [
    "def split_citizen(citizen_string):\n",
    "    # There are two ways of handling this:\n",
    "    last_name, first_name, gender, birthday = citizen_string.split(',') # method one\n",
    "    print(\"Citizen's gender is: \" + gender)\n",
    "    single_citizen_list = citizen_string.split(',')\n",
    "    # method two\n",
    "    print(\"Citizen's gender is: \" + single_citizen_list[2])\n",
    "    return single_citizen_list"
   ]
  },
  {
   "cell_type": "code",
   "execution_count": 3,
   "metadata": {},
   "outputs": [
    {
     "name": "stdout",
     "output_type": "stream",
     "text": [
      "Citizen's gender is: Male\n",
      "Citizen's gender is: Male\n",
      "['Doe', 'John', 'Male', '03/19/1968']\n",
      "Citizen's gender is: Female\n",
      "Citizen's gender is: Female\n",
      "['Smith', 'Mary', 'Female', '10/22/1970']\n",
      "Citizen's gender is: Female\n",
      "Citizen's gender is: Female\n",
      "['Henderson', 'Sally', 'Female', '02/02/1986']\n",
      "Citizen's gender is: Male\n",
      "Citizen's gender is: Male\n",
      "['Davidson', 'Thomas', 'Male', '07/31/1995']\n",
      "Citizen's gender is: Female\n",
      "Citizen's gender is: Female\n",
      "['Summers', 'Anne', 'Female', '09/23/1950']\n",
      "Citizen's gender is: Male\n",
      "Citizen's gender is: Male\n",
      "['Williams', 'Frank', 'Male', '03/26/1972']\n",
      "Citizen's gender is: Female\n",
      "Citizen's gender is: Female\n",
      "['Goldsmith', 'Samantha', 'Female', '10/12/2002']\n"
     ]
    }
   ],
   "source": [
    "for i in range(0, len(data)):\n",
    "    print(split_citizen(data[i]))"
   ]
  },
  {
   "cell_type": "markdown",
   "metadata": {},
   "source": [
    "## Exercise 2) Get Female and Male Citizens\n",
    "Using that same data, write a function that will generate and print two 2D lists (one for each gender).\\\n",
    "You should be able to use the previous function to help you with this!"
   ]
  },
  {
   "cell_type": "code",
   "execution_count": null,
   "metadata": {},
   "outputs": [],
   "source": []
  },
  {
   "cell_type": "markdown",
   "metadata": {},
   "source": [
    "## Exercise 3) Finding Substrings using .find()\n",
    "Using the original list of data, determine how many citizens are born between September and December of any year\\\n",
    "(i.e. how many citizens born in September, October, November, or December)."
   ]
  },
  {
   "cell_type": "code",
   "execution_count": null,
   "metadata": {},
   "outputs": [],
   "source": []
  },
  {
   "cell_type": "markdown",
   "metadata": {},
   "source": [
    "## Exercise 4) Validating User Input\n",
    "Your census program requires citizens to enter their birth month as a string.\\\n",
    "You need to validate their input to confirm they didn't input nonsense. \\\n",
    "Write a function that will continually prompt the user for their birth month until they provide valid input.\\\n",
    "For example, a citizen born in June may have entered \"June\", \"june\", \"JUne\", etc. \\\n",
    "Any of these should be considered correct since we don't care about casing. \\\n",
    "However, if they entered, \"djanladep\", they should receive an error message telling them that their input was not a valid month."
   ]
  },
  {
   "cell_type": "code",
   "execution_count": null,
   "metadata": {},
   "outputs": [],
   "source": []
  },
  {
   "cell_type": "markdown",
   "metadata": {},
   "source": [
    "## Exercise 5) Finding Sentences using .endswith()\n",
    "You are getting single-sentence comments from each person in the census data.\\\n",
    "In order to do this, you need to verify whether or not the sentences they give are valid and they only gave one;\\\n",
    "you choose to do this by checking the punctuation.\\\n",
    "Write a function that will get a single valid sentence from each user in our census data; \\\n",
    "it should return a list of sentences."
   ]
  },
  {
   "cell_type": "code",
   "execution_count": null,
   "metadata": {},
   "outputs": [],
   "source": []
  },
  {
   "cell_type": "markdown",
   "metadata": {},
   "source": [
    "## Exercise 6) Formatting User Input\n",
    "Assuming the user has provided a valid month, write a function that will return that month name with proper formatting.\\\n",
    "That is, a capital at the start, followed by all lowercase letters."
   ]
  },
  {
   "cell_type": "code",
   "execution_count": null,
   "metadata": {},
   "outputs": [],
   "source": []
  },
  {
   "cell_type": "markdown",
   "metadata": {},
   "source": [
    "## Exercise 7) Validating User Input (again!)\n",
    "Write a function that determines if a string is a number.\\\n",
    "For example, “1234” would be considered a string number whereas “123a” would not."
   ]
  },
  {
   "cell_type": "code",
   "execution_count": null,
   "metadata": {},
   "outputs": [],
   "source": []
  },
  {
   "cell_type": "markdown",
   "metadata": {},
   "source": [
    "## Exercise 8) Validating User Input (again)\n",
    "Users are creating an account in your application. As part of this, you need them to enter their birth year. \\\n",
    "However, you need to verify that the year they entered is a valid year.\\\n",
    "Write a function that will get a valid year from the user. It should prompt the user for input until they enter a valid year\\\n",
    "(i.e. it should make sure that the entered year contains 4 digits and is a number - use your function from the previous exercise)."
   ]
  },
  {
   "cell_type": "code",
   "execution_count": null,
   "metadata": {},
   "outputs": [],
   "source": []
  },
  {
   "cell_type": "markdown",
   "metadata": {},
   "source": [
    "## Exercise 9) String Manipulation\n",
    "You are going to use their birth year and their name in order to generate a temporary password for them.\\\n",
    "To help with this, write a function that will prompt the user for their name and \\\n",
    "return the first 5 letters of their first name in lowercase.\\\n",
    "If their name is less than 5 letters, it should return the entire name in uppercase instead."
   ]
  },
  {
   "cell_type": "code",
   "execution_count": null,
   "metadata": {},
   "outputs": [],
   "source": []
  },
  {
   "cell_type": "markdown",
   "metadata": {},
   "source": [
    "## Exercise 10) String Manipulation (again!)\n",
    "Now, use these two functions (getting a valid year and getting the\n",
    "first 5 digits of the user’s name) to create a temporary password\n",
    "for them.\n",
    "Their password should be the first 5 characters of their name\n",
    "with the digits of their birth year interspersed between them. If\n",
    "there are more digits than letters, simply fill out the remaining\n",
    "digits.\n",
    "e.g. If their name is Christopher and their birth year is 1994, their\n",
    "temporary password should be: c1h9r9i4s. If their name is Joe and their\n",
    "birth year is 1976, their temporary password should be : J1O9E76"
   ]
  },
  {
   "cell_type": "code",
   "execution_count": null,
   "metadata": {},
   "outputs": [],
   "source": []
  },
  {
   "cell_type": "markdown",
   "metadata": {},
   "source": [
    "## Exercise 12) Validating User Input And Comparing Strings\n",
    "Now they must create a new password to replace their temporary one. \\\n",
    "Write a function that will handle the logic for this.\\\n",
    "The new password must be 6 or more characters, and must contain at least one number.\\\n",
    "Make sure the new password does not match the temporary password. Loop until they enter a valid new password."
   ]
  },
  {
   "cell_type": "code",
   "execution_count": null,
   "metadata": {},
   "outputs": [],
   "source": []
  }
 ],
 "metadata": {
  "kernelspec": {
   "display_name": "general",
   "language": "python",
   "name": "python3"
  },
  "language_info": {
   "codemirror_mode": {
    "name": "ipython",
    "version": 3
   },
   "file_extension": ".py",
   "mimetype": "text/x-python",
   "name": "python",
   "nbconvert_exporter": "python",
   "pygments_lexer": "ipython3",
   "version": "3.11.0"
  }
 },
 "nbformat": 4,
 "nbformat_minor": 2
}
