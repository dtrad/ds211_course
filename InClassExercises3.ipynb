{
 "cells": [
  {
   "cell_type": "markdown",
   "metadata": {},
   "source": [
    "# In Class Exercises 3\n",
    "### Labs 7, 8, 9, 10\n",
    "- Lab 7: Lists and tuples\n",
    "- Lab 8: Strings\n",
    "- Lab 9: Dictionaries\n",
    "- Lab 10: Files\n",
    "\n",
    "Deadline (approximate): April 06-2024\n"
   ]
  },
  {
   "cell_type": "code",
   "execution_count": 5,
   "metadata": {},
   "outputs": [
    {
     "name": "stdout",
     "output_type": "stream",
     "text": [
      "Exercises with 0 marks have solution given as examples.\n",
      "L7exercise1\t0.0\n",
      "L7exercise2\t0.0\n",
      "L7exercise3\t0.5263157894736842\n",
      "L7exercise4\t0.5263157894736842\n",
      "L7exercise5\t0.5263157894736842\n",
      "L5exercise5b\t0.5263157894736842\n",
      "L5exercise6\t0.5263157894736842\n",
      "L5exercise7\t0.0\n",
      "L5exercise8\t0.5263157894736842\n",
      "L5exercise9\t0.5263157894736842\n",
      "L5exercise10\t0.5263157894736842\n",
      "L6exercise3\t0.0\n",
      "L6exercise14\t0.5263157894736842\n",
      "L6exercise15\t1.0526315789473684\n",
      "L6exercise16\t1.0526315789473684\n",
      "L6exercise17\t3.1578947368421053\n",
      "Total\t10.0\n"
     ]
    }
   ],
   "source": [
    "## Rubric will be here\n",
    "print(\"Exercises with 0 marks have solution given as examples.\")\n",
    "# This rubric will be modified as the course progresses\n",
    "# create a dictionary with key as the exercise name and values the grade for the exercis\n",
    "grades = {\"L7exercise1\": 0, \"L7exercise2\": 0, \"L7exercise3\": 0.5, \"L7exercise4\": 0.5,\n",
    "          \"L7exercise5\": 0.5, \"L5exercise5b\": 0.5, \"L5exercise6\": 0.5,\n",
    "          \"L5exercise7\": 0, \"L5exercise8\": 0.5, \"L5exercise9\": 0.5, \"L5exercise10\": 0.5, \n",
    "          \"L6exercise3\": 0, \"L6exercise14\": 0.5, \"L6exercise15\": 1, \"L6exercise16\": 1, \n",
    "          \"L6exercise17\": 3 }\n",
    "# scale the grades such that the total is 10\n",
    "total = 0\n",
    "for grade in grades.values():\n",
    "    total += grade\n",
    "scale = 10 / total\n",
    "for key in grades:\n",
    "    grades[key] *= scale\n",
    "# print the grades with two columns, first is the exercise name and second the grade\n",
    "for key, value in grades.items():\n",
    "    print(key, value, sep=\"\\t\")\n",
    "# print the total grade\n",
    "print(\"Total\", sum(grades.values()), sep=\"\\t\")\n"
   ]
  },
  {
   "cell_type": "markdown",
   "metadata": {},
   "source": [
    "## Topic 7 - Lists and tuples\n",
    "### Exercise 1) Total Sales (given as example)\n",
    "Suppose you are a salesman and, at the end of the day, you have sold four\n",
    "items. Each item was priced as follows:\n",
    "$15.99, $17.01, $9.99, and $13.89.\n",
    "Define a list containing the price of every item you sold.\n",
    "Then, write a function that will return your total sales for the day."
   ]
  },
  {
   "cell_type": "code",
   "execution_count": 1,
   "metadata": {},
   "outputs": [
    {
     "name": "stdout",
     "output_type": "stream",
     "text": [
      "You made 56.88 in sales today.\n"
     ]
    }
   ],
   "source": [
    "def totalSales(salestList):\n",
    "    total = 0\n",
    "    for sale in salestList:\n",
    "        total += sale\n",
    "    return total\n",
    "\n",
    "salesToday = [15.99, 17.01, 9.99, 13.89]\n",
    "totalSalesToday = totalSales(salesToday)\n",
    "print(\"You made %.2f in sales today.\" %totalSalesToday)"
   ]
  },
  {
   "cell_type": "markdown",
   "metadata": {},
   "source": [
    "## Exercise 2) Census program (Print genders)\n",
    "In the code provided \"CensusExercise_StubCode.py”, you will find templates for the functions required below.\n",
    "Print the entire gender list using a loop.\n",
    "A sample output for one citizen would be “Citizen 3 is a female.”"
   ]
  },
  {
   "cell_type": "code",
   "execution_count": 2,
   "metadata": {},
   "outputs": [
    {
     "name": "stdout",
     "output_type": "stream",
     "text": [
      "Citizen 1 is male\n",
      "Citizen 2 is female\n",
      "Citizen 3 is female\n",
      "Citizen 4 is female\n",
      "Citizen 5 is male\n",
      "Citizen 6 is female\n"
     ]
    }
   ],
   "source": [
    "genders = [\"male\", \"female\", \"female\", \"female\", \"male\", \"female\"]\n",
    "citizen_number = 1\n",
    "for one_gender in genders:\n",
    "    print(\"Citizen %d is %s\" %(citizen_number, one_gender))\n",
    "    citizen_number += 1"
   ]
  },
  {
   "cell_type": "markdown",
   "metadata": {},
   "source": [
    "## Exercise 3) Census program (Count Genders)\n",
    "Using the code provided, define the countGenders() function.\n",
    "A list of genders for 6 different citizens has already been provided in the\n",
    "program’s main() function. Pass it as a parameter to countGenders() and\n",
    "return the number of males and the number of females."
   ]
  },
  {
   "cell_type": "code",
   "execution_count": null,
   "metadata": {},
   "outputs": [],
   "source": []
  },
  {
   "cell_type": "markdown",
   "metadata": {},
   "source": [
    "## Exercise 4) Census program (Average Citizen Age)\n",
    "Using the code provided, define the averageAge() function.\n",
    "First, you will need to define a list of ages for your current 6 citizens - you\n",
    "should do this in main(), as indicated by the comment.\n",
    "The ages should be as follows: 15, 26, 40, 82, 3, and 21.\n",
    "Then, you should pass this list to your averageAge() function, which should\n",
    "return the calculated average age. Print the value in main()!"
   ]
  },
  {
   "cell_type": "code",
   "execution_count": null,
   "metadata": {},
   "outputs": [],
   "source": []
  },
  {
   "cell_type": "markdown",
   "metadata": {},
   "source": [
    "## Exercise 5) Census Program (Age Demographics)\n",
    "Using the code provided, define the ageDemographics() function.\n",
    "This function should take the age list as a parameter and return the number of\n",
    "children (ages 0-17), adults (ages 18-64), and seniors (ages 65+)."
   ]
  },
  {
   "cell_type": "code",
   "execution_count": null,
   "metadata": {},
   "outputs": [],
   "source": []
  },
  {
   "cell_type": "markdown",
   "metadata": {},
   "source": [
    "# PART 2: \n"
   ]
  },
  {
   "cell_type": "markdown",
   "metadata": {},
   "source": []
  }
 ],
 "metadata": {
  "kernelspec": {
   "display_name": "general",
   "language": "python",
   "name": "python3"
  },
  "language_info": {
   "codemirror_mode": {
    "name": "ipython",
    "version": 3
   },
   "file_extension": ".py",
   "mimetype": "text/x-python",
   "name": "python",
   "nbconvert_exporter": "python",
   "pygments_lexer": "ipython3",
   "version": "3.11.0"
  }
 },
 "nbformat": 4,
 "nbformat_minor": 2
}
