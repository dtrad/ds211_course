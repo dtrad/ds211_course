{
 "cells": [
  {
   "cell_type": "markdown",
   "metadata": {},
   "source": [
    "# In Class Exercises 4 (replacement for Assignent 4)\n",
    "### Labs 9, 10\n",
    "- Lab 9: Dictionaries\n",
    "- Lab 10: Files\n",
    "\n",
    "Deadline (approximate): April 10-2024\n"
   ]
  },
  {
   "cell_type": "code",
   "execution_count": 1,
   "metadata": {},
   "outputs": [
    {
     "name": "stdout",
     "output_type": "stream",
     "text": [
      "Exercises with 0 marks have solution given as examples.\n",
      "L9exercise1\t0.0\n",
      "L9exercise2\t0.5\n",
      "L9exercise3\t0.5\n",
      "L9exercise4\t0.5\n",
      "L9exercise5\t0.5\n",
      "L9exercise6\t0.5\n",
      "L9exercise7\t0.5\n",
      "L9exercise8\t1.0\n",
      "L9exercise9\t1.0\n",
      "L9exercise10\t1.0\n",
      "L10exercise1\t0.0\n",
      "L10exercise2\t0.5\n",
      "L10exercise3\t0.5\n",
      "L10exercise4\t1.0\n",
      "L10exercise5\t1.0\n",
      "L10exercise6\t1.0\n",
      "Total\t10.0\n"
     ]
    }
   ],
   "source": [
    "print(\"Exercises with 0 marks have solution given as examples.\")\n",
    "# This rubric will be modified as the course progresses\n",
    "# create a dictionary with key as the exercise name and values the grade for the exercis\n",
    "grades = {\"L9exercise1\": 0, \"L9exercise2\": 0.5, \"L9exercise3\": 0.5, \"L9exercise4\": 0.5,\n",
    "          \"L9exercise5\": 0.5, \"L9exercise6\": 0.5, \"L9exercise7\": 0.5, \"L9exercise8\": 1,\n",
    "          \"L9exercise9\": 1, \"L9exercise10\": 1,\n",
    "          \"L10exercise1\": 0, \"L10exercise2\": 0.5, \"L10exercise3\": 0.5, \"L10exercise4\": 1,\n",
    "          \"L10exercise5\": 1, \"L10exercise6\": 1}\n",
    "# scale the grades such that the total is 10\n",
    "total = 0\n",
    "for grade in grades.values():\n",
    "    total += grade\n",
    "scale = 10 / total\n",
    "for key in grades:\n",
    "    grades[key] *= scale\n",
    "# print the grades with two columns, first is the exercise name and second the grade\n",
    "for key, value in grades.items():\n",
    "    print(key, value, sep=\"\\t\")\n",
    "# print the total grade\n",
    "print(\"Total\", sum(grades.values()), sep=\"\\t\")\n"
   ]
  },
  {
   "cell_type": "markdown",
   "metadata": {},
   "source": [
    "# Topic 9: Dictionaries\n",
    "## Exercise 1) Define Inventory Dictionaries\n",
    "You operate a small chain of candy stores which needs a program to track inventory.\\\n",
    "There are three locations: Downtown, South, and East.\\\n",
    "In the main() function, define a dictionary to store the inventories for each location, \\\n",
    "where the items are distributed as follows:\n",
    "\n",
    "Downtown: \n",
    "- 321 Skittles\n",
    "- 201 Mars Bars\n",
    "\n",
    "South:\n",
    "- 103 Skittles\n",
    "- 232 Sour Patch Kids\n",
    "- 203 Crunchy Bars\n",
    "\n",
    "East:\n",
    "- No inventory\n",
    "\n"
   ]
  },
  {
   "cell_type": "code",
   "execution_count": 2,
   "metadata": {},
   "outputs": [],
   "source": [
    "# ------ INVENTORY DICTIONARIES ------\n",
    "downtown_inventory = {\"Skittles\": 321, \"Mars\": 201}\n",
    "south_inventory = {\"Skittles\": 103, \"Sour Patch Kids\": 232, \"Crunchy\": 203}\n",
    "east_inventory = {}\n"
   ]
  },
  {
   "cell_type": "markdown",
   "metadata": {},
   "source": [
    "## Exercise 2) Print the Inventory\n",
    "Building on Exercise 1, define the function print_inventory() that will print the inventory in a formatted manner.\\\n",
    "This function should take one dictionary and the name of that dictionary as parameters. It should not return any values.\n"
   ]
  },
  {
   "cell_type": "code",
   "execution_count": null,
   "metadata": {},
   "outputs": [],
   "source": []
  },
  {
   "cell_type": "code",
   "execution_count": null,
   "metadata": {},
   "outputs": [],
   "source": []
  },
  {
   "cell_type": "markdown",
   "metadata": {},
   "source": [
    "## Exercise 3) Add an Inventory Item\n",
    "Suppose a new inventory item was introduced at a specific store location. Define the function add_candy().\\\n",
    "The parameters should be the inventory you wish to modify, the name of the new candy, and the starting \\\n",
    "inventory count for that candy. It should not return any values.\n"
   ]
  },
  {
   "cell_type": "code",
   "execution_count": null,
   "metadata": {},
   "outputs": [],
   "source": []
  },
  {
   "cell_type": "markdown",
   "metadata": {},
   "source": [
    "## Exercise 4) Build an Inventory\n",
    "The managers of each location will enter the inventory from scratch each time the inventory count is redone.\\\n",
    "Define the a function that prompts the manager for the name and amount of each candy bar they have in stock and adds it to the given inventory. \\\n",
    "Terminate when the manager enters “none” for the candy. Note) You should use the helper function add_candy().\n"
   ]
  },
  {
   "cell_type": "code",
   "execution_count": null,
   "metadata": {},
   "outputs": [],
   "source": []
  },
  {
   "cell_type": "code",
   "execution_count": null,
   "metadata": {},
   "outputs": [],
   "source": []
  },
  {
   "cell_type": "markdown",
   "metadata": {},
   "source": [
    "## Exercise 5) Total Inventory Count\n",
    "Imagine that you need an idea of approximately how many individual items you are currently selling.\\\n",
    "Define the a function that returns the total inventory count of every item for a given inventory \\\n",
    "(i.e. add up the inventory count for every item and return the total number of items in the store).\\\n",
    "Think) What should the parameters be?\n"
   ]
  },
  {
   "cell_type": "code",
   "execution_count": null,
   "metadata": {},
   "outputs": [],
   "source": []
  },
  {
   "cell_type": "code",
   "execution_count": null,
   "metadata": {},
   "outputs": [],
   "source": [
    "\n"
   ]
  },
  {
   "cell_type": "markdown",
   "metadata": {},
   "source": [
    "## Exercise 6) Candy Varieties\n",
    "You want to compare the diversity of candies offered at each of the three locations -- which one has the most options?\\\n",
    "Write a function that will print a statement specifying which location has the most diverse inventory.\\\n",
    "Think) What should the parameters be?\n"
   ]
  },
  {
   "cell_type": "code",
   "execution_count": null,
   "metadata": {},
   "outputs": [],
   "source": []
  },
  {
   "cell_type": "markdown",
   "metadata": {},
   "source": [
    "## Exercise 7) Discontinue an Item\n",
    "You have decided to discontinue the sale of Mars bars at all locations.\\\n",
    "To do this, you should write the general function that takes candy name as a parameter and removes that candy from each inventory.\\\n",
    "Back in main(), call that function with the parameter “Mars”.\n"
   ]
  },
  {
   "cell_type": "code",
   "execution_count": null,
   "metadata": {},
   "outputs": [],
   "source": []
  },
  {
   "cell_type": "markdown",
   "metadata": {},
   "source": [
    "## Exercise 8) Update Inventory Count\n",
    "Define a function that will change the inventory count for a specific type of candy at a given location.\n",
    "Think) What should the parameters be? Should the function return any values?\n"
   ]
  },
  {
   "cell_type": "code",
   "execution_count": null,
   "metadata": {},
   "outputs": [],
   "source": []
  },
  {
   "cell_type": "markdown",
   "metadata": {},
   "source": [
    "## Exercise 9) Consolidate Inventories\n",
    "Suppose you are closing the three independent locations and opening one mega-candy store instead.\\\n",
    "Write a function that will join all three inventory dictionaries into one dictionary representing the inventories of all locations. \\\n",
    "This function should return the resulting inventory. You may want to write a helper function to reduce code duplication.\n"
   ]
  },
  {
   "cell_type": "code",
   "execution_count": null,
   "metadata": {},
   "outputs": [],
   "source": []
  },
  {
   "cell_type": "markdown",
   "metadata": {},
   "source": [
    "## Exercise 10) Nested Dictionaries (Advanced)\n",
    "Similar to how we made the lists in our census data into a 2D list to manage the data better, let’s do the same for our dictionaries!\\\n",
    "Instead of having multiple dictionaries per location, combine all three locations into a single dictionary \\\n",
    "all_inventories where the key is the location name and the value is an inventory dictionary.\\\n",
    "Which functions need to change to make this work?\n"
   ]
  },
  {
   "cell_type": "code",
   "execution_count": null,
   "metadata": {},
   "outputs": [],
   "source": []
  },
  {
   "cell_type": "markdown",
   "metadata": {},
   "source": [
    "# Topic 10: Files IO\n",
    "## Exercise 1) Citizen Information\n",
    "Using the provided .csv (comma separated value) file, read in the citizen information and store it in a list.\\\n",
    "Each element of that list should contain information about a single citizen. \\\n",
    "Once you have the information stored, don’t forget to close your file."
   ]
  },
  {
   "cell_type": "code",
   "execution_count": 40,
   "metadata": {},
   "outputs": [
    {
     "name": "stdout",
     "output_type": "stream",
     "text": [
      "['Doe,John,Male,03/19/1968\\n', 'Smith,Mary,Female,10/22/1970\\n', 'Henderson,Sally,Female,02/02/1986\\n', 'Davidson,Thomas,Male,07/31/1995\\n', 'Summers,Anne,Female,09/23/1950\\n', 'Williams,Frank,Male,03/26/1972\\n', 'Goldsmith,Samantha,Female,10/12/2002\\n']\n"
     ]
    }
   ],
   "source": [
    "# open the file in READ mode\n",
    "csv_file = open(\"citizens.csv\", mode='r')\n",
    "file_lines = csv_file.readlines() # read all of the lines in one go\n",
    "file_lines = file_lines[1:] # remove the first element of the list, which contains labels\n",
    "print(file_lines)\n",
    "csv_file.close()\n",
    "# don't forget to close the file when you are done with it!!"
   ]
  },
  {
   "cell_type": "markdown",
   "metadata": {},
   "source": [
    "## Exercise 2) Cleaning Lines\n",
    "Try printing your list; you should notice that you have extra newline characters “\\n” at the end of each list element.\\\n",
    "Using one of many possible string methods, see if you can remove that extra whitespace from each line in your list!"
   ]
  },
  {
   "cell_type": "code",
   "execution_count": null,
   "metadata": {},
   "outputs": [],
   "source": []
  },
  {
   "cell_type": "code",
   "execution_count": null,
   "metadata": {},
   "outputs": [],
   "source": []
  },
  {
   "cell_type": "markdown",
   "metadata": {},
   "source": [
    "## Part II: writing to a file\n",
    "### Exercise 3) Number of Citizens\n",
    "We want to record some information about our citizens for referencing later. \\\n",
    "So, open a file called “citizen_information.txt” that we will be writing to. \\\n",
    "To test it, try writing the number of citizens to that file!"
   ]
  },
  {
   "cell_type": "code",
   "execution_count": null,
   "metadata": {},
   "outputs": [],
   "source": [
    "\n"
   ]
  },
  {
   "cell_type": "markdown",
   "metadata": {},
   "source": [
    "## Exercise 4) First Names of Citizens\n",
    "Using that same file, try to write the first names of every citizen in the list.\\\n",
    "Make sure to format your output nicely, such as labeling what each part of the file is and having each first name on its own line.\\\n",
    "Since this is all we need to do for this file for now, don’t forget to close it."
   ]
  },
  {
   "cell_type": "code",
   "execution_count": null,
   "metadata": {},
   "outputs": [],
   "source": []
  },
  {
   "cell_type": "markdown",
   "metadata": {},
   "source": [
    "## Exercise 5) Last Names of Citizens\n",
    "Suppose, without closing the file, we decided we want to print the last names instead of the first names. \\\n",
    "Using seek(0), try to rewrite the entire file but print last name instead of \\\n",
    "the first name in the second part (this is not good style, but let’s do it for fun \\\n",
    "to see what happens)! And, once you are done, don’t forget to close the file."
   ]
  },
  {
   "cell_type": "code",
   "execution_count": null,
   "metadata": {},
   "outputs": [],
   "source": []
  },
  {
   "cell_type": "code",
   "execution_count": null,
   "metadata": {},
   "outputs": [],
   "source": []
  },
  {
   "cell_type": "markdown",
   "metadata": {},
   "source": [
    "## Part III: append to a file\n",
    "### Exercise 6) Update Citizen File (using append)\n",
    "Let’s say we wanted to add a new citizen to our .csv file from earlier. \\\n",
    "By opening that file in append mode, see if you can add a new citizen! \\\n",
    "Remember to keep the styling of that citizen consistent with the rest of the file.\n"
   ]
  },
  {
   "cell_type": "code",
   "execution_count": null,
   "metadata": {},
   "outputs": [],
   "source": []
  },
  {
   "cell_type": "markdown",
   "metadata": {},
   "source": []
  }
 ],
 "metadata": {
  "kernelspec": {
   "display_name": "general",
   "language": "python",
   "name": "python3"
  },
  "language_info": {
   "codemirror_mode": {
    "name": "ipython",
    "version": 3
   },
   "file_extension": ".py",
   "mimetype": "text/x-python",
   "name": "python",
   "nbconvert_exporter": "python",
   "pygments_lexer": "ipython3",
   "version": "3.11.0"
  }
 },
 "nbformat": 4,
 "nbformat_minor": 2
}
