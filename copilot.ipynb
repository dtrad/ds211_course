{
 "cells": [
  {
   "cell_type": "markdown",
   "metadata": {},
   "source": [
    "## Jupyter Notebooks\n",
    "This is a first example of converting a python program into a notebook."
   ]
  },
  {
   "cell_type": "code",
   "execution_count": 7,
   "metadata": {},
   "outputs": [],
   "source": [
    "# write the website URL for reference for Jupyter Notebooks\n",
    "# https://www.dataquest.io/blog/jupyter-notebook-tutorial/"
   ]
  },
  {
   "cell_type": "code",
   "execution_count": 1,
   "metadata": {},
   "outputs": [],
   "source": [
    "# Create a list of 10 countries with earthquakes in the last 24 hours from the following website \n",
    "# https://www.volcanodiscovery.com/earthquakes/today.html\n",
    "earthquakes = ['Indonesia', 'Japan', 'Philippines', 'Chile', 'Alaska', 'Papua New Guinea', 'Mexico', 'New Zealand', 'Tonga', 'Taiwan']"
   ]
  },
  {
   "cell_type": "code",
   "execution_count": 2,
   "metadata": {},
   "outputs": [],
   "source": [
    "# Create another list with the magnitude of earthquakes, the number of earthquakes should be the same as the country name in the list created above \n",
    "magnitude = [5.1, 4.8, 4.5, 4.2, 4.1, 4.0, 3.9, 3.8, 3.7, 3.6]"
   ]
  },
  {
   "cell_type": "code",
   "execution_count": 3,
   "metadata": {},
   "outputs": [
    {
     "name": "stdout",
     "output_type": "stream",
     "text": [
      "['Indonesia', 'Japan', 'Philippines', 'Chile', 'Alaska', 'Papua New Guinea', 'Mexico', 'New Zealand', 'Tonga', 'Taiwan'] [5.1, 4.8, 4.5, 4.2, 4.1, 4.0, 3.9, 3.8, 3.7, 3.6]\n"
     ]
    }
   ],
   "source": [
    "# Print the list of countries and their corresponding magnitude of earthquakes\n",
    "print(earthquakes, magnitude)"
   ]
  },
  {
   "cell_type": "code",
   "execution_count": 4,
   "metadata": {},
   "outputs": [],
   "source": [
    "# create a dictionary with the country as the key and the magnitude as the value\n",
    "earthquake_dict = dict(zip(earthquakes, magnitude))"
   ]
  },
  {
   "cell_type": "code",
   "execution_count": 5,
   "metadata": {},
   "outputs": [
    {
     "name": "stdout",
     "output_type": "stream",
     "text": [
      "{'Indonesia': 5.1, 'Japan': 4.8, 'Philippines': 4.5, 'Chile': 4.2, 'Alaska': 4.1, 'Papua New Guinea': 4.0, 'Mexico': 3.9, 'New Zealand': 3.8, 'Tonga': 3.7, 'Taiwan': 3.6}\n"
     ]
    }
   ],
   "source": [
    "# Print the dictionary after sorting by magnitude\n",
    "print(earthquake_dict)"
   ]
  },
  {
   "cell_type": "code",
   "execution_count": 6,
   "metadata": {},
   "outputs": [
    {
     "name": "stdout",
     "output_type": "stream",
     "text": [
      "Indonesia\n"
     ]
    }
   ],
   "source": [
    "# Print the country with the highest magnitude of earthquake\n",
    "print(max(earthquake_dict, key=earthquake_dict.get))"
   ]
  }
 ],
 "metadata": {
  "kernelspec": {
   "display_name": "tfgpu3",
   "language": "python",
   "name": "python3"
  },
  "language_info": {
   "codemirror_mode": {
    "name": "ipython",
    "version": 3
   },
   "file_extension": ".py",
   "mimetype": "text/x-python",
   "name": "python",
   "nbconvert_exporter": "python",
   "pygments_lexer": "ipython3",
   "version": "3.9.5"
  }
 },
 "nbformat": 4,
 "nbformat_minor": 2
}
