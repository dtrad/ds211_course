{
 "cells": [
  {
   "cell_type": "code",
   "execution_count": 1,
   "metadata": {},
   "outputs": [
    {
     "data": {
      "image/png": "[encoded data removed]",
      "text/plain": [
       "<Figure size 432x288 with 1 Axes>"
      ]
     },
     "metadata": {
      "needs_background": "light"
     },
     "output_type": "display_data"
    }
   ],
   "source": [
    "# create a function to generate a error bar for a x,y data set\n",
    "def errorbar(x,y,dy,fmt='ro'):\n",
    "    from pylab import plot,errorbar,show\n",
    "    plot(x,y,fmt)\n",
    "    for i in range(len(x)):\n",
    "        errorbar([x[i]],[y[i]],yerr=[dy[i]],fmt='ro')\n",
    "    show()\n",
    "# test the function\n",
    "x=[1,2,3,4]\n",
    "y=[1,2,3,4]\n",
    "dy=[0.1,0.2,0.1,0.2]\n",
    "errorbar(x,y,dy)"
   ]
  }
 ],
 "metadata": {
  "kernelspec": {
   "display_name": "tfgpu3",
   "language": "python",
   "name": "python3"
  },
  "language_info": {
   "codemirror_mode": {
    "name": "ipython",
    "version": 3
   },
   "file_extension": ".py",
   "mimetype": "text/x-python",
   "name": "python",
   "nbconvert_exporter": "python",
   "pygments_lexer": "ipython3",
   "version": "3.9.5"
  }
 },
 "nbformat": 4,
 "nbformat_minor": 2
}
