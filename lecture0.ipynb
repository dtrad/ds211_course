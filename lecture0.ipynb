{
 "cells": [
  {
   "cell_type": "code",
   "execution_count": 1,
   "metadata": {},
   "outputs": [
    {
     "name": "stdout",
     "output_type": "stream",
     "text": [
      "Addition: 10 + 5 = 15\n",
      "Subtraction: 10 - 5 = 5\n",
      "Multiplication: 10 * 5 = 50\n",
      "Division: 10 / 5 = 2.0\n",
      "Floor Division: 10 // 5 = 2\n",
      "Modulus: 10 % 5 = 0\n",
      "Exponentiation: 10 ** 5 = 100000\n"
     ]
    }
   ],
   "source": [
    "# Basic Arithmetic Operations Example\n",
    "\n",
    "# Define two numbers\n",
    "num1 = 10\n",
    "num2 = 5\n",
    "\n",
    "# Addition\n",
    "addition = num1 + num2\n",
    "print(f\"Addition: {num1} + {num2} = {addition}\")\n",
    "\n",
    "# Subtraction\n",
    "subtraction = num1 - num2\n",
    "print(f\"Subtraction: {num1} - {num2} = {subtraction}\")\n",
    "\n",
    "# Multiplication\n",
    "multiplication = num1 * num2\n",
    "print(f\"Multiplication: {num1} * {num2} = {multiplication}\")\n",
    "\n",
    "# Division\n",
    "division = num1 / num2\n",
    "print(f\"Division: {num1} / {num2} = {division}\")\n",
    "\n",
    "# Floor Division\n",
    "floor_division = num1 // num2\n",
    "print(f\"Floor Division: {num1} // {num2} = {floor_division}\")\n",
    "\n",
    "# Modulus\n",
    "modulus = num1 % num2\n",
    "print(f\"Modulus: {num1} % {num2} = {modulus}\")\n",
    "\n",
    "# Exponentiation\n",
    "exponentiation = num1 ** num2\n",
    "print(f\"Exponentiation: {num1} ** {num2} = {exponentiation}\")"
   ]
  },
  {
   "cell_type": "code",
   "execution_count": 2,
   "metadata": {},
   "outputs": [
    {
     "name": "stdout",
     "output_type": "stream",
     "text": [
      "New Balance: 900\n"
     ]
    }
   ],
   "source": [
    "# create an example of a bank account\n",
    "balance = 1000\n",
    "withdrawal = 100\n",
    "new_balance = balance - withdrawal\n",
    "print(f\"New Balance: {new_balance}\")\n"
   ]
  },
  {
   "cell_type": "code",
   "execution_count": 3,
   "metadata": {},
   "outputs": [
    {
     "name": "stdout",
     "output_type": "stream",
     "text": [
      "Initial Balance: 1000\n",
      "Deposited: 200\n",
      "Balance after deposit: 1200\n",
      "Withdrew: 150\n",
      "Balance after withdrawal: 1050\n"
     ]
    }
   ],
   "source": [
    "class BankAccount:\n",
    "    def __init__(self, balance=0):\n",
    "        self.balance = balance\n",
    "\n",
    "    def deposit(self, amount):\n",
    "        if amount > 0:\n",
    "            self.balance += amount\n",
    "            print(f\"Deposited: {amount}\")\n",
    "        else:\n",
    "            print(\"Deposit amount must be positive\")\n",
    "\n",
    "    def withdraw(self, amount):\n",
    "        if 0 < amount <= self.balance:\n",
    "            self.balance -= amount\n",
    "            print(f\"Withdrew: {amount}\")\n",
    "        else:\n",
    "            print(\"Insufficient funds or invalid withdrawal amount\")\n",
    "\n",
    "    def get_balance(self):\n",
    "        return self.balance\n",
    "\n",
    "# Example usage\n",
    "account = BankAccount(balance)\n",
    "print(f\"Initial Balance: {account.get_balance()}\")\n",
    "account.deposit(200)\n",
    "print(f\"Balance after deposit: {account.get_balance()}\")\n",
    "account.withdraw(150)\n",
    "print(f\"Balance after withdrawal: {account.get_balance()}\")"
   ]
  }
 ],
 "metadata": {
  "kernelspec": {
   "display_name": "base",
   "language": "python",
   "name": "python3"
  },
  "language_info": {
   "codemirror_mode": {
    "name": "ipython",
    "version": 3
   },
   "file_extension": ".py",
   "mimetype": "text/x-python",
   "name": "python",
   "nbconvert_exporter": "python",
   "pygments_lexer": "ipython3",
   "version": "3.12.7"
  }
 },
 "nbformat": 4,
 "nbformat_minor": 2
}
