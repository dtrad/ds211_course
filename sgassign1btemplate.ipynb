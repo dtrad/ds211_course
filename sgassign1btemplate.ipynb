{
 "cells": [
  {
   "cell_type": "markdown",
   "metadata": {},
   "source": [
    "## Template for Assignment 1-part b. \n",
    "### (no need to use this template)\n",
    "### Draw an Envelope as explained in lab 3 using notebooks \n",
    "In this case let us import the class SimpleGraphics with a name so we can understand its functions.\\\n",
    "When the class is created, by default it builds a new window.\\\n",
    "If you have one already, you may need to clear it before start drawing.\\\n",
    "Also, you can close it and create a new one."
   ]
  },
  {
   "cell_type": "code",
   "execution_count": null,
   "metadata": {},
   "outputs": [],
   "source": [
    "import SimpleGraphics as SG\n",
    "SG.clear()"
   ]
  },
  {
   "cell_type": "code",
   "execution_count": null,
   "metadata": {},
   "outputs": [],
   "source": [
    "# First, let's draw the rectangle part of our envelope\n",
    "ENVELOPE_X = 75 # this is the x-coordinate of the top left corner\n",
    "ENVELOPE_Y = 200 # this is the y-coordinate of the top left corner\n",
    "ENVELOPE_WIDTH = 650 # this is how WIDE we want our envelope to be\n",
    "ENVELOPE_HEIGHT = 300 # this is how TALL we want our envelope to be\n",
    "#SG.setFill() # this is the colour of the inside\n",
    "#SG.setOutline() # this is the colour of the border\n",
    "#SG.rect() # draw the rectangle"
   ]
  },
  {
   "cell_type": "code",
   "execution_count": null,
   "metadata": {},
   "outputs": [],
   "source": [
    "# now, let's draw the triangle part of our envelope\n",
    "# I want the triangle to start at the top left corner of the rectangle, so I will\n",
    "# set their starting points to be the same value!"
   ]
  },
  {
   "cell_type": "code",
   "execution_count": null,
   "metadata": {},
   "outputs": [],
   "source": [
    "# Now, let's finish off our triangle by feeding it the end points:\n",
    "end_x = start_x + ENVELOPE_WIDTH # starting point + width\n",
    "end_y = ENVELOPE_Y # go back down to meet with the rectangle\n",
    "#SG.polygon() # draw the triangle"
   ]
  },
  {
   "cell_type": "code",
   "execution_count": null,
   "metadata": {},
   "outputs": [],
   "source": [
    "# write the text to put on the envelope\n",
    "SENDER_NAME = \"Sender Name\"\n",
    "SENDER_ADDRESS = \"Sender Address\" "
   ]
  },
  {
   "cell_type": "code",
   "execution_count": null,
   "metadata": {},
   "outputs": [],
   "source": [
    "# write the text on the envelope\n",
    "#SG.text()\n",
    "#SG.text()"
   ]
  },
  {
   "cell_type": "markdown",
   "metadata": {},
   "source": [
    "### Exercise 4d) Put a Stamp on your Envelope (Optional)"
   ]
  },
  {
   "cell_type": "code",
   "execution_count": null,
   "metadata": {},
   "outputs": [],
   "source": [
    "# load the image of the stamp and put it on the envelope\n",
    "#img = SG.loadImage(\"stamp.png\") # load the image"
   ]
  },
  {
   "cell_type": "code",
   "execution_count": null,
   "metadata": {},
   "outputs": [],
   "source": [
    "#SG.drawImage(img, stamp_x, stamp_y) # now, draw the image!"
   ]
  },
  {
   "cell_type": "code",
   "execution_count": null,
   "metadata": {},
   "outputs": [],
   "source": [
    "SG.clear()"
   ]
  },
  {
   "cell_type": "code",
   "execution_count": null,
   "metadata": {},
   "outputs": [],
   "source": [
    "SG.close()"
   ]
  }
 ],
 "metadata": {
  "kernelspec": {
   "display_name": "general",
   "language": "python",
   "name": "python3"
  },
  "language_info": {
   "codemirror_mode": {
    "name": "ipython",
    "version": 3
   },
   "file_extension": ".py",
   "mimetype": "text/x-python",
   "name": "python",
   "nbconvert_exporter": "python",
   "pygments_lexer": "ipython3",
   "version": "3.9.5"
  }
 },
 "nbformat": 4,
 "nbformat_minor": 2
}
