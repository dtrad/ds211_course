{
 "cells": [
  {
   "cell_type": "markdown",
   "metadata": {},
   "source": [
    "### Write your tests in this notebook\n",
    "Remember to save the notebook into your disk if you want to keep it."
   ]
  },
  {
   "cell_type": "code",
   "execution_count": 3,
   "metadata": {},
   "outputs": [
    {
     "name": "stdout",
     "output_type": "stream",
     "text": [
      "1 2 None\n"
     ]
    }
   ],
   "source": [
    "def test(a, b):\n",
    "    a+=b\n",
    "    return\n",
    "\n",
    "# test the function below\n",
    "a = 1\n",
    "b = 2\n",
    "print(a, b, test(a, b))"
   ]
  }
 ],
 "metadata": {
  "kernelspec": {
   "display_name": "tfgpu3",
   "language": "python",
   "name": "python3"
  },
  "language_info": {
   "codemirror_mode": {
    "name": "ipython",
    "version": 3
   },
   "file_extension": ".py",
   "mimetype": "text/x-python",
   "name": "python",
   "nbconvert_exporter": "python",
   "pygments_lexer": "ipython3",
   "version": "3.9.5"
  }
 },
 "nbformat": 4,
 "nbformat_minor": 2
}
